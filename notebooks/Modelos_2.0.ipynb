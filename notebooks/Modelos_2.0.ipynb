{
 "cells": [
  {
   "cell_type": "markdown",
   "id": "d3a99a2a",
   "metadata": {},
   "source": [
    "### Lectura y limpieza de datos "
   ]
  },
  {
   "cell_type": "code",
   "execution_count": 12,
   "id": "4b131802",
   "metadata": {},
   "outputs": [],
   "source": [
    "import pandas as pd \n",
    "import os\n",
    "import numpy as np\n",
    "import re\n",
    "from nltk.corpus import stopwords\n",
    "import nltk\n",
    "try:\n",
    "    stopwords.words('spanish')\n",
    "except LookupError:\n",
    "    nltk.download('stopwords')\n",
    "\n",
    "ruta = \"../data\"\n",
    "archivo = os.path.join(ruta, \"Rest-Mex_2025_train.csv\") \n",
    "\n",
    "with open(archivo, 'r', encoding='utf-8', errors='replace') as f:\n",
    "    Data = pd.read_csv(f)\n",
    "\n",
    "#Arreglamos la mala lectura de los acentos debido a la codificación\n",
    "def arregla_mojibake(texto):\n",
    "    try:\n",
    "        return texto.encode('latin1').decode('utf-8')\n",
    "    except:\n",
    "        return texto  # Si falla la conversión, deja el texto igual\n",
    "\n",
    "Data['Title'] = Data['Title'].fillna('').apply(arregla_mojibake)\n",
    "Data['Review'] = Data['Review'].fillna('').apply(arregla_mojibake)\n",
    "\n",
    "stopwords_es = set(stopwords.words('spanish'))\n",
    "\n",
    "def limpiar_texto(texto):\n",
    "    texto = texto.lower()\n",
    "    texto = re.sub(r'[^a-zA-ZáéíóúÁÉÍÓÚñÑüÜ\\s]', '', texto)\n",
    "    palabras = texto.split()\n",
    "    palabras = [palabra for palabra in palabras if palabra not in stopwords_es]\n",
    "    return ' '.join(palabras).strip()\n",
    "\n",
    "Data['Texto_Limpio'] = (Data['Title'].fillna('') + ' ' + Data['Review'].fillna('')).apply(limpiar_texto)"
   ]
  },
  {
   "cell_type": "code",
   "execution_count": 13,
   "id": "1d024e27",
   "metadata": {},
   "outputs": [
    {
     "name": "stdout",
     "output_type": "stream",
     "text": [
      "alma michoacán así michoacán alma méxico janitzio alma michoacánsin duda sitio exponencial cultura purepecha verdad imagino maría félix rodaba película maclovia sitio imagino aún belleza época siga conservandode pueblos mágicos existen méxico duda favoritosi van ir día muertos vale pena ir lugar noche velan toda noche altares media noche culminaciónes económico tipo turismo lleno riqueza cultural duda encantará presumir amigos facebook colorido lugar\n"
     ]
    }
   ],
   "source": [
    "print(Data['Texto_Limpio'][30])"
   ]
  },
  {
   "cell_type": "markdown",
   "id": "82075ca2",
   "metadata": {},
   "source": [
    "### Representacion TF-iDF"
   ]
  },
  {
   "cell_type": "code",
   "execution_count": 14,
   "id": "4025274e",
   "metadata": {},
   "outputs": [
    {
     "name": "stdout",
     "output_type": "stream",
     "text": [
      "Matriz TF-IDF generada con forma: (208051, 2500)\n"
     ]
    }
   ],
   "source": [
    "from sklearn.feature_extraction.text import TfidfVectorizer # type: ignore\n",
    "\n",
    "def Representacion_TF_IDF(dataframe):\n",
    "    \"\"\"\n",
    "    Recibe un DataFrame con la columna 'Texto_Limpio'.\n",
    "    Retorna la matriz TF-IDF.\n",
    "    \"\"\"\n",
    "    textos = dataframe['Texto_Limpio'].fillna(\"\").values\n",
    "    \n",
    "    vectorizer = TfidfVectorizer(\n",
    "        max_features=2500,\n",
    "        ngram_range=(1, 2),\n",
    "        token_pattern=r'(?u)\\b[^\\d\\W]+\\b'\n",
    "    )\n",
    "    \n",
    "    X_tfidf = vectorizer.fit_transform(textos)\n",
    "    \n",
    "    print(f\"Matriz TF-IDF generada con forma: {X_tfidf.shape}\")\n",
    "    return X_tfidf, vectorizer\n",
    "\n",
    "X_tfidf, vectorizer = Representacion_TF_IDF(Data)"
   ]
  }
 ],
 "metadata": {
  "kernelspec": {
   "display_name": "base",
   "language": "python",
   "name": "python3"
  },
  "language_info": {
   "codemirror_mode": {
    "name": "ipython",
    "version": 3
   },
   "file_extension": ".py",
   "mimetype": "text/x-python",
   "name": "python",
   "nbconvert_exporter": "python",
   "pygments_lexer": "ipython3",
   "version": "3.12.7"
  }
 },
 "nbformat": 4,
 "nbformat_minor": 5
}
