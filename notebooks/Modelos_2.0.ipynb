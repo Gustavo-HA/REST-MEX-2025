{
 "cells": [
  {
   "cell_type": "markdown",
   "id": "d3a99a2a",
   "metadata": {},
   "source": [
    "### Lectura y limpieza de datos "
   ]
  },
  {
   "cell_type": "code",
   "execution_count": 5,
   "id": "4b131802",
   "metadata": {},
   "outputs": [],
   "source": [
    "import pandas as pd \n",
    "import os\n",
    "import numpy as np \n",
    "import re\n",
    "import unicodedata\n",
    "import nltk\n",
    "from nltk.corpus import stopwords\n",
    "\n",
    "# Aseguramos que las stopwords estén disponibles\n",
    "try:\n",
    "    stopwords.words('spanish')\n",
    "except LookupError:\n",
    "    nltk.download('stopwords')\n",
    "\n",
    "# Ruta de lectura\n",
    "ruta = \"../data\"\n",
    "archivo = os.path.join(ruta, \"Rest-Mex_2025_train.csv\") \n",
    "\n",
    "with open(archivo, 'r', encoding='utf-8', errors='replace') as f:\n",
    "    Data = pd.read_csv(f)\n",
    "\n",
    "# Arreglamos problemas de codificación\n",
    "def arregla_mojibake(texto):\n",
    "    try:\n",
    "        return texto.encode('latin1').decode('utf-8')\n",
    "    except:\n",
    "        return texto\n",
    "\n",
    "Data['Title'] = Data['Title'].fillna('').apply(arregla_mojibake)\n",
    "Data['Review'] = Data['Review'].fillna('').apply(arregla_mojibake)\n",
    "\n",
    "# Creamos columna base con texto leído y concatenado\n",
    "Data['Texto_Leido'] = (Data['Title'] + ' ' + Data['Review']).str.strip()\n",
    "\n",
    "# Función de limpieza profunda para modelos clásicos\n",
    "stopwords_es = set(stopwords.words('spanish'))\n",
    "\n",
    "def limpiar_texto(texto):\n",
    "    texto = texto.lower()\n",
    "    # Quitamos acentos\n",
    "    texto = unicodedata.normalize('NFD', texto)\n",
    "    texto = ''.join([char for char in texto if unicodedata.category(char) != 'Mn'])\n",
    "    # Eliminamos caracteres no alfabéticos\n",
    "    texto = re.sub(r'[^a-zñü\\s]', '', texto)\n",
    "    palabras = texto.split()\n",
    "    palabras = [p for p in palabras if p not in stopwords_es]\n",
    "    return ' '.join(palabras).strip()\n",
    "\n",
    "# Generamos columna limpia\n",
    "Data['Texto_Limpio'] = Data['Texto_Leido'].apply(limpiar_texto)\n",
    "\n",
    "# Eliminamos columnas originales\n",
    "Data = Data.drop(columns=['Title', 'Review'])"
   ]
  },
  {
   "cell_type": "code",
   "execution_count": 3,
   "id": "8df264ec",
   "metadata": {},
   "outputs": [
    {
     "name": "stdout",
     "output_type": "stream",
     "text": [
      "True\n",
      "NVIDIA GeForce RTX 3050 6GB Laptop GPU\n"
     ]
    }
   ],
   "source": [
    "import torch\n",
    "print(torch.cuda.is_available())  # True si está bien\n",
    "print(torch.cuda.get_device_name(0))  # Nombre de tu GPU\n"
   ]
  },
  {
   "cell_type": "markdown",
   "id": "7039d3cf",
   "metadata": {},
   "source": [
    "### Clasificacion con BETO"
   ]
  },
  {
   "cell_type": "code",
   "execution_count": 4,
   "id": "e5c53ee7",
   "metadata": {},
   "outputs": [],
   "source": [
    "import torch\n",
    "from sklearn.model_selection import train_test_split\n",
    "from sklearn.utils.class_weight import compute_class_weight\n",
    "from sklearn.metrics import accuracy_score, f1_score\n",
    "from transformers import (\n",
    "    AutoTokenizer,\n",
    "    AutoModelForSequenceClassification,\n",
    "    TrainingArguments,\n",
    "    Trainer\n",
    ")\n",
    "\n",
    "# 1. Cargar tokenizer\n",
    "tokenizer = AutoTokenizer.from_pretrained(\"dccuchile/bert-base-spanish-wwm-cased\")\n",
    "\n",
    "# 2. Asegurar que las etiquetas sean válidas (1 a 5) y convertirlas a 0-4\n",
    "Data = Data[Data['Polarity'].isin([1.0, 2.0, 3.0, 4.0, 5.0])]\n",
    "Data['label'] = Data['Polarity'].astype(int) - 1\n",
    "\n",
    "# 3. Split de datos\n",
    "train_texts, val_texts, train_labels, val_labels = train_test_split(\n",
    "    Data['Texto_Leido'].tolist(),\n",
    "    Data['label'].tolist(),\n",
    "    test_size=0.2,\n",
    "    stratify=Data['label']\n",
    ")\n",
    "\n",
    "# 4. Tokenización\n",
    "train_encodings = tokenizer(train_texts, truncation=True, padding=True, max_length=128)\n",
    "val_encodings = tokenizer(val_texts, truncation=True, padding=True, max_length=128)\n",
    "\n"
   ]
  },
  {
   "cell_type": "code",
   "execution_count": 5,
   "id": "4df0a63f",
   "metadata": {},
   "outputs": [
    {
     "name": "stderr",
     "output_type": "stream",
     "text": [
      "Some weights of BertForSequenceClassification were not initialized from the model checkpoint at dccuchile/bert-base-spanish-wwm-cased and are newly initialized: ['bert.pooler.dense.bias', 'bert.pooler.dense.weight', 'classifier.bias', 'classifier.weight']\n",
      "You should probably TRAIN this model on a down-stream task to be able to use it for predictions and inference.\n"
     ]
    }
   ],
   "source": [
    "\n",
    "# 5. Dataset personalizado\n",
    "class RMDataset(torch.utils.data.Dataset):\n",
    "    def __init__(self, encodings, labels):\n",
    "        self.encodings = encodings\n",
    "        self.labels = labels\n",
    "\n",
    "    def __getitem__(self, idx):\n",
    "        item = {key: torch.tensor(val[idx]) for key, val in self.encodings.items()}\n",
    "        item['labels'] = torch.tensor(self.labels[idx])\n",
    "        return item\n",
    "\n",
    "    def __len__(self):\n",
    "        return len(self.labels)\n",
    "\n",
    "train_dataset = RMDataset(train_encodings, train_labels)\n",
    "val_dataset = RMDataset(val_encodings, val_labels)\n",
    "\n",
    "# 6. Cálculo de pesos de clase (para el dataset desbalanceado)\n",
    "class_weights = compute_class_weight(\n",
    "    class_weight='balanced',\n",
    "    classes=np.unique(train_labels),\n",
    "    y=train_labels\n",
    ")\n",
    "weights_tensor = torch.tensor(class_weights, dtype=torch.float)\n",
    "\n",
    "# 7. Cargar modelo BERT con clasificación para 5 clases\n",
    "model = AutoModelForSequenceClassification.from_pretrained(\n",
    "    \"dccuchile/bert-base-spanish-wwm-cased\",\n",
    "    num_labels=5\n",
    ")\n"
   ]
  },
  {
   "cell_type": "code",
   "execution_count": 6,
   "id": "7b5fe3c2",
   "metadata": {},
   "outputs": [
    {
     "name": "stderr",
     "output_type": "stream",
     "text": [
      "c:\\Users\\uzgre\\anaconda3\\Lib\\site-packages\\transformers\\training_args.py:1594: FutureWarning: `evaluation_strategy` is deprecated and will be removed in version 4.46 of 🤗 Transformers. Use `eval_strategy` instead\n",
      "  warnings.warn(\n"
     ]
    },
    {
     "data": {
      "text/html": [
       "\n",
       "    <div>\n",
       "      \n",
       "      <progress value='31209' max='31209' style='width:300px; height:20px; vertical-align: middle;'></progress>\n",
       "      [31209/31209 3:12:58, Epoch 3/3]\n",
       "    </div>\n",
       "    <table border=\"1\" class=\"dataframe\">\n",
       "  <thead>\n",
       " <tr style=\"text-align: left;\">\n",
       "      <th>Epoch</th>\n",
       "      <th>Training Loss</th>\n",
       "      <th>Validation Loss</th>\n",
       "      <th>Accuracy</th>\n",
       "      <th>F1</th>\n",
       "    </tr>\n",
       "  </thead>\n",
       "  <tbody>\n",
       "    <tr>\n",
       "      <td>1</td>\n",
       "      <td>0.857200</td>\n",
       "      <td>1.037642</td>\n",
       "      <td>0.640456</td>\n",
       "      <td>0.664765</td>\n",
       "    </tr>\n",
       "    <tr>\n",
       "      <td>2</td>\n",
       "      <td>0.902600</td>\n",
       "      <td>1.019604</td>\n",
       "      <td>0.735527</td>\n",
       "      <td>0.742114</td>\n",
       "    </tr>\n",
       "    <tr>\n",
       "      <td>3</td>\n",
       "      <td>0.733000</td>\n",
       "      <td>1.102260</td>\n",
       "      <td>0.714931</td>\n",
       "      <td>0.729511</td>\n",
       "    </tr>\n",
       "  </tbody>\n",
       "</table><p>"
      ],
      "text/plain": [
       "<IPython.core.display.HTML object>"
      ]
     },
     "metadata": {},
     "output_type": "display_data"
    },
    {
     "data": {
      "text/plain": [
       "TrainOutput(global_step=31209, training_loss=0.8307517970352004, metrics={'train_runtime': 11579.6044, 'train_samples_per_second': 43.121, 'train_steps_per_second': 2.695, 'total_flos': 3.284503772378112e+16, 'train_loss': 0.8307517970352004, 'epoch': 3.0})"
      ]
     },
     "execution_count": 6,
     "metadata": {},
     "output_type": "execute_result"
    }
   ],
   "source": [
    "# 8. Definir función de métricas\n",
    "def compute_metrics(eval_pred):\n",
    "    logits, labels = eval_pred\n",
    "    preds = np.argmax(logits, axis=1)\n",
    "    acc = accuracy_score(labels, preds)\n",
    "    f1 = f1_score(labels, preds, average='weighted')\n",
    "    return {\"accuracy\": acc, \"f1\": f1}\n",
    "\n",
    "# 9. Usar Trainer personalizado para incluir class_weights\n",
    "from torch.nn import CrossEntropyLoss\n",
    "\n",
    "class WeightedTrainer(Trainer):\n",
    "    def compute_loss(self, model, inputs, return_outputs=False, num_items_in_batch=None):\n",
    "        labels = inputs.get(\"labels\")\n",
    "        outputs = model(**inputs)\n",
    "        logits = outputs.get(\"logits\")\n",
    "        loss_fct = CrossEntropyLoss(weight=weights_tensor.to(model.device))\n",
    "        loss = loss_fct(logits, labels)\n",
    "        return (loss, outputs) if return_outputs else loss\n",
    "\n",
    "\n",
    "# 10. Argumentos de entrenamiento\n",
    "training_args = TrainingArguments(\n",
    "    output_dir=\"./resultados_beto\",\n",
    "    evaluation_strategy=\"epoch\",\n",
    "    save_strategy=\"epoch\",\n",
    "    num_train_epochs=3,\n",
    "    per_device_train_batch_size=16,\n",
    "    per_device_eval_batch_size=32,\n",
    "    warmup_steps=500,\n",
    "    weight_decay=0.01,\n",
    "    logging_dir=\"./logs\",\n",
    "    logging_steps=50,\n",
    "    load_best_model_at_end=True,\n",
    "    metric_for_best_model=\"accuracy\",\n",
    "    greater_is_better=True\n",
    ")\n",
    "\n",
    "# 11. Entrenador\n",
    "trainer = WeightedTrainer(\n",
    "    model=model,\n",
    "    args=training_args,\n",
    "    train_dataset=train_dataset,\n",
    "    eval_dataset=val_dataset,\n",
    "    compute_metrics=compute_metrics,\n",
    ")\n",
    "\n",
    "# 12. ENTRENAMIENTO en GPU (si está disponible)\n",
    "trainer.train()"
   ]
  },
  {
   "cell_type": "code",
   "execution_count": 8,
   "id": "537cc9b0",
   "metadata": {},
   "outputs": [
    {
     "data": {
      "text/html": [],
      "text/plain": [
       "<IPython.core.display.HTML object>"
      ]
     },
     "metadata": {},
     "output_type": "display_data"
    },
    {
     "data": {
      "image/png": "[encoded data removed]",
      "text/plain": [
       "<Figure size 800x600 with 2 Axes>"
      ]
     },
     "metadata": {},
     "output_type": "display_data"
    },
    {
     "name": "stdout",
     "output_type": "stream",
     "text": [
      "Reporte de Clasificación (F1, Precision, Recall por clase):\n",
      "              precision    recall  f1-score   support\n",
      "\n",
      "     Muy Neg      0.648     0.760     0.699      1088\n",
      "         Neg      0.415     0.338     0.372      1099\n",
      "      Neutro      0.593     0.473     0.526      3104\n",
      "         Pos      0.481     0.625     0.544      9007\n",
      "     Muy Pos      0.883     0.817     0.849     27313\n",
      "\n",
      "    accuracy                          0.736     41611\n",
      "   macro avg      0.604     0.602     0.598     41611\n",
      "weighted avg      0.756     0.736     0.742     41611\n",
      "\n"
     ]
    }
   ],
   "source": [
    "from sklearn.metrics import confusion_matrix, classification_report\n",
    "import seaborn as sns\n",
    "import matplotlib.pyplot as plt\n",
    "import numpy as np\n",
    "\n",
    "# 13. PREDICCIONES sobre el conjunto de validación\n",
    "preds_output = trainer.predict(val_dataset)\n",
    "logits = preds_output.predictions\n",
    "preds = np.argmax(logits, axis=1)\n",
    "\n",
    "# 14. MATRIZ DE CONFUSIÓN\n",
    "cm = confusion_matrix(val_labels, preds)\n",
    "plt.figure(figsize=(8, 6))\n",
    "sns.heatmap(cm, annot=True, fmt='d', cmap='Blues', xticklabels=[1,2,3,4,5], yticklabels=[1,2,3,4,5])\n",
    "plt.xlabel(\"Etiqueta Predicha\")\n",
    "plt.ylabel(\"Etiqueta Verdadera\")\n",
    "plt.title(\"Matriz de Confusión BETO\")\n",
    "plt.tight_layout()\n",
    "plt.show()\n",
    "\n",
    "# 15. REPORTE DETALLADO\n",
    "print(\"Reporte de Clasificación (F1, Precision, Recall por clase):\")\n",
    "print(classification_report(val_labels, preds, digits=3, target_names=[\"Muy Neg\", \"Neg\", \"Neutro\", \"Pos\", \"Muy Pos\"]))\n"
   ]
  },
  {
   "cell_type": "markdown",
   "id": "8a77768b",
   "metadata": {},
   "source": [
    "### Cargamos modelos ya entrenados y hacemos predicciones"
   ]
  },
  {
   "cell_type": "code",
   "execution_count": null,
   "id": "14245142",
   "metadata": {},
   "outputs": [
    {
     "name": "stdout",
     "output_type": "stream",
     "text": [
      "Texto: La comida fue excelente, definitivamente volveré.\n",
      "→ Predicción de polaridad: 5\n",
      "\n",
      "Texto: El servicio estuvo lento y desagradable.\n",
      "→ Predicción de polaridad: 2\n",
      "\n",
      "Texto: No tengo una opinión clara.\n",
      "→ Predicción de polaridad: 2\n",
      "\n"
     ]
    }
   ],
   "source": [
    "import torch\n",
    "import numpy as np\n",
    "from transformers import AutoTokenizer, AutoModelForSequenceClassification\n",
    "from sklearn.metrics import classification_report, confusion_matrix\n",
    "\n",
    "# Paso 1: Configurar ruta del mejor checkpoint\n",
    "checkpoint_path = \"./resultados_beto/checkpoint-20806\" \n",
    "\n",
    "# Paso 2: Cargar tokenizer y modelo\n",
    "tokenizer = AutoTokenizer.from_pretrained(\"dccuchile/bert-base-spanish-wwm-cased\")\n",
    "model = AutoModelForSequenceClassification.from_pretrained(checkpoint_path)\n",
    "\n",
    "# Paso 3: Enviar modelo a dispositivo (GPU si está disponible)\n",
    "device = torch.device(\"cuda\" if torch.cuda.is_available() else \"cpu\")\n",
    "model.to(device)\n",
    "model.eval()\n",
    "# Paso 4: Preprocesar nuevos textos\n",
    "nuevos_textos = [\n",
    "    \"La comida fue excelente, definitivamente volveré.\",\n",
    "    \"El servicio estuvo lento y desagradable.\",\n",
    "    \"No tengo una opinión clara.\"\n",
    "]\n",
    "\n",
    "inputs = tokenizer(nuevos_textos, truncation=True, padding=True, max_length=128, return_tensors=\"pt\")\n",
    "inputs = {k: v.to(device) for k, v in inputs.items()}\n",
    "\n",
    "with torch.no_grad():\n",
    "    outputs = model(**inputs)\n",
    "    predicciones = torch.argmax(outputs.logits, dim=1).cpu().numpy()\n",
    "\n",
    "# Mostrar resultados\n",
    "for texto, pred in zip(nuevos_textos, predicciones):\n",
    "    print(f\"Texto: {texto}\\n→ Predicción de polaridad: {pred + 1}\\n\")\n",
    "\n"
   ]
  },
  {
   "cell_type": "code",
   "execution_count": 8,
   "id": "636b1da1",
   "metadata": {},
   "outputs": [
    {
     "name": "stdout",
     "output_type": "stream",
     "text": [
      "\n",
      "Texto 1: MEXICANO Es un lugar bellísimo, para llegar es necesario transportarte en lancha la cual tiene un precio bastante accesible, en la isla venden varias artesanías del lugar, desde prendas de vestir, antojitos mexicano, recuerditos y demás, su gente es muy amable, la mayoria de las personas conservan su lengua nativa, el lugar es pequeño pero fácil de caminar en una tarde, guarda muchas tradiciones mexicanas que se han perdido y te transporta a un lugar perdido en el tiempo\n",
      "→ Polaridad real: 4.0  |  Predicción modelo: 5\n",
      "\n",
      "Texto 2: Una vista sensacional El lugar es muy agradable, con una vista realmente increíble, la atención de los meseros muy buena, pero la comida no es nada fuera de lo común e incluso las porciones son pequeñas. La carta de vinos pequeña, pero razonablemente completa.\n",
      "→ Polaridad real: 3.0  |  Predicción modelo: 3\n",
      "\n",
      "Texto 3: Bastante recomendable para pasar la tarde Es una plaza en forma de herradura con muchos juegos infantiles para niños, grandes jardines con pasto, varios restaurantes: comida mexicana, pollo rostizado, pizza gourmet, hamburguesas, cortes, micheladas, cafeteria y helados italianos (por cierto delicioso !!!, no te los puedes perder. Ojo que están un poco apartados y cerca de un kiosco donde puedes ver a unos peces por lo que no te vayas a olvidar de ir). También hay un Bancomer con cajero por si necesitas efectivo. Tomate toda la tarde para ir, comer, sobremesa con café o helado y tomar un par de cervezas. Amplio estacionamiento, gratis pero los locales venden la comida un poco cara para que lleves dinero ya que algunos solo manejan efectivo. Un lugar al que tienes que ir si vas a Ixtapan !!!\n",
      "→ Polaridad real: 4.0  |  Predicción modelo: 4\n",
      "\n",
      "Texto 4: Dreams Tulum - algo para destacar Excelente atención de Miguel Manzanero en el Seafood Restaurant de la playa durante el mediodia y de German en el Restaurant Asiático por la noche. Victor del equipo de animación un genio, gran jugador de volley y danzarin. Super cordiales y divertidos los 3.\n",
      "→ Polaridad real: 4.0  |  Predicción modelo: 5\n",
      "\n",
      "Texto 5: Excelente servicio El desayuno esta súper rico y el servicio fue bastante eficaz muy atentos desde el acceso y durante toda la atención\n",
      "→ Polaridad real: 5.0  |  Predicción modelo: 5\n",
      "\n",
      "Texto 6: gran desayuno el mejor plato de fruta en México; la terraza comedor fantásticas vistas; bicicletas para alquiler diario o semanal; excelente chillequilles y vegetales batidos\n",
      "→ Polaridad real: 4.0  |  Predicción modelo: 4\n",
      "\n",
      "Texto 7: Inmejorable experiencia. Ampliamente recomendable. Entorno natural te hace sentir en el corazon de palenque ademas de mantener a los animales en su habiatat natural volveria con mi familia sin duda.\n",
      "→ Polaridad real: 5.0  |  Predicción modelo: 5\n",
      "\n",
      "Texto 8: Muy interesante!!!! Muy bien preparado para el turista, la visita es muy didáctica. El lugar perfectamente impecable, el video, la atención de su personal, vale la pena!\n",
      "→ Polaridad real: 5.0  |  Predicción modelo: 5\n",
      "\n",
      "Texto 9: Lo pasamos genial en el Bahia Principe Tulum Dolphinarus Nos lo pasamos de maravilla nadar con los delfines en el Dolphinarus en el complejo Bahía Príncipe Tulum en cerca de Akumal. Los formadores son muy bueno y creo que mostraron que los delfines y los participantes un buen tiempo. Nos sentimos que aprendimos más acerca de estas maravillosas criaturas y nos divertimos mucho. También nos alojamos por el espectáculo de los delfines después.\n",
      "→ Polaridad real: 5.0  |  Predicción modelo: 5\n",
      "\n",
      "Texto 10: Experiencia maravillosa Linda experiencia para comenzar la visita a Tulum. El personal es amable y la experiencia maravillosa. Súper recomendado\n",
      "→ Polaridad real: 5.0  |  Predicción modelo: 5\n"
     ]
    }
   ],
   "source": [
    "import torch\n",
    "import pandas as pd\n",
    "from transformers import AutoTokenizer, AutoModelForSequenceClassification\n",
    "\n",
    "# Seleccionar 3 textos al azar\n",
    "muestras = Data[['Texto_Leido', 'Polarity']].sample(10, random_state=42).reset_index(drop=True)\n",
    "\n",
    "# Cargar modelo y tokenizer\n",
    "checkpoint_path = \"./resultados_beto/checkpoint-20806\"  # ← Ajusta con el número real\n",
    "tokenizer = AutoTokenizer.from_pretrained(\"dccuchile/bert-base-spanish-wwm-cased\")\n",
    "model = AutoModelForSequenceClassification.from_pretrained(checkpoint_path)\n",
    "\n",
    "# Enviar a dispositivo\n",
    "device = torch.device(\"cuda\" if torch.cuda.is_available() else \"cpu\")\n",
    "model.to(device)\n",
    "model.eval()\n",
    "\n",
    "# Tokenizar entradas\n",
    "inputs = tokenizer(\n",
    "    list(muestras['Texto_Leido']),\n",
    "    truncation=True,\n",
    "    padding=True,\n",
    "    max_length=128,\n",
    "    return_tensors=\"pt\"\n",
    ")\n",
    "inputs = {k: v.to(device) for k, v in inputs.items()}\n",
    "\n",
    "# Predecir\n",
    "with torch.no_grad():\n",
    "    outputs = model(**inputs)\n",
    "    preds = torch.argmax(outputs.logits, dim=1).cpu().numpy()\n",
    "\n",
    "# Mostrar resultados\n",
    "for i, row in muestras.iterrows():\n",
    "    print(f\"\\nTexto {i+1}: {row['Texto_Leido']}\")\n",
    "    print(f\"→ Polaridad real: {row['Polarity']}  |  Predicción modelo: {preds[i]+1}\")\n"
   ]
  }
 ],
 "metadata": {
  "kernelspec": {
   "display_name": "base",
   "language": "python",
   "name": "python3"
  },
  "language_info": {
   "codemirror_mode": {
    "name": "ipython",
    "version": 3
   },
   "file_extension": ".py",
   "mimetype": "text/x-python",
   "name": "python",
   "nbconvert_exporter": "python",
   "pygments_lexer": "ipython3",
   "version": "3.12.7"
  }
 },
 "nbformat": 4,
 "nbformat_minor": 5
}
