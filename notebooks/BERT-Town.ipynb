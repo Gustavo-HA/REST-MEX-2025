{
 "cells": [
  {
   "cell_type": "markdown",
   "metadata": {
    "id": "CsiG82zRbIdS"
   },
   "source": [
    "# Configuración entorno de ejecución"
   ]
  },
  {
   "cell_type": "code",
   "execution_count": 50,
   "metadata": {
    "id": "l5ayGPya2yhb"
   },
   "outputs": [],
   "source": [
    "#@title Carga de librerias\n",
    "\n",
    "#Text\n",
    "from transformers.models.bert import BertTokenizer, BertModel, BertConfig\n",
    "\n",
    "#Torch\n",
    "import torch\n",
    "import torch.nn as nn\n",
    "from torch.utils.data import Dataset\n",
    "import torch.nn.functional as F\n",
    "import torch.optim as optim\n",
    "\n",
    "from collections import Counter\n",
    "import argparse\n",
    "import functools\n",
    "from torch.utils.data import DataLoader\n",
    "\n",
    "import json\n",
    "import numpy as np\n",
    "\n",
    "\n",
    "\n",
    "import argparse\n",
    "import numpy as np\n",
    "from collections import Counter\n",
    "from tqdm import tqdm\n",
    "import shutil\n",
    "from sklearn.metrics import f1_score\n",
    "import json\n",
    "import os\n",
    "import pandas as pd\n",
    "pd.set_option('display.max_colwidth', 1000)\n",
    "\n",
    "import sys\n",
    "if os.path.abspath(\"../src\") not in sys.path:\n",
    "    sys.path.append(os.path.abspath(\"../src\"))\n",
    "\n",
    "from config import *"
   ]
  },
  {
   "cell_type": "markdown",
   "metadata": {
    "id": "3VOlvMgl4YX8"
   },
   "source": [
    "# 2. Dataset"
   ]
  },
  {
   "cell_type": "code",
   "execution_count": 51,
   "metadata": {
    "id": "c12tp09slKx1"
   },
   "outputs": [],
   "source": [
    "data = pd.read_csv(TRAIN_FILE)\n",
    "data = data[[\"Title\", \"Review\", \"Town\"]]\n",
    "data[\"text\"] = data[\"Title\"] + \" \" + data[\"Review\"]\n",
    "data = data[[\"text\", \"Town\"]]"
   ]
  },
  {
   "cell_type": "markdown",
   "metadata": {
    "id": "z-i5abcpMx6q"
   },
   "source": [
    "## 2.2 Validación de los datos"
   ]
  },
  {
   "cell_type": "code",
   "execution_count": 52,
   "metadata": {
    "colab": {
     "base_uri": "https://localhost:8080/",
     "height": 953
    },
    "id": "8ZT-zjpeso-A",
    "outputId": "fd8765e9-c56c-4692-a369-1126901a9cec"
   },
   "outputs": [
    {
     "data": {
      "application/vnd.microsoft.datawrangler.viewer.v0+json": {
       "columns": [
        {
         "name": "index",
         "rawType": "int64",
         "type": "integer"
        },
        {
         "name": "text",
         "rawType": "object",
         "type": "string"
        },
        {
         "name": "Town",
         "rawType": "object",
         "type": "string"
        }
       ],
       "conversionMethod": "pd.DataFrame",
       "ref": "e8d94861-e4a3-4e89-b9f9-a832f6d374d5",
       "rows": [
        [
         "29652",
         "Visita obligada en Valladolid Es la Iglesia principal en Valladolid y es donde te dejan los autobuses turísticos, tienen una arquitectura colonial y hay un parque pintoresco enfrente. ",
         "Valladolid"
        ],
        [
         "49357",
         "Hotel Mi Casita Excelente ubicación, , hermosa vista, las habitaciones sencillas y limpias. Ofrecen desayuno continental, el personal muy amable. Si llegas por coche, cuentan con estacionamiento a tres cuadras y el costo es de $80.00 pesos diarios. Volvería encantada.",
         "Taxco"
        ],
        [
         "155965",
         "Para mezcales Estando el Mezcal tan de moda es fácil encontrar muchos lugares donde lo  vendan, pero encontrar la variedad y calidad qué hay aquí no es fácil ! Muchas opciones y variedades además de meseros conocedores de todas  y cada una de las marcas que ofrecen....Más",
         "Cholula"
        ],
        [
         "7245",
         "Increíble la ubicación Nos encanta Valle de Bravo y ahora es muy placentero llegar a su hotel y disfrutar de esas instalaciones tan increíbles y saber que tienes la tranquilidad de que descansaras y que te atenderán mejor que estar en casa",
         "Valle_de_Bravo"
        ],
        [
         "110039",
         "Explorar por su cuenta Nuestro hotel estaba en el extremo norte de la ciudad, a 15 minutos, a un corto paseo en bicicleta a las ruinas. No ir a una excursión. Las ruinas tienen letreros en inglés, explicando los edificios y la cultura de la zona. Pasamos 2 horas allí, disfrutar de las ruinas, la pequeña playa, y observación de aves. Impresionante belleza natural. Los mayas que he apreciado la belleza de su tierra.",
         "Tulum"
        ],
        [
         "21556",
         "Un excelente paseo por las ruinas de Tulum Un muy buen recorrido por la Zona sintiendo la magia del lugar unas ruinas Mayas con gran conservación y hacer un viaje al pasado de los habitantes de la Zona con esa belleza que lo caracteriza  el lugar perfecto para pasar un rico día y bañase en esas aguas ancestrales  al pie de la Gran Ciudad Maya",
         "Tulum"
        ],
        [
         "113750",
         "Buen hotel La comida y las instalaciones están muy cómodas. Solo mejorar las condiciones del aire acondicionado. Los jardines están muy bonitos. Volvería a regresar sin pensarlo dos veces. La atención es excelente",
         "Palenque"
        ],
        [
         "203280",
         "Ruinas mayas y una gran cascada en una pero demasiados vendedores Las hermosas ruinas mayas en un parque natural donde se puede subir las piramids y tienen un gran descenso paseo por un río natural.El lugar sería aún más bonita si hay menos puestos artesanos y vendedores que realmente nos arruinó la experiencia y son un dolor. Uno me encantaría disfrutar de este lugar de paz que sería posible incluso con grandes multitudes si no fuera por los vendedores.",
         "Palenque"
        ],
        [
         "151009",
         "Aparte del centro turístico Este restaurante está ubicado fuera de la carretera turística principal, y un poco detrás, pero es mucho mejor que los restaurantes demasiado \"guiris\" La comida es deliciosa y bien presentada, servicio atento y cordial. Los platos llegue rápidamente y están bien presentadas. Un lugar que...se merece algo mejor que el 22Â° lugar. Muy acogedor ambiente agradable casi como una terraza en la calle. Fuimos dos veces durante nuestra estancia y el dueño siempre estaba presente para asegurar la calidad del servicio. Bravo!Más",
         "Isla_Mujeres"
        ],
        [
         "44627",
         "Increíble curry verde Llegamos sin reservación en una noche muy concurrida en diciembre. amablemente nos pusieron en el bar con vista a la cocina. trabajaron con el fin especial de mi hija, y para mí uno de los mejores curry verde que he comido en mi vida. Bonitas...gran camarones y calamares trozos, hermosos verduras frescas y caldo fantástico perfectamente preparada con arroz en un lado. Los chefs hizo la elaboración de parece fácil, pero para aquellos de nosotros que han intentado, su habilidad fue en la exposición y el sabor era genial. Nos hubiera gustado haber descubierto Bangcook antes pero, por desgracia, nos encontramos en nuestra última noche en la ciudad.Más",
         "San_Cristobal_de_las_Casas"
        ]
       ],
       "shape": {
        "columns": 2,
        "rows": 10
       }
      },
      "text/html": [
       "<div>\n",
       "<style scoped>\n",
       "    .dataframe tbody tr th:only-of-type {\n",
       "        vertical-align: middle;\n",
       "    }\n",
       "\n",
       "    .dataframe tbody tr th {\n",
       "        vertical-align: top;\n",
       "    }\n",
       "\n",
       "    .dataframe thead th {\n",
       "        text-align: right;\n",
       "    }\n",
       "</style>\n",
       "<table border=\"1\" class=\"dataframe\">\n",
       "  <thead>\n",
       "    <tr style=\"text-align: right;\">\n",
       "      <th></th>\n",
       "      <th>text</th>\n",
       "      <th>Town</th>\n",
       "    </tr>\n",
       "  </thead>\n",
       "  <tbody>\n",
       "    <tr>\n",
       "      <th>29652</th>\n",
       "      <td>Visita obligada en Valladolid Es la Iglesia principal en Valladolid y es donde te dejan los autobuses turísticos, tienen una arquitectura colonial y hay un parque pintoresco enfrente.</td>\n",
       "      <td>Valladolid</td>\n",
       "    </tr>\n",
       "    <tr>\n",
       "      <th>49357</th>\n",
       "      <td>Hotel Mi Casita Excelente ubicación, , hermosa vista, las habitaciones sencillas y limpias. Ofrecen desayuno continental, el personal muy amable. Si llegas por coche, cuentan con estacionamiento a tres cuadras y el costo es de $80.00 pesos diarios. Volvería encantada.</td>\n",
       "      <td>Taxco</td>\n",
       "    </tr>\n",
       "    <tr>\n",
       "      <th>155965</th>\n",
       "      <td>Para mezcales Estando el Mezcal tan de moda es fácil encontrar muchos lugares donde lo  vendan, pero encontrar la variedad y calidad qué hay aquí no es fácil ! Muchas opciones y variedades además de meseros conocedores de todas  y cada una de las marcas que ofrecen....Más</td>\n",
       "      <td>Cholula</td>\n",
       "    </tr>\n",
       "    <tr>\n",
       "      <th>7245</th>\n",
       "      <td>Increíble la ubicación Nos encanta Valle de Bravo y ahora es muy placentero llegar a su hotel y disfrutar de esas instalaciones tan increíbles y saber que tienes la tranquilidad de que descansaras y que te atenderán mejor que estar en casa</td>\n",
       "      <td>Valle_de_Bravo</td>\n",
       "    </tr>\n",
       "    <tr>\n",
       "      <th>110039</th>\n",
       "      <td>Explorar por su cuenta Nuestro hotel estaba en el extremo norte de la ciudad, a 15 minutos, a un corto paseo en bicicleta a las ruinas. No ir a una excursión. Las ruinas tienen letreros en inglés, explicando los edificios y la cultura de la zona. Pasamos 2 horas allí, disfrutar de las ruinas, la pequeña playa, y observación de aves. Impresionante belleza natural. Los mayas que he apreciado la belleza de su tierra.</td>\n",
       "      <td>Tulum</td>\n",
       "    </tr>\n",
       "    <tr>\n",
       "      <th>21556</th>\n",
       "      <td>Un excelente paseo por las ruinas de Tulum Un muy buen recorrido por la Zona sintiendo la magia del lugar unas ruinas Mayas con gran conservación y hacer un viaje al pasado de los habitantes de la Zona con esa belleza que lo caracteriza  el lugar perfecto para pasar un rico día y bañase en esas aguas ancestrales  al pie de la Gran Ciudad Maya</td>\n",
       "      <td>Tulum</td>\n",
       "    </tr>\n",
       "    <tr>\n",
       "      <th>113750</th>\n",
       "      <td>Buen hotel La comida y las instalaciones están muy cómodas. Solo mejorar las condiciones del aire acondicionado. Los jardines están muy bonitos. Volvería a regresar sin pensarlo dos veces. La atención es excelente</td>\n",
       "      <td>Palenque</td>\n",
       "    </tr>\n",
       "    <tr>\n",
       "      <th>203280</th>\n",
       "      <td>Ruinas mayas y una gran cascada en una pero demasiados vendedores Las hermosas ruinas mayas en un parque natural donde se puede subir las piramids y tienen un gran descenso paseo por un río natural.El lugar sería aún más bonita si hay menos puestos artesanos y vendedores que realmente nos arruinó la experiencia y son un dolor. Uno me encantaría disfrutar de este lugar de paz que sería posible incluso con grandes multitudes si no fuera por los vendedores.</td>\n",
       "      <td>Palenque</td>\n",
       "    </tr>\n",
       "    <tr>\n",
       "      <th>151009</th>\n",
       "      <td>Aparte del centro turístico Este restaurante está ubicado fuera de la carretera turística principal, y un poco detrás, pero es mucho mejor que los restaurantes demasiado \"guiris\" La comida es deliciosa y bien presentada, servicio atento y cordial. Los platos llegue rápidamente y están bien presentadas. Un lugar que...se merece algo mejor que el 22Â° lugar. Muy acogedor ambiente agradable casi como una terraza en la calle. Fuimos dos veces durante nuestra estancia y el dueño siempre estaba presente para asegurar la calidad del servicio. Bravo!Más</td>\n",
       "      <td>Isla_Mujeres</td>\n",
       "    </tr>\n",
       "    <tr>\n",
       "      <th>44627</th>\n",
       "      <td>Increíble curry verde Llegamos sin reservación en una noche muy concurrida en diciembre. amablemente nos pusieron en el bar con vista a la cocina. trabajaron con el fin especial de mi hija, y para mí uno de los mejores curry verde que he comido en mi vida. Bonitas...gran camarones y calamares trozos, hermosos verduras frescas y caldo fantástico perfectamente preparada con arroz en un lado. Los chefs hizo la elaboración de parece fácil, pero para aquellos de nosotros que han intentado, su habilidad fue en la exposición y el sabor era genial. Nos hubiera gustado haber descubierto Bangcook antes pero, por desgracia, nos encontramos en nuestra última noche en la ciudad.Más</td>\n",
       "      <td>San_Cristobal_de_las_Casas</td>\n",
       "    </tr>\n",
       "  </tbody>\n",
       "</table>\n",
       "</div>"
      ],
      "text/plain": [
       "                                                                                                                                                                                                                                                                                                                                                                                                                                                                                                                                                                                                                                                                                                         text  \\\n",
       "29652                                                                                                                                                                                                                                                                                                                                                                                                                                                                                                                Visita obligada en Valladolid Es la Iglesia principal en Valladolid y es donde te dejan los autobuses turísticos, tienen una arquitectura colonial y hay un parque pintoresco enfrente.    \n",
       "49357                                                                                                                                                                                                                                                                                                                                                                                                                            Hotel Mi Casita Excelente ubicación, , hermosa vista, las habitaciones sencillas y limpias. Ofrecen desayuno continental, el personal muy amable. Si llegas por coche, cuentan con estacionamiento a tres cuadras y el costo es de $80.00 pesos diarios. Volvería encantada.   \n",
       "155965                                                                                                                                                                                                                                                                                                                                                                                                                       Para mezcales Estando el Mezcal tan de moda es fácil encontrar muchos lugares donde lo  vendan, pero encontrar la variedad y calidad qué hay aquí no es fácil ! Muchas opciones y variedades además de meseros conocedores de todas  y cada una de las marcas que ofrecen....Más   \n",
       "7245                                                                                                                                                                                                                                                                                                                                                                                                                                                          Increíble la ubicación Nos encanta Valle de Bravo y ahora es muy placentero llegar a su hotel y disfrutar de esas instalaciones tan increíbles y saber que tienes la tranquilidad de que descansaras y que te atenderán mejor que estar en casa   \n",
       "110039                                                                                                                                                                                                                                                                      Explorar por su cuenta Nuestro hotel estaba en el extremo norte de la ciudad, a 15 minutos, a un corto paseo en bicicleta a las ruinas. No ir a una excursión. Las ruinas tienen letreros en inglés, explicando los edificios y la cultura de la zona. Pasamos 2 horas allí, disfrutar de las ruinas, la pequeña playa, y observación de aves. Impresionante belleza natural. Los mayas que he apreciado la belleza de su tierra.   \n",
       "21556                                                                                                                                                                                                                                                                                                                                                Un excelente paseo por las ruinas de Tulum Un muy buen recorrido por la Zona sintiendo la magia del lugar unas ruinas Mayas con gran conservación y hacer un viaje al pasado de los habitantes de la Zona con esa belleza que lo caracteriza  el lugar perfecto para pasar un rico día y bañase en esas aguas ancestrales  al pie de la Gran Ciudad Maya   \n",
       "113750                                                                                                                                                                                                                                                                                                                                                                                                                                                                                  Buen hotel La comida y las instalaciones están muy cómodas. Solo mejorar las condiciones del aire acondicionado. Los jardines están muy bonitos. Volvería a regresar sin pensarlo dos veces. La atención es excelente   \n",
       "203280                                                                                                                                                                                                                             Ruinas mayas y una gran cascada en una pero demasiados vendedores Las hermosas ruinas mayas en un parque natural donde se puede subir las piramids y tienen un gran descenso paseo por un río natural.El lugar sería aún más bonita si hay menos puestos artesanos y vendedores que realmente nos arruinó la experiencia y son un dolor. Uno me encantaría disfrutar de este lugar de paz que sería posible incluso con grandes multitudes si no fuera por los vendedores.   \n",
       "151009                                                                                                                                Aparte del centro turístico Este restaurante está ubicado fuera de la carretera turística principal, y un poco detrás, pero es mucho mejor que los restaurantes demasiado \"guiris\" La comida es deliciosa y bien presentada, servicio atento y cordial. Los platos llegue rápidamente y están bien presentadas. Un lugar que...se merece algo mejor que el 22Â° lugar. Muy acogedor ambiente agradable casi como una terraza en la calle. Fuimos dos veces durante nuestra estancia y el dueño siempre estaba presente para asegurar la calidad del servicio. Bravo!Más   \n",
       "44627   Increíble curry verde Llegamos sin reservación en una noche muy concurrida en diciembre. amablemente nos pusieron en el bar con vista a la cocina. trabajaron con el fin especial de mi hija, y para mí uno de los mejores curry verde que he comido en mi vida. Bonitas...gran camarones y calamares trozos, hermosos verduras frescas y caldo fantástico perfectamente preparada con arroz en un lado. Los chefs hizo la elaboración de parece fácil, pero para aquellos de nosotros que han intentado, su habilidad fue en la exposición y el sabor era genial. Nos hubiera gustado haber descubierto Bangcook antes pero, por desgracia, nos encontramos en nuestra última noche en la ciudad.Más   \n",
       "\n",
       "                              Town  \n",
       "29652                   Valladolid  \n",
       "49357                        Taxco  \n",
       "155965                     Cholula  \n",
       "7245                Valle_de_Bravo  \n",
       "110039                       Tulum  \n",
       "21556                        Tulum  \n",
       "113750                    Palenque  \n",
       "203280                    Palenque  \n",
       "151009                Isla_Mujeres  \n",
       "44627   San_Cristobal_de_las_Casas  "
      ]
     },
     "execution_count": 52,
     "metadata": {},
     "output_type": "execute_result"
    }
   ],
   "source": [
    "data.sample(10)"
   ]
  },
  {
   "cell_type": "code",
   "execution_count": 53,
   "metadata": {
    "colab": {
     "base_uri": "https://localhost:8080/",
     "height": 147
    },
    "id": "g-GR8qk_JTKr",
    "outputId": "1b49ceac-8510-4246-9f39-4eaf1cb2b706"
   },
   "outputs": [
    {
     "data": {
      "text/plain": [
       "text    object\n",
       "Town    object\n",
       "dtype: object"
      ]
     },
     "execution_count": 53,
     "metadata": {},
     "output_type": "execute_result"
    }
   ],
   "source": [
    "data.dtypes"
   ]
  },
  {
   "cell_type": "code",
   "execution_count": 54,
   "metadata": {
    "id": "XCpX8TJNJbau"
   },
   "outputs": [],
   "source": [
    "data[\"type\"]=data.Town.apply(lambda e: isinstance(e, str))"
   ]
  },
  {
   "cell_type": "code",
   "execution_count": 55,
   "metadata": {
    "colab": {
     "base_uri": "https://localhost:8080/",
     "height": 81
    },
    "id": "Bvz7kQIYmdNg",
    "outputId": "90210d7f-467c-443e-cc66-ade13ab6990f"
   },
   "outputs": [
    {
     "data": {
      "application/vnd.microsoft.datawrangler.viewer.v0+json": {
       "columns": [
        {
         "name": "index",
         "rawType": "int64",
         "type": "integer"
        },
        {
         "name": "text",
         "rawType": "object",
         "type": "string"
        },
        {
         "name": "Town",
         "rawType": "object",
         "type": "string"
        },
        {
         "name": "type",
         "rawType": "bool",
         "type": "boolean"
        }
       ],
       "conversionMethod": "pd.DataFrame",
       "ref": "f7553639-b49e-4f75-b82a-5c7e30f1a46f",
       "rows": [],
       "shape": {
        "columns": 3,
        "rows": 0
       }
      },
      "text/html": [
       "<div>\n",
       "<style scoped>\n",
       "    .dataframe tbody tr th:only-of-type {\n",
       "        vertical-align: middle;\n",
       "    }\n",
       "\n",
       "    .dataframe tbody tr th {\n",
       "        vertical-align: top;\n",
       "    }\n",
       "\n",
       "    .dataframe thead th {\n",
       "        text-align: right;\n",
       "    }\n",
       "</style>\n",
       "<table border=\"1\" class=\"dataframe\">\n",
       "  <thead>\n",
       "    <tr style=\"text-align: right;\">\n",
       "      <th></th>\n",
       "      <th>text</th>\n",
       "      <th>Town</th>\n",
       "      <th>type</th>\n",
       "    </tr>\n",
       "  </thead>\n",
       "  <tbody>\n",
       "  </tbody>\n",
       "</table>\n",
       "</div>"
      ],
      "text/plain": [
       "Empty DataFrame\n",
       "Columns: [text, Town, type]\n",
       "Index: []"
      ]
     },
     "execution_count": 55,
     "metadata": {},
     "output_type": "execute_result"
    }
   ],
   "source": [
    "data[data.type==False]"
   ]
  },
  {
   "cell_type": "code",
   "execution_count": 56,
   "metadata": {
    "id": "ntkV7Q7lKNBF"
   },
   "outputs": [],
   "source": [
    "data.dropna(inplace=True)"
   ]
  },
  {
   "cell_type": "code",
   "execution_count": 57,
   "metadata": {
    "colab": {
     "base_uri": "https://localhost:8080/"
    },
    "id": "1-Xrhb7wKeUa",
    "outputId": "95278096-01d5-444a-f9ed-bca7ec087a9d"
   },
   "outputs": [
    {
     "name": "stdout",
     "output_type": "stream",
     "text": [
      "Tamaño del dataset: 208049\n"
     ]
    }
   ],
   "source": [
    "print(f\"Tamaño del dataset: {len(data)}\")"
   ]
  },
  {
   "cell_type": "code",
   "execution_count": 58,
   "metadata": {
    "colab": {
     "base_uri": "https://localhost:8080/"
    },
    "id": "YrR5JgLLK7XC",
    "outputId": "d669dfde-7d7e-4c4f-c93a-6ddfc66d2a66"
   },
   "outputs": [
    {
     "name": "stdout",
     "output_type": "stream",
     "text": [
      "Tamaño del dataset muestra: 208049\n"
     ]
    }
   ],
   "source": [
    "print(f\"Tamaño del dataset muestra: {len(data)}\")"
   ]
  },
  {
   "cell_type": "code",
   "execution_count": 59,
   "metadata": {
    "colab": {
     "base_uri": "https://localhost:8080/",
     "height": 430
    },
    "id": "tofXBNNwon4i",
    "outputId": "6805e17f-e64f-44f9-bdf5-11292c5c5f7f"
   },
   "outputs": [
    {
     "data": {
      "image/png": "[encoded data removed]",
      "text/plain": [
       "<Figure size 640x480 with 1 Axes>"
      ]
     },
     "metadata": {},
     "output_type": "display_data"
    }
   ],
   "source": [
    "# @title Clases\n",
    "\n",
    "from matplotlib import pyplot as plt\n",
    "import seaborn as sns\n",
    "data.groupby('Town').size().plot(kind='barh', color=sns.palettes.mpl_palette('Dark2'))\n",
    "plt.gca().spines[['top', 'right',]].set_visible(False)"
   ]
  },
  {
   "cell_type": "code",
   "execution_count": 60,
   "metadata": {
    "id": "ERSaa9rDM8mu"
   },
   "outputs": [],
   "source": [
    "from sklearn.model_selection import train_test_split"
   ]
  },
  {
   "cell_type": "code",
   "execution_count": 61,
   "metadata": {
    "id": "56Yv_Uh7ruPw"
   },
   "outputs": [],
   "source": [
    "train, test = train_test_split(data, test_size=0.10, random_state=42)"
   ]
  },
  {
   "cell_type": "code",
   "execution_count": 62,
   "metadata": {
    "id": "J1dzjw8jr5H8"
   },
   "outputs": [],
   "source": [
    "train, val = train_test_split(train, test_size=0.11, random_state=42)"
   ]
  },
  {
   "cell_type": "code",
   "execution_count": 63,
   "metadata": {
    "colab": {
     "base_uri": "https://localhost:8080/"
    },
    "id": "KOOvchJPsa2g",
    "outputId": "ac15d776-182d-459c-9853-ac4f1b0ef47b"
   },
   "outputs": [
    {
     "name": "stdout",
     "output_type": "stream",
     "text": [
      "Tamaño train dataset: 166647\n",
      "Tamaño test dataset: 20805\n",
      "Tamaño val dataset: 20597\n"
     ]
    }
   ],
   "source": [
    "print(f\"Tamaño train dataset: {len(train)}\")\n",
    "print(f\"Tamaño test dataset: {len(test)}\")\n",
    "print(f\"Tamaño val dataset: {len(val)}\")"
   ]
  },
  {
   "cell_type": "code",
   "execution_count": 64,
   "metadata": {
    "id": "oAzIC1ZrsxRn"
   },
   "outputs": [],
   "source": [
    "#save dataset\n",
    "train.to_csv(\"train.csv\",index=False)\n",
    "test.to_csv(\"test.csv\",index=False)\n",
    "val.to_csv(\"val.csv\",index=False)"
   ]
  },
  {
   "cell_type": "markdown",
   "metadata": {
    "id": "fT6268x_Im_n"
   },
   "source": [
    "## 2.3 Procesamiento del dataset"
   ]
  },
  {
   "cell_type": "code",
   "execution_count": 65,
   "metadata": {
    "id": "nG_9uCU99cfh"
   },
   "outputs": [],
   "source": [
    "class EcommerceDataset(Dataset):\n",
    "    def __init__(self, data_path, args):\n",
    "        \"\"\"\n",
    "          data_path: ruta del archivo .csv que contiene labels y product_descriptions\n",
    "          args: hiperparámetros\n",
    "\n",
    "        \"\"\"\n",
    "        self.data = pd.read_csv(data_path)\n",
    "        self.tokenizer = BertTokenizer.from_pretrained(args.bert_model) #función preprocesa y divide el texto en tokens\n",
    "        self.args = args\n",
    "        self.n_classes = len(args.labels)\n",
    "        self.max_seq_len = args.max_seq_len #512\n",
    "\n",
    "\n",
    "    def __len__(self):\n",
    "        return len(self.data)\n",
    "\n",
    "    def load_text(self, index, key=\"\"):\n",
    "      inputs=self.tokenizer(self.data.loc[index][key], return_tensors=\"pt\", padding='max_length',truncation=True)\n",
    "      sentence=inputs.input_ids[0]\n",
    "      segment=inputs.token_type_ids[0]\n",
    "      attmask=inputs.attention_mask[0]\n",
    "\n",
    "      return sentence, segment, attmask\n",
    "\n",
    "\n",
    "\n",
    "    def __getitem__(self, index):\n",
    "      sentence, segment, attmask = None, None, None\n",
    "\n",
    "      # Load text\n",
    "      sentence, segment, attmask= self.load_text(index,\"text\")\n",
    "\n",
    "\n",
    "      # Process labels\n",
    "      label = torch.zeros(self.n_classes)\n",
    "      tgt = self.data.loc[index][\"Town\"]\n",
    "      label[self.args.labels.index(tgt)] = 1\n",
    "\n",
    "\n",
    "      return sentence, segment, attmask, label"
   ]
  },
  {
   "cell_type": "code",
   "execution_count": 66,
   "metadata": {
    "id": "ZwJEASGNISo-"
   },
   "outputs": [],
   "source": [
    "def get_labels_and_frequencies(path):\n",
    "    label_freqs = Counter()\n",
    "    data_labels = list(pd.read_csv(path).Town)\n",
    "    label_freqs.update(data_labels)\n",
    "\n",
    "    return list(label_freqs.keys()), label_freqs"
   ]
  },
  {
   "cell_type": "code",
   "execution_count": 67,
   "metadata": {
    "id": "6wxYgqAhHD8Y"
   },
   "outputs": [],
   "source": [
    "def collate_fn(batch, args):\n",
    "\n",
    "    text_tensor, segment_tensor, attmask_tensor,= None, None, None\n",
    "\n",
    "    text_tensor=torch.stack([row[0] for row in batch])\n",
    "    segment_tensor=torch.stack([row[1] for row in batch])\n",
    "    attmask_tensor=torch.stack([row[2] for row in batch])\n",
    "\n",
    "    tgt_tensor = torch.stack([row[3] for row in batch])\n",
    "\n",
    "    return text_tensor, segment_tensor, attmask_tensor, tgt_tensor"
   ]
  },
  {
   "cell_type": "code",
   "execution_count": 68,
   "metadata": {
    "id": "WDXtOaBqFCt_"
   },
   "outputs": [],
   "source": [
    "def get_data_loaders(args):\n",
    "\n",
    "  args.labels, args.label_freqs = get_labels_and_frequencies(\n",
    "            os.path.join(args.data_path, args.task, \"train.csv\")\n",
    "        )\n",
    "\n",
    "  args.n_classes = len(args.labels)\n",
    "\n",
    "  train = EcommerceDataset(\n",
    "            os.path.join(args.data_path, \"train.csv\"),\n",
    "            args,\n",
    "        )\n",
    "\n",
    "  args.train_data_len = len(train)\n",
    "\n",
    "  dev = EcommerceDataset(\n",
    "        os.path.join(args.data_path, \"val.csv\"),\n",
    "        args,\n",
    "    )\n",
    "\n",
    "  test_set = EcommerceDataset(\n",
    "        os.path.join(args.data_path, \"test.csv\"),\n",
    "        args\n",
    "    )\n",
    "\n",
    "  collate = functools.partial(collate_fn, args=args)\n",
    "\n",
    "  train_loader = DataLoader(\n",
    "        train,\n",
    "        batch_size=args.batch_sz,\n",
    "        shuffle=True,\n",
    "        num_workers=args.n_workers,\n",
    "        collate_fn=collate,\n",
    "    )\n",
    "\n",
    "  val_loader = DataLoader(\n",
    "        dev,\n",
    "        batch_size=args.batch_sz,\n",
    "        shuffle=False,\n",
    "        num_workers=args.n_workers,\n",
    "        collate_fn=collate,\n",
    "    )\n",
    "  test_loader = DataLoader(\n",
    "        test_set,\n",
    "        batch_size=args.batch_sz,\n",
    "        shuffle=False,\n",
    "        num_workers=args.n_workers,\n",
    "        collate_fn=collate,\n",
    "    )\n",
    "\n",
    "  return train_loader, val_loader, test_loader"
   ]
  },
  {
   "cell_type": "markdown",
   "metadata": {
    "id": "4Br3eQahTng8"
   },
   "source": [
    "# 3. Configuracion del entrenamiento general"
   ]
  },
  {
   "cell_type": "code",
   "execution_count": 69,
   "metadata": {
    "id": "HhPhzHnI4DHP"
   },
   "outputs": [],
   "source": [
    "import random\n",
    "#Para reproducción de resultados\n",
    "def set_seed(seed):\n",
    "    random.seed(seed)\n",
    "    np.random.seed(seed)\n",
    "    torch.manual_seed(seed)\n",
    "    torch.cuda.manual_seed(seed)\n",
    "    torch.cuda.manual_seed_all(seed)\n",
    "    torch.backends.cudnn.deterministic = True\n",
    "    torch.backends.cudnn.benchmark = False"
   ]
  },
  {
   "cell_type": "code",
   "execution_count": 70,
   "metadata": {
    "id": "Vf4z8lDNxFZW"
   },
   "outputs": [],
   "source": [
    "def model_forward(i_epoch, model, args, criterion, batch):\n",
    "\n",
    "    txt, segment, attmask, tgt= batch\n",
    "    txt, attmask, segment = txt.cuda(), attmask.cuda(), segment.cuda()\n",
    "    out = model(txt, attmask, segment) #out for supervised loss\n",
    "\n",
    "    tgt = tgt.cuda()\n",
    "    final_loss = criterion(out, tgt)\n",
    "\n",
    "    return final_loss, out, tgt"
   ]
  },
  {
   "cell_type": "code",
   "execution_count": 71,
   "metadata": {
    "id": "E6uWqPHGONLa"
   },
   "outputs": [],
   "source": [
    "from sklearn.metrics import f1_score, accuracy_score, average_precision_score\n",
    "from sklearn.metrics import classification_report"
   ]
  },
  {
   "cell_type": "code",
   "execution_count": 72,
   "metadata": {
    "id": "_7ki8ruCWHxN"
   },
   "outputs": [],
   "source": [
    "def model_eval(i_epoch, data, model, args, criterion):\n",
    "    with torch.no_grad():\n",
    "        losses, preds, tgts = [], [], []\n",
    "        probs= []\n",
    "        for batch in data:\n",
    "            loss, out, tgt = model_forward(i_epoch, model, args, criterion, batch)\n",
    "            losses.append(loss.item())\n",
    "\n",
    "            prob = torch.nn.functional.softmax(out,dim=-1).cpu().detach().numpy()\n",
    "            index_max = prob.argmax(axis=-1)\n",
    "            pred = np.zeros(prob.shape)\n",
    "            for i in range(len(index_max)):\n",
    "                pred[i][index_max[i]]=1\n",
    "\n",
    "\n",
    "            preds.append(pred)\n",
    "            probs.append(prob)\n",
    "            tgt = tgt.cpu().detach().numpy()\n",
    "            tgts.append(tgt)\n",
    "\n",
    "    tgts = np.vstack(tgts)\n",
    "    preds = np.vstack(preds)\n",
    "    probs = np.vstack(probs)\n",
    "    report = classification_report(tgts, preds, output_dict=True)\n",
    "    #print(report)\n",
    "    metrics = {\"loss\": np.mean(losses)}\n",
    "    metrics = {\"weighted avg\": report['weighted avg']}\n",
    "\n",
    "    return metrics"
   ]
  },
  {
   "cell_type": "code",
   "execution_count": 73,
   "metadata": {
    "id": "AdsjpErqWkyC"
   },
   "outputs": [],
   "source": [
    "def save_checkpoint(state, is_best, checkpoint_path, filename=\"checkpoint.pt\"):\n",
    "    filename = os.path.join(checkpoint_path, filename)\n",
    "    torch.save(state, filename)\n",
    "    if is_best:\n",
    "        shutil.copyfile(filename, os.path.join(checkpoint_path, \"model_best.pt\"))"
   ]
  },
  {
   "cell_type": "code",
   "execution_count": 74,
   "metadata": {
    "id": "lLf11c4Sy_-C"
   },
   "outputs": [],
   "source": [
    "def train(args,model):\n",
    "    args.savedir = os.path.join(args.savedir, args.name)\n",
    "    os.makedirs(args.savedir, exist_ok=True)\n",
    "\n",
    "    model.cuda()\n",
    "\n",
    "    torch.save(args, os.path.join(args.savedir, \"args.pt\"))\n",
    "\n",
    "    start_epoch, global_step, n_no_improve, best_metric = 0, 0, 0, -np.inf\n",
    "\n",
    "    #Cargar estado del modelo si ya existía previamente\n",
    "    if os.path.exists(os.path.join(args.savedir, \"checkpoint.pt\")):\n",
    "        checkpoint = torch.load(os.path.join(args.savedir, \"checkpoint.pt\"))\n",
    "        start_epoch = checkpoint[\"epoch\"]\n",
    "        n_no_improve = checkpoint[\"n_no_improve\"]\n",
    "        best_metric = checkpoint[\"best_metric\"]\n",
    "        model.load_state_dict(checkpoint[\"state_dict\"])\n",
    "        optimizer.load_state_dict(checkpoint[\"optimizer\"])\n",
    "        scheduler.load_state_dict(checkpoint[\"scheduler\"])\n",
    "\n",
    "    len_train =len(train_loader)\n",
    "    for i_epoch in range(start_epoch, args.max_epochs):\n",
    "        train_losses = []\n",
    "        model.train()\n",
    "        optimizer.zero_grad()\n",
    "\n",
    "        for batch in tqdm(train_loader, total=len_train):\n",
    "            loss, _, _ = model_forward(i_epoch, model, args, criterion, batch)\n",
    "            if args.gradient_accumulation_steps > 1:\n",
    "                loss = loss / args.gradient_accumulation_steps\n",
    "\n",
    "            train_losses.append(loss.item())\n",
    "            loss.backward()\n",
    "            global_step += 1\n",
    "            if global_step % args.gradient_accumulation_steps == 0:\n",
    "                optimizer.step()\n",
    "                optimizer.zero_grad()\n",
    "\n",
    "        model.eval() #desactiva el dropout\n",
    "        metrics= model_eval(i_epoch, val_loader, model, args, criterion)\n",
    "        print(\"Train Loss: {:.4f}\".format(np.mean(train_losses)))\n",
    "        print(\"Val:\", metrics)\n",
    "\n",
    "        tuning_metric = (\n",
    "            metrics['weighted avg']['f1-score']\n",
    "        )\n",
    "\n",
    "        scheduler.step(tuning_metric)\n",
    "        is_improvement = tuning_metric > best_metric\n",
    "        if is_improvement:\n",
    "            best_metric = tuning_metric\n",
    "            n_no_improve = 0\n",
    "        else:\n",
    "            n_no_improve += 1\n",
    "\n",
    "        #Guardar estado actual del modelo\n",
    "        save_checkpoint(\n",
    "            {\n",
    "                \"epoch\": i_epoch + 1,\n",
    "                \"state_dict\": model.state_dict(),\n",
    "                \"optimizer\": optimizer.state_dict(),\n",
    "                \"scheduler\": scheduler.state_dict(),\n",
    "                \"n_no_improve\": n_no_improve,\n",
    "                \"best_metric\": best_metric,\n",
    "            },\n",
    "            is_improvement,\n",
    "            args.savedir,\n",
    "        )\n",
    "\n",
    "        if n_no_improve >= args.patience:\n",
    "              print(\"No improvement. Breaking out of loop.\")\n",
    "              break\n",
    "\n",
    "    load_checkpoint(model, os.path.join(args.savedir, \"model_best.pt\"))\n",
    "    model.eval()\n",
    "    test_metrics= model_eval(\n",
    "        np.inf, test_loader, model, args, criterion, store_preds=True\n",
    "    )\n",
    "    print(f\"Test:\", test_metrics)"
   ]
  },
  {
   "cell_type": "code",
   "execution_count": 75,
   "metadata": {
    "id": "-Dfv_b5ZDLnQ"
   },
   "outputs": [],
   "source": [
    "def load_checkpoint(model, path):\n",
    "    best_checkpoint = torch.load(path)\n",
    "    model.load_state_dict(best_checkpoint[\"state_dict\"])"
   ]
  },
  {
   "cell_type": "markdown",
   "metadata": {
    "id": "Z_wj10d7P8Wu"
   },
   "source": [
    "# 4. BERT"
   ]
  },
  {
   "cell_type": "markdown",
   "metadata": {
    "id": "oorTwukkeuIV"
   },
   "source": [
    "## 4.1 Clasificador"
   ]
  },
  {
   "cell_type": "code",
   "execution_count": 76,
   "metadata": {
    "id": "I3stHKzXQRzV"
   },
   "outputs": [],
   "source": [
    "class BertClf(nn.Module):\n",
    "    def __init__(self, args):\n",
    "        super(BertClf, self).__init__()\n",
    "        self.args = args\n",
    "        self.bert = BertModel.from_pretrained(args.bert_model) #Encoder\n",
    "        self.dropout= nn.Dropout(args.dropout)\n",
    "        self.clf = nn.Linear(args.hidden_sz, args.n_classes) #Cabezal de clasificación\n",
    "\n",
    "    def forward(self, txt, mask, segment):\n",
    "        _, x = self.bert(\n",
    "            input_ids=txt,\n",
    "            token_type_ids=segment,\n",
    "            attention_mask=mask,\n",
    "            return_dict=False,\n",
    "        )\n",
    "        x= self.dropout(x)\n",
    "        return self.clf(x)"
   ]
  },
  {
   "cell_type": "markdown",
   "metadata": {
    "id": "c6BDFEMlOY-O"
   },
   "source": [
    "## 4.2 Entrenamiento"
   ]
  },
  {
   "cell_type": "markdown",
   "metadata": {
    "id": "SDg3NadYwyp0"
   },
   "source": [
    "### 4.1.1 BERT base"
   ]
  },
  {
   "cell_type": "code",
   "execution_count": 77,
   "metadata": {
    "id": "Va-sHBr3xN0b"
   },
   "outputs": [],
   "source": [
    "set_seed(1)\n",
    "args = argparse.Namespace(\n",
    "        bert_model=\"bert-base-uncased\",\n",
    "        model=\"bert\",\n",
    "        batch_sz=8,\n",
    "        max_seq_len=512,\n",
    "        n_workers=2,\n",
    "        dropout=0.1,\n",
    "        hidden_sz=768,\n",
    "        gradient_accumulation_steps=16,\n",
    "        max_epochs=10,\n",
    "        patience=2,\n",
    "        lr=1e-4,\n",
    "        lr_patience=2,\n",
    "        lr_factor = 0.5,\n",
    "        warmup=0.1,\n",
    "        data_path=\"\",\n",
    "        task=\"\",\n",
    "        savedir=\"\",\n",
    "        name=\"bert_base_1\",\n",
    "    )"
   ]
  },
  {
   "cell_type": "code",
   "execution_count": 78,
   "metadata": {
    "colab": {
     "base_uri": "https://localhost:8080/",
     "height": 379,
     "referenced_widgets": [
      "65ab8e556a704ff392c423f99a7f0d4a",
      "c28757a20fb34b0ca1819eb3104603ea",
      "d73d6a7464ff45e997ef3fdc6ee3a9a0",
      "e467f8eaf5354576ba443cfa79b58ce3",
      "f53549d61c594c7eb0f8c78df4303c2b",
      "5cbf22f6dc234a5aae0288c9d8c2543b",
      "787861ce80f841959b55794f75caedc6",
      "8b74793f41144809970eefc4437fa264",
      "457b961a052a4df2b594f0a9e72928c4",
      "e284ecd47f9b4a3391e5a857deb54c59",
      "b758b47eade947918730a12e7d2c48ab",
      "0ace7dbb4f2e43e7b2ba65fe13d16d6a",
      "6871548f9bfc49bdbe496867d54cb1d0",
      "15d7b9e3c8f442abbec7af846e99883f",
      "3c268235088140eaa3850e20093e73bb",
      "63969bbe7ac646a19afe5a9f3aa4bb0a",
      "9e95f5de4a7b4ca490d761d6a5ef7e58",
      "764616467e7147fea5dcf0094a253ae4",
      "da8b8ae1076149bc8d1820dad0d443f3",
      "39bb240563684feb9b39485b461849ed",
      "0fbdf0bad3ed4f63bf98eaa6697bd3c1",
      "8c55d4eb27ef4196b7307793d958b2d3",
      "11e4e357bc344ca58d17d886d5b013dc",
      "7957a4c09503438db0762255c8449bdd",
      "85baf71b8d314c4482b0a42f2dec3d03",
      "5aa14a52c7a246aba91d8136ac124f50",
      "240980275222458796160aea3218e24a",
      "132e211ae8874a6b8c3e2f036130a35e",
      "5ab41edd9f5044829a2cf800eef3c1e7",
      "6db224cb853f46889e5d36bb524634d9",
      "da6fca2044e748c1b0418a549d63c152",
      "bdd9bc78bd134517a90f1a1bf0ce49b8",
      "4cfaecf11a8d4651b7d0a5eb00287b16",
      "32a9e13c753e48968afc30f1f4a7ffee",
      "fcce9d76054b4feab8a29de5d05e37f0",
      "520831ed1564405b920f9ef5d7822911",
      "8cd1c920daa342d09dc880b05759215c",
      "543d993b561f4efe8371054a648095d9",
      "0e854da6d6bd46cd821485b78e3cbd87",
      "985b7291a354421b92103df7af566977",
      "902944aa3f764ee6bb8483f8adaceff1",
      "bbe6aea5632147368800835d23a2bf9d",
      "b0be8437df7f4c73bb45b798b515ad2a",
      "39ab4a7999004e039a6a0e4f87be4665"
     ]
    },
    "id": "P3RzsHpSxYHG",
    "outputId": "69285b08-aa5e-48c6-d32f-388d7b7273e7"
   },
   "outputs": [],
   "source": [
    "train_loader, val_loader, test_loader = get_data_loaders(args)"
   ]
  },
  {
   "cell_type": "code",
   "execution_count": 79,
   "metadata": {
    "colab": {
     "base_uri": "https://localhost:8080/",
     "height": 49,
     "referenced_widgets": [
      "479ce92935c8440790e7a49ff30ce845",
      "b5beeb89a2474486b5819a2b0ae75dc2",
      "86aef85d676f429e9279c227f433dc82",
      "3bab910c56344cbf9d6161f2144902a3",
      "d430f3e8939f47388e81c6277e836eaf",
      "b63f73845cd0434ba134d94abbbf3bcb",
      "d83103d665b94d8b9545f2f09c8d5719",
      "7fc4627e143740af84e09fe6629af25d",
      "a183ff603ce94257bb8c063b48a14b89",
      "691fdad297094ab080ad1664de8844e1",
      "2bb93c6763a54779ae5159c776b29929"
     ]
    },
    "id": "QeVdcspVrOhV",
    "outputId": "13a9d14f-5904-4526-a944-c37f113b827a"
   },
   "outputs": [],
   "source": [
    "#Modelo\n",
    "bert_base = BertClf(args)"
   ]
  },
  {
   "cell_type": "code",
   "execution_count": 80,
   "metadata": {
    "colab": {
     "base_uri": "https://localhost:8080/"
    },
    "id": "dP72cDTrrVV8",
    "outputId": "db1d3086-8614-45ad-98bf-49bba1737281"
   },
   "outputs": [
    {
     "data": {
      "text/plain": [
       "BertModel(\n",
       "  (embeddings): BertEmbeddings(\n",
       "    (word_embeddings): Embedding(30522, 768, padding_idx=0)\n",
       "    (position_embeddings): Embedding(512, 768)\n",
       "    (token_type_embeddings): Embedding(2, 768)\n",
       "    (LayerNorm): LayerNorm((768,), eps=1e-12, elementwise_affine=True)\n",
       "    (dropout): Dropout(p=0.1, inplace=False)\n",
       "  )\n",
       "  (encoder): BertEncoder(\n",
       "    (layer): ModuleList(\n",
       "      (0-11): 12 x BertLayer(\n",
       "        (attention): BertAttention(\n",
       "          (self): BertSdpaSelfAttention(\n",
       "            (query): Linear(in_features=768, out_features=768, bias=True)\n",
       "            (key): Linear(in_features=768, out_features=768, bias=True)\n",
       "            (value): Linear(in_features=768, out_features=768, bias=True)\n",
       "            (dropout): Dropout(p=0.1, inplace=False)\n",
       "          )\n",
       "          (output): BertSelfOutput(\n",
       "            (dense): Linear(in_features=768, out_features=768, bias=True)\n",
       "            (LayerNorm): LayerNorm((768,), eps=1e-12, elementwise_affine=True)\n",
       "            (dropout): Dropout(p=0.1, inplace=False)\n",
       "          )\n",
       "        )\n",
       "        (intermediate): BertIntermediate(\n",
       "          (dense): Linear(in_features=768, out_features=3072, bias=True)\n",
       "          (intermediate_act_fn): GELUActivation()\n",
       "        )\n",
       "        (output): BertOutput(\n",
       "          (dense): Linear(in_features=3072, out_features=768, bias=True)\n",
       "          (LayerNorm): LayerNorm((768,), eps=1e-12, elementwise_affine=True)\n",
       "          (dropout): Dropout(p=0.1, inplace=False)\n",
       "        )\n",
       "      )\n",
       "    )\n",
       "  )\n",
       "  (pooler): BertPooler(\n",
       "    (dense): Linear(in_features=768, out_features=768, bias=True)\n",
       "    (activation): Tanh()\n",
       "  )\n",
       ")"
      ]
     },
     "execution_count": 80,
     "metadata": {},
     "output_type": "execute_result"
    }
   ],
   "source": [
    "bert_base.bert"
   ]
  },
  {
   "cell_type": "code",
   "execution_count": 81,
   "metadata": {
    "id": "_pQYPuz9xh_Y"
   },
   "outputs": [
    {
     "data": {
      "text/plain": [
       "True"
      ]
     },
     "execution_count": 81,
     "metadata": {},
     "output_type": "execute_result"
    }
   ],
   "source": [
    "#Criterion\n",
    "freqs = [args.label_freqs[l] for l in args.labels]\n",
    "label_weights = (torch.FloatTensor(freqs) / args.train_data_len) ** -1\n",
    "criterion = nn.BCEWithLogitsLoss(pos_weight=label_weights.cuda())\n",
    "#optimizer\n",
    "optimizer = optim.AdamW(bert_base.parameters(), lr=args.lr)\n",
    "#scheduler\n",
    "scheduler = optim.lr_scheduler.ReduceLROnPlateau(\n",
    "        optimizer, \"max\", patience=args.lr_patience, factor=args.lr_factor\n",
    "    )\n",
    "\n",
    "torch.cuda.is_available()"
   ]
  },
  {
   "cell_type": "code",
   "execution_count": 82,
   "metadata": {
    "colab": {
     "base_uri": "https://localhost:8080/"
    },
    "id": "GZd2IEp5x7WS",
    "outputId": "d466b0d0-9972-4a9b-ff4f-07e5b3040e57"
   },
   "outputs": [
    {
     "name": "stderr",
     "output_type": "stream",
     "text": [
      "  0%|          | 103/20831 [00:42<2:21:33,  2.44it/s]\n"
     ]
    },
    {
     "ename": "KeyboardInterrupt",
     "evalue": "",
     "output_type": "error",
     "traceback": [
      "\u001b[31m---------------------------------------------------------------------------\u001b[39m",
      "\u001b[31mKeyboardInterrupt\u001b[39m                         Traceback (most recent call last)",
      "\u001b[36mCell\u001b[39m\u001b[36m \u001b[39m\u001b[32mIn[82]\u001b[39m\u001b[32m, line 1\u001b[39m\n\u001b[32m----> \u001b[39m\u001b[32m1\u001b[39m \u001b[43mtrain\u001b[49m\u001b[43m(\u001b[49m\u001b[43margs\u001b[49m\u001b[43m,\u001b[49m\u001b[43mbert_base\u001b[49m\u001b[43m)\u001b[49m\n",
      "\u001b[36mCell\u001b[39m\u001b[36m \u001b[39m\u001b[32mIn[74]\u001b[39m\u001b[32m, line 28\u001b[39m, in \u001b[36mtrain\u001b[39m\u001b[34m(args, model)\u001b[39m\n\u001b[32m     25\u001b[39m optimizer.zero_grad()\n\u001b[32m     27\u001b[39m \u001b[38;5;28;01mfor\u001b[39;00m batch \u001b[38;5;129;01min\u001b[39;00m tqdm(train_loader, total=len_train):\n\u001b[32m---> \u001b[39m\u001b[32m28\u001b[39m     loss, _, _ = \u001b[43mmodel_forward\u001b[49m\u001b[43m(\u001b[49m\u001b[43mi_epoch\u001b[49m\u001b[43m,\u001b[49m\u001b[43m \u001b[49m\u001b[43mmodel\u001b[49m\u001b[43m,\u001b[49m\u001b[43m \u001b[49m\u001b[43margs\u001b[49m\u001b[43m,\u001b[49m\u001b[43m \u001b[49m\u001b[43mcriterion\u001b[49m\u001b[43m,\u001b[49m\u001b[43m \u001b[49m\u001b[43mbatch\u001b[49m\u001b[43m)\u001b[49m\n\u001b[32m     29\u001b[39m     \u001b[38;5;28;01mif\u001b[39;00m args.gradient_accumulation_steps > \u001b[32m1\u001b[39m:\n\u001b[32m     30\u001b[39m         loss = loss / args.gradient_accumulation_steps\n",
      "\u001b[36mCell\u001b[39m\u001b[36m \u001b[39m\u001b[32mIn[70]\u001b[39m\u001b[32m, line 4\u001b[39m, in \u001b[36mmodel_forward\u001b[39m\u001b[34m(i_epoch, model, args, criterion, batch)\u001b[39m\n\u001b[32m      1\u001b[39m \u001b[38;5;28;01mdef\u001b[39;00m\u001b[38;5;250m \u001b[39m\u001b[34mmodel_forward\u001b[39m(i_epoch, model, args, criterion, batch):\n\u001b[32m      3\u001b[39m     txt, segment, attmask, tgt= batch\n\u001b[32m----> \u001b[39m\u001b[32m4\u001b[39m     txt, attmask, segment = \u001b[43mtxt\u001b[49m\u001b[43m.\u001b[49m\u001b[43mcuda\u001b[49m\u001b[43m(\u001b[49m\u001b[43m)\u001b[49m, attmask.cuda(), segment.cuda()\n\u001b[32m      5\u001b[39m     out = model(txt, attmask, segment) \u001b[38;5;66;03m#out for supervised loss\u001b[39;00m\n\u001b[32m      7\u001b[39m     tgt = tgt.cuda()\n",
      "\u001b[31mKeyboardInterrupt\u001b[39m: "
     ]
    }
   ],
   "source": [
    "train(args,bert_base)"
   ]
  },
  {
   "cell_type": "code",
   "execution_count": null,
   "metadata": {
    "id": "eGOFwBA2WUuu"
   },
   "outputs": [],
   "source": [
    "def model_predict(model,text,args):\n",
    "  with torch.no_grad():\n",
    "    tokenizer = BertTokenizer.from_pretrained(args.bert_model)\n",
    "    inputs=tokenizer(text, return_tensors=\"pt\", padding='max_length',truncation=True)\n",
    "    txt=inputs.input_ids\n",
    "    segment=inputs.token_type_ids\n",
    "    attmask=inputs.attention_mask\n",
    "    txt, attmask, segment = txt.cuda(), attmask.cuda(), segment.cuda()\n",
    "\n",
    "    out = bert_base(txt, attmask, segment)\n",
    "    prob = torch.nn.functional.softmax(out[0],dim=0)\n",
    "    index_max = prob.argmax(axis=0)\n",
    "    pred= args.labels[index_max]\n",
    "\n",
    "  return pred, prob"
   ]
  },
  {
   "cell_type": "code",
   "execution_count": null,
   "metadata": {
    "colab": {
     "base_uri": "https://localhost:8080/"
    },
    "id": "Mb9gSqP6vpyP",
    "outputId": "720f065a-c6f2-4c48-9906-244d72b6f91f"
   },
   "outputs": [
    {
     "data": {
      "text/plain": [
       "('Electronics',\n",
       " tensor([3.1366e-05, 7.7352e-05, 1.2388e-05, 9.9988e-01], device='cuda:0'))"
      ]
     },
     "execution_count": 179,
     "metadata": {},
     "output_type": "execute_result"
    }
   ],
   "source": [
    "text=\"GoPro Fetch Dog Harness Mount for Camera Style name:Fetch (Dog Harness) GoPro harnais pour chiens - fetch pour HERO 1, 2, 3, 3+, 4.\"\n",
    "model_predict(bert_base,text,args)"
   ]
  },
  {
   "cell_type": "code",
   "execution_count": null,
   "metadata": {
    "colab": {
     "base_uri": "https://localhost:8080/"
    },
    "id": "bHCeRAmxFaHF",
    "outputId": "fee3910e-a2d2-486a-a792-6c8f9e4cb5e5"
   },
   "outputs": [
    {
     "data": {
      "text/plain": [
       "('Books',\n",
       " tensor([9.9993e-01, 1.1027e-05, 1.4836e-05, 4.6559e-05], device='cuda:0'))"
      ]
     },
     "execution_count": 180,
     "metadata": {},
     "output_type": "execute_result"
    }
   ],
   "source": [
    "text=\"Speech and Language Processing Pasta dura – Illustrated, 1 abril 2008  Edición Inglés  por Daniel Jurafsky (Autor), James Martin (Autor) For undergraduate or advanced undergraduate courses in Classical Natural Language Processing, Statistical Natural Language Processing, Speech Recognition, Computational Linguistics, and Human Language Processing. An explosion of Web-based language techniques, merging of distinct fields, availability of phone-based dialogue systems, and much more make this an exciting time in speech and language processing. The first of its kind to thoroughly cover language technology - at all levels and with all modern technologies - this text takes an empirical approach to the subject, based on applying statistical and other machine-learning algorithms to large corporations. The authors cover areas that traditionally are taught in different courses, to describe a unified vision of speech and language processing. Emphasis is on practical applications and scientific evaluation. An accompanying Website contains teaching materials for instructors, with pointers to language processing resources on the Web. The Second Edition offers a significant amount of new and extended material\"\n",
    "model_predict(bert_base,text,args)"
   ]
  },
  {
   "cell_type": "code",
   "execution_count": null,
   "metadata": {
    "colab": {
     "base_uri": "https://localhost:8080/"
    },
    "id": "9Shcr51nFjhU",
    "outputId": "77e6e7c0-696f-4fdb-e9fe-a5f0153a213f"
   },
   "outputs": [
    {
     "data": {
      "text/plain": [
       "('Clothing & Accessories',\n",
       " tensor([1.2601e-05, 7.7216e-05, 9.9989e-01, 1.6155e-05], device='cuda:0'))"
      ]
     },
     "execution_count": 181,
     "metadata": {},
     "output_type": "execute_result"
    }
   ],
   "source": [
    "text=\"U.S. Polo Assn. Men's Cotton Casual Jacket U.S. Polo Assn. Men Dark Blue Plain / Solid Sleeveless V-neck Regular Fit Casual XXX-Large Waistcoats\"\n",
    "model_predict(bert_base,text,args)"
   ]
  },
  {
   "cell_type": "code",
   "execution_count": null,
   "metadata": {
    "colab": {
     "base_uri": "https://localhost:8080/"
    },
    "id": "GFE_kC3wGnpB",
    "outputId": "cc1939e6-158a-47d4-f3d1-40ac052f30ad"
   },
   "outputs": [
    {
     "data": {
      "text/plain": [
       "('Household',\n",
       " tensor([8.7531e-06, 9.9994e-01, 1.0355e-05, 4.5056e-05], device='cuda:0'))"
      ]
     },
     "execution_count": 182,
     "metadata": {},
     "output_type": "execute_result"
    }
   ],
   "source": [
    "text = \"BESTONZON 2pcs Wooden Crepe Spreader Pancake Maker Batter Dough Spreader DIY Kitchen Tool Size:2 pcs DescriptionMade of high quality wood, it is safe, non-toxic and durable. Pour your batter into the pan and use the spreader in a circular motion to spread the batter. You can make delicious crepes easily with the right tool\"\n",
    "model_predict(bert_base,text,args)"
   ]
  },
  {
   "cell_type": "code",
   "execution_count": null,
   "metadata": {
    "colab": {
     "base_uri": "https://localhost:8080/"
    },
    "id": "59NBxlc9GpSn",
    "outputId": "0014a5cd-1a51-45db-95f3-bb19532ca179"
   },
   "outputs": [
    {
     "data": {
      "text/plain": [
       "('Electronics',\n",
       " tensor([5.5867e-05, 5.4739e-05, 8.2725e-06, 9.9988e-01], device='cuda:0'))"
      ]
     },
     "execution_count": 183,
     "metadata": {},
     "output_type": "execute_result"
    }
   ],
   "source": [
    "bert_base.cuda()\n",
    "text=\"iphone 12 4gb ram\"\n",
    "model_predict(bert_base,text,args)"
   ]
  },
  {
   "cell_type": "code",
   "execution_count": null,
   "metadata": {
    "colab": {
     "base_uri": "https://localhost:8080/"
    },
    "id": "GjkajuKRIGbt",
    "outputId": "63fa648a-67d0-4cad-f25b-ac5a0461e866"
   },
   "outputs": [
    {
     "data": {
      "text/plain": [
       "('Electronics',\n",
       " tensor([5.5867e-05, 5.4739e-05, 8.2725e-06, 9.9988e-01], device='cuda:0'))"
      ]
     },
     "execution_count": 184,
     "metadata": {},
     "output_type": "execute_result"
    }
   ],
   "source": [
    "bert_base.cuda()\n",
    "text=\"IPHONE 12 4GB RAM\"\n",
    "model_predict(bert_base,text,args)"
   ]
  },
  {
   "cell_type": "code",
   "execution_count": null,
   "metadata": {
    "id": "Ma2R0kRPIL8q"
   },
   "outputs": [],
   "source": []
  }
 ],
 "metadata": {
  "accelerator": "GPU",
  "colab": {
   "machine_shape": "hm",
   "provenance": []
  },
  "kernelspec": {
   "display_name": "restmex",
   "language": "python",
   "name": "python3"
  },
  "language_info": {
   "codemirror_mode": {
    "name": "ipython",
    "version": 3
   },
   "file_extension": ".py",
   "mimetype": "text/x-python",
   "name": "python",
   "nbconvert_exporter": "python",
   "pygments_lexer": "ipython3",
   "version": "3.12.9"
  },
  "widgets": {
   "application/vnd.jupyter.widget-state+json": {
    "0ace7dbb4f2e43e7b2ba65fe13d16d6a": {
     "model_module": "@jupyter-widgets/controls",
     "model_module_version": "1.5.0",
     "model_name": "HBoxModel",
     "state": {
      "_dom_classes": [],
      "_model_module": "@jupyter-widgets/controls",
      "_model_module_version": "1.5.0",
      "_model_name": "HBoxModel",
      "_view_count": null,
      "_view_module": "@jupyter-widgets/controls",
      "_view_module_version": "1.5.0",
      "_view_name": "HBoxView",
      "box_style": "",
      "children": [
       "IPY_MODEL_6871548f9bfc49bdbe496867d54cb1d0",
       "IPY_MODEL_15d7b9e3c8f442abbec7af846e99883f",
       "IPY_MODEL_3c268235088140eaa3850e20093e73bb"
      ],
      "layout": "IPY_MODEL_63969bbe7ac646a19afe5a9f3aa4bb0a"
     }
    },
    "0e854da6d6bd46cd821485b78e3cbd87": {
     "model_module": "@jupyter-widgets/base",
     "model_module_version": "1.2.0",
     "model_name": "LayoutModel",
     "state": {
      "_model_module": "@jupyter-widgets/base",
      "_model_module_version": "1.2.0",
      "_model_name": "LayoutModel",
      "_view_count": null,
      "_view_module": "@jupyter-widgets/base",
      "_view_module_version": "1.2.0",
      "_view_name": "LayoutView",
      "align_content": null,
      "align_items": null,
      "align_self": null,
      "border": null,
      "bottom": null,
      "display": null,
      "flex": null,
      "flex_flow": null,
      "grid_area": null,
      "grid_auto_columns": null,
      "grid_auto_flow": null,
      "grid_auto_rows": null,
      "grid_column": null,
      "grid_gap": null,
      "grid_row": null,
      "grid_template_areas": null,
      "grid_template_columns": null,
      "grid_template_rows": null,
      "height": null,
      "justify_content": null,
      "justify_items": null,
      "left": null,
      "margin": null,
      "max_height": null,
      "max_width": null,
      "min_height": null,
      "min_width": null,
      "object_fit": null,
      "object_position": null,
      "order": null,
      "overflow": null,
      "overflow_x": null,
      "overflow_y": null,
      "padding": null,
      "right": null,
      "top": null,
      "visibility": null,
      "width": null
     }
    },
    "0fbdf0bad3ed4f63bf98eaa6697bd3c1": {
     "model_module": "@jupyter-widgets/base",
     "model_module_version": "1.2.0",
     "model_name": "LayoutModel",
     "state": {
      "_model_module": "@jupyter-widgets/base",
      "_model_module_version": "1.2.0",
      "_model_name": "LayoutModel",
      "_view_count": null,
      "_view_module": "@jupyter-widgets/base",
      "_view_module_version": "1.2.0",
      "_view_name": "LayoutView",
      "align_content": null,
      "align_items": null,
      "align_self": null,
      "border": null,
      "bottom": null,
      "display": null,
      "flex": null,
      "flex_flow": null,
      "grid_area": null,
      "grid_auto_columns": null,
      "grid_auto_flow": null,
      "grid_auto_rows": null,
      "grid_column": null,
      "grid_gap": null,
      "grid_row": null,
      "grid_template_areas": null,
      "grid_template_columns": null,
      "grid_template_rows": null,
      "height": null,
      "justify_content": null,
      "justify_items": null,
      "left": null,
      "margin": null,
      "max_height": null,
      "max_width": null,
      "min_height": null,
      "min_width": null,
      "object_fit": null,
      "object_position": null,
      "order": null,
      "overflow": null,
      "overflow_x": null,
      "overflow_y": null,
      "padding": null,
      "right": null,
      "top": null,
      "visibility": null,
      "width": null
     }
    },
    "11e4e357bc344ca58d17d886d5b013dc": {
     "model_module": "@jupyter-widgets/controls",
     "model_module_version": "1.5.0",
     "model_name": "HBoxModel",
     "state": {
      "_dom_classes": [],
      "_model_module": "@jupyter-widgets/controls",
      "_model_module_version": "1.5.0",
      "_model_name": "HBoxModel",
      "_view_count": null,
      "_view_module": "@jupyter-widgets/controls",
      "_view_module_version": "1.5.0",
      "_view_name": "HBoxView",
      "box_style": "",
      "children": [
       "IPY_MODEL_7957a4c09503438db0762255c8449bdd",
       "IPY_MODEL_85baf71b8d314c4482b0a42f2dec3d03",
       "IPY_MODEL_5aa14a52c7a246aba91d8136ac124f50"
      ],
      "layout": "IPY_MODEL_240980275222458796160aea3218e24a"
     }
    },
    "132e211ae8874a6b8c3e2f036130a35e": {
     "model_module": "@jupyter-widgets/base",
     "model_module_version": "1.2.0",
     "model_name": "LayoutModel",
     "state": {
      "_model_module": "@jupyter-widgets/base",
      "_model_module_version": "1.2.0",
      "_model_name": "LayoutModel",
      "_view_count": null,
      "_view_module": "@jupyter-widgets/base",
      "_view_module_version": "1.2.0",
      "_view_name": "LayoutView",
      "align_content": null,
      "align_items": null,
      "align_self": null,
      "border": null,
      "bottom": null,
      "display": null,
      "flex": null,
      "flex_flow": null,
      "grid_area": null,
      "grid_auto_columns": null,
      "grid_auto_flow": null,
      "grid_auto_rows": null,
      "grid_column": null,
      "grid_gap": null,
      "grid_row": null,
      "grid_template_areas": null,
      "grid_template_columns": null,
      "grid_template_rows": null,
      "height": null,
      "justify_content": null,
      "justify_items": null,
      "left": null,
      "margin": null,
      "max_height": null,
      "max_width": null,
      "min_height": null,
      "min_width": null,
      "object_fit": null,
      "object_position": null,
      "order": null,
      "overflow": null,
      "overflow_x": null,
      "overflow_y": null,
      "padding": null,
      "right": null,
      "top": null,
      "visibility": null,
      "width": null
     }
    },
    "15d7b9e3c8f442abbec7af846e99883f": {
     "model_module": "@jupyter-widgets/controls",
     "model_module_version": "1.5.0",
     "model_name": "FloatProgressModel",
     "state": {
      "_dom_classes": [],
      "_model_module": "@jupyter-widgets/controls",
      "_model_module_version": "1.5.0",
      "_model_name": "FloatProgressModel",
      "_view_count": null,
      "_view_module": "@jupyter-widgets/controls",
      "_view_module_version": "1.5.0",
      "_view_name": "ProgressView",
      "bar_style": "success",
      "description": "",
      "description_tooltip": null,
      "layout": "IPY_MODEL_da8b8ae1076149bc8d1820dad0d443f3",
      "max": 231508,
      "min": 0,
      "orientation": "horizontal",
      "style": "IPY_MODEL_39bb240563684feb9b39485b461849ed",
      "value": 231508
     }
    },
    "240980275222458796160aea3218e24a": {
     "model_module": "@jupyter-widgets/base",
     "model_module_version": "1.2.0",
     "model_name": "LayoutModel",
     "state": {
      "_model_module": "@jupyter-widgets/base",
      "_model_module_version": "1.2.0",
      "_model_name": "LayoutModel",
      "_view_count": null,
      "_view_module": "@jupyter-widgets/base",
      "_view_module_version": "1.2.0",
      "_view_name": "LayoutView",
      "align_content": null,
      "align_items": null,
      "align_self": null,
      "border": null,
      "bottom": null,
      "display": null,
      "flex": null,
      "flex_flow": null,
      "grid_area": null,
      "grid_auto_columns": null,
      "grid_auto_flow": null,
      "grid_auto_rows": null,
      "grid_column": null,
      "grid_gap": null,
      "grid_row": null,
      "grid_template_areas": null,
      "grid_template_columns": null,
      "grid_template_rows": null,
      "height": null,
      "justify_content": null,
      "justify_items": null,
      "left": null,
      "margin": null,
      "max_height": null,
      "max_width": null,
      "min_height": null,
      "min_width": null,
      "object_fit": null,
      "object_position": null,
      "order": null,
      "overflow": null,
      "overflow_x": null,
      "overflow_y": null,
      "padding": null,
      "right": null,
      "top": null,
      "visibility": null,
      "width": null
     }
    },
    "2bb93c6763a54779ae5159c776b29929": {
     "model_module": "@jupyter-widgets/controls",
     "model_module_version": "1.5.0",
     "model_name": "DescriptionStyleModel",
     "state": {
      "_model_module": "@jupyter-widgets/controls",
      "_model_module_version": "1.5.0",
      "_model_name": "DescriptionStyleModel",
      "_view_count": null,
      "_view_module": "@jupyter-widgets/base",
      "_view_module_version": "1.2.0",
      "_view_name": "StyleView",
      "description_width": ""
     }
    },
    "32a9e13c753e48968afc30f1f4a7ffee": {
     "model_module": "@jupyter-widgets/controls",
     "model_module_version": "1.5.0",
     "model_name": "HBoxModel",
     "state": {
      "_dom_classes": [],
      "_model_module": "@jupyter-widgets/controls",
      "_model_module_version": "1.5.0",
      "_model_name": "HBoxModel",
      "_view_count": null,
      "_view_module": "@jupyter-widgets/controls",
      "_view_module_version": "1.5.0",
      "_view_name": "HBoxView",
      "box_style": "",
      "children": [
       "IPY_MODEL_fcce9d76054b4feab8a29de5d05e37f0",
       "IPY_MODEL_520831ed1564405b920f9ef5d7822911",
       "IPY_MODEL_8cd1c920daa342d09dc880b05759215c"
      ],
      "layout": "IPY_MODEL_543d993b561f4efe8371054a648095d9"
     }
    },
    "39ab4a7999004e039a6a0e4f87be4665": {
     "model_module": "@jupyter-widgets/controls",
     "model_module_version": "1.5.0",
     "model_name": "DescriptionStyleModel",
     "state": {
      "_model_module": "@jupyter-widgets/controls",
      "_model_module_version": "1.5.0",
      "_model_name": "DescriptionStyleModel",
      "_view_count": null,
      "_view_module": "@jupyter-widgets/base",
      "_view_module_version": "1.2.0",
      "_view_name": "StyleView",
      "description_width": ""
     }
    },
    "39bb240563684feb9b39485b461849ed": {
     "model_module": "@jupyter-widgets/controls",
     "model_module_version": "1.5.0",
     "model_name": "ProgressStyleModel",
     "state": {
      "_model_module": "@jupyter-widgets/controls",
      "_model_module_version": "1.5.0",
      "_model_name": "ProgressStyleModel",
      "_view_count": null,
      "_view_module": "@jupyter-widgets/base",
      "_view_module_version": "1.2.0",
      "_view_name": "StyleView",
      "bar_color": null,
      "description_width": ""
     }
    },
    "3bab910c56344cbf9d6161f2144902a3": {
     "model_module": "@jupyter-widgets/controls",
     "model_module_version": "1.5.0",
     "model_name": "HTMLModel",
     "state": {
      "_dom_classes": [],
      "_model_module": "@jupyter-widgets/controls",
      "_model_module_version": "1.5.0",
      "_model_name": "HTMLModel",
      "_view_count": null,
      "_view_module": "@jupyter-widgets/controls",
      "_view_module_version": "1.5.0",
      "_view_name": "HTMLView",
      "description": "",
      "description_tooltip": null,
      "layout": "IPY_MODEL_691fdad297094ab080ad1664de8844e1",
      "placeholder": "​",
      "style": "IPY_MODEL_2bb93c6763a54779ae5159c776b29929",
      "value": " 440M/440M [00:02&lt;00:00, 237MB/s]"
     }
    },
    "3c268235088140eaa3850e20093e73bb": {
     "model_module": "@jupyter-widgets/controls",
     "model_module_version": "1.5.0",
     "model_name": "HTMLModel",
     "state": {
      "_dom_classes": [],
      "_model_module": "@jupyter-widgets/controls",
      "_model_module_version": "1.5.0",
      "_model_name": "HTMLModel",
      "_view_count": null,
      "_view_module": "@jupyter-widgets/controls",
      "_view_module_version": "1.5.0",
      "_view_name": "HTMLView",
      "description": "",
      "description_tooltip": null,
      "layout": "IPY_MODEL_0fbdf0bad3ed4f63bf98eaa6697bd3c1",
      "placeholder": "​",
      "style": "IPY_MODEL_8c55d4eb27ef4196b7307793d958b2d3",
      "value": " 232k/232k [00:00&lt;00:00, 5.57MB/s]"
     }
    },
    "457b961a052a4df2b594f0a9e72928c4": {
     "model_module": "@jupyter-widgets/controls",
     "model_module_version": "1.5.0",
     "model_name": "ProgressStyleModel",
     "state": {
      "_model_module": "@jupyter-widgets/controls",
      "_model_module_version": "1.5.0",
      "_model_name": "ProgressStyleModel",
      "_view_count": null,
      "_view_module": "@jupyter-widgets/base",
      "_view_module_version": "1.2.0",
      "_view_name": "StyleView",
      "bar_color": null,
      "description_width": ""
     }
    },
    "479ce92935c8440790e7a49ff30ce845": {
     "model_module": "@jupyter-widgets/controls",
     "model_module_version": "1.5.0",
     "model_name": "HBoxModel",
     "state": {
      "_dom_classes": [],
      "_model_module": "@jupyter-widgets/controls",
      "_model_module_version": "1.5.0",
      "_model_name": "HBoxModel",
      "_view_count": null,
      "_view_module": "@jupyter-widgets/controls",
      "_view_module_version": "1.5.0",
      "_view_name": "HBoxView",
      "box_style": "",
      "children": [
       "IPY_MODEL_b5beeb89a2474486b5819a2b0ae75dc2",
       "IPY_MODEL_86aef85d676f429e9279c227f433dc82",
       "IPY_MODEL_3bab910c56344cbf9d6161f2144902a3"
      ],
      "layout": "IPY_MODEL_d430f3e8939f47388e81c6277e836eaf"
     }
    },
    "4cfaecf11a8d4651b7d0a5eb00287b16": {
     "model_module": "@jupyter-widgets/controls",
     "model_module_version": "1.5.0",
     "model_name": "DescriptionStyleModel",
     "state": {
      "_model_module": "@jupyter-widgets/controls",
      "_model_module_version": "1.5.0",
      "_model_name": "DescriptionStyleModel",
      "_view_count": null,
      "_view_module": "@jupyter-widgets/base",
      "_view_module_version": "1.2.0",
      "_view_name": "StyleView",
      "description_width": ""
     }
    },
    "520831ed1564405b920f9ef5d7822911": {
     "model_module": "@jupyter-widgets/controls",
     "model_module_version": "1.5.0",
     "model_name": "FloatProgressModel",
     "state": {
      "_dom_classes": [],
      "_model_module": "@jupyter-widgets/controls",
      "_model_module_version": "1.5.0",
      "_model_name": "FloatProgressModel",
      "_view_count": null,
      "_view_module": "@jupyter-widgets/controls",
      "_view_module_version": "1.5.0",
      "_view_name": "ProgressView",
      "bar_style": "success",
      "description": "",
      "description_tooltip": null,
      "layout": "IPY_MODEL_902944aa3f764ee6bb8483f8adaceff1",
      "max": 570,
      "min": 0,
      "orientation": "horizontal",
      "style": "IPY_MODEL_bbe6aea5632147368800835d23a2bf9d",
      "value": 570
     }
    },
    "543d993b561f4efe8371054a648095d9": {
     "model_module": "@jupyter-widgets/base",
     "model_module_version": "1.2.0",
     "model_name": "LayoutModel",
     "state": {
      "_model_module": "@jupyter-widgets/base",
      "_model_module_version": "1.2.0",
      "_model_name": "LayoutModel",
      "_view_count": null,
      "_view_module": "@jupyter-widgets/base",
      "_view_module_version": "1.2.0",
      "_view_name": "LayoutView",
      "align_content": null,
      "align_items": null,
      "align_self": null,
      "border": null,
      "bottom": null,
      "display": null,
      "flex": null,
      "flex_flow": null,
      "grid_area": null,
      "grid_auto_columns": null,
      "grid_auto_flow": null,
      "grid_auto_rows": null,
      "grid_column": null,
      "grid_gap": null,
      "grid_row": null,
      "grid_template_areas": null,
      "grid_template_columns": null,
      "grid_template_rows": null,
      "height": null,
      "justify_content": null,
      "justify_items": null,
      "left": null,
      "margin": null,
      "max_height": null,
      "max_width": null,
      "min_height": null,
      "min_width": null,
      "object_fit": null,
      "object_position": null,
      "order": null,
      "overflow": null,
      "overflow_x": null,
      "overflow_y": null,
      "padding": null,
      "right": null,
      "top": null,
      "visibility": null,
      "width": null
     }
    },
    "5aa14a52c7a246aba91d8136ac124f50": {
     "model_module": "@jupyter-widgets/controls",
     "model_module_version": "1.5.0",
     "model_name": "HTMLModel",
     "state": {
      "_dom_classes": [],
      "_model_module": "@jupyter-widgets/controls",
      "_model_module_version": "1.5.0",
      "_model_name": "HTMLModel",
      "_view_count": null,
      "_view_module": "@jupyter-widgets/controls",
      "_view_module_version": "1.5.0",
      "_view_name": "HTMLView",
      "description": "",
      "description_tooltip": null,
      "layout": "IPY_MODEL_bdd9bc78bd134517a90f1a1bf0ce49b8",
      "placeholder": "​",
      "style": "IPY_MODEL_4cfaecf11a8d4651b7d0a5eb00287b16",
      "value": " 466k/466k [00:00&lt;00:00, 22.4MB/s]"
     }
    },
    "5ab41edd9f5044829a2cf800eef3c1e7": {
     "model_module": "@jupyter-widgets/controls",
     "model_module_version": "1.5.0",
     "model_name": "DescriptionStyleModel",
     "state": {
      "_model_module": "@jupyter-widgets/controls",
      "_model_module_version": "1.5.0",
      "_model_name": "DescriptionStyleModel",
      "_view_count": null,
      "_view_module": "@jupyter-widgets/base",
      "_view_module_version": "1.2.0",
      "_view_name": "StyleView",
      "description_width": ""
     }
    },
    "5cbf22f6dc234a5aae0288c9d8c2543b": {
     "model_module": "@jupyter-widgets/base",
     "model_module_version": "1.2.0",
     "model_name": "LayoutModel",
     "state": {
      "_model_module": "@jupyter-widgets/base",
      "_model_module_version": "1.2.0",
      "_model_name": "LayoutModel",
      "_view_count": null,
      "_view_module": "@jupyter-widgets/base",
      "_view_module_version": "1.2.0",
      "_view_name": "LayoutView",
      "align_content": null,
      "align_items": null,
      "align_self": null,
      "border": null,
      "bottom": null,
      "display": null,
      "flex": null,
      "flex_flow": null,
      "grid_area": null,
      "grid_auto_columns": null,
      "grid_auto_flow": null,
      "grid_auto_rows": null,
      "grid_column": null,
      "grid_gap": null,
      "grid_row": null,
      "grid_template_areas": null,
      "grid_template_columns": null,
      "grid_template_rows": null,
      "height": null,
      "justify_content": null,
      "justify_items": null,
      "left": null,
      "margin": null,
      "max_height": null,
      "max_width": null,
      "min_height": null,
      "min_width": null,
      "object_fit": null,
      "object_position": null,
      "order": null,
      "overflow": null,
      "overflow_x": null,
      "overflow_y": null,
      "padding": null,
      "right": null,
      "top": null,
      "visibility": null,
      "width": null
     }
    },
    "63969bbe7ac646a19afe5a9f3aa4bb0a": {
     "model_module": "@jupyter-widgets/base",
     "model_module_version": "1.2.0",
     "model_name": "LayoutModel",
     "state": {
      "_model_module": "@jupyter-widgets/base",
      "_model_module_version": "1.2.0",
      "_model_name": "LayoutModel",
      "_view_count": null,
      "_view_module": "@jupyter-widgets/base",
      "_view_module_version": "1.2.0",
      "_view_name": "LayoutView",
      "align_content": null,
      "align_items": null,
      "align_self": null,
      "border": null,
      "bottom": null,
      "display": null,
      "flex": null,
      "flex_flow": null,
      "grid_area": null,
      "grid_auto_columns": null,
      "grid_auto_flow": null,
      "grid_auto_rows": null,
      "grid_column": null,
      "grid_gap": null,
      "grid_row": null,
      "grid_template_areas": null,
      "grid_template_columns": null,
      "grid_template_rows": null,
      "height": null,
      "justify_content": null,
      "justify_items": null,
      "left": null,
      "margin": null,
      "max_height": null,
      "max_width": null,
      "min_height": null,
      "min_width": null,
      "object_fit": null,
      "object_position": null,
      "order": null,
      "overflow": null,
      "overflow_x": null,
      "overflow_y": null,
      "padding": null,
      "right": null,
      "top": null,
      "visibility": null,
      "width": null
     }
    },
    "65ab8e556a704ff392c423f99a7f0d4a": {
     "model_module": "@jupyter-widgets/controls",
     "model_module_version": "1.5.0",
     "model_name": "HBoxModel",
     "state": {
      "_dom_classes": [],
      "_model_module": "@jupyter-widgets/controls",
      "_model_module_version": "1.5.0",
      "_model_name": "HBoxModel",
      "_view_count": null,
      "_view_module": "@jupyter-widgets/controls",
      "_view_module_version": "1.5.0",
      "_view_name": "HBoxView",
      "box_style": "",
      "children": [
       "IPY_MODEL_c28757a20fb34b0ca1819eb3104603ea",
       "IPY_MODEL_d73d6a7464ff45e997ef3fdc6ee3a9a0",
       "IPY_MODEL_e467f8eaf5354576ba443cfa79b58ce3"
      ],
      "layout": "IPY_MODEL_f53549d61c594c7eb0f8c78df4303c2b"
     }
    },
    "6871548f9bfc49bdbe496867d54cb1d0": {
     "model_module": "@jupyter-widgets/controls",
     "model_module_version": "1.5.0",
     "model_name": "HTMLModel",
     "state": {
      "_dom_classes": [],
      "_model_module": "@jupyter-widgets/controls",
      "_model_module_version": "1.5.0",
      "_model_name": "HTMLModel",
      "_view_count": null,
      "_view_module": "@jupyter-widgets/controls",
      "_view_module_version": "1.5.0",
      "_view_name": "HTMLView",
      "description": "",
      "description_tooltip": null,
      "layout": "IPY_MODEL_9e95f5de4a7b4ca490d761d6a5ef7e58",
      "placeholder": "​",
      "style": "IPY_MODEL_764616467e7147fea5dcf0094a253ae4",
      "value": "vocab.txt: 100%"
     }
    },
    "691fdad297094ab080ad1664de8844e1": {
     "model_module": "@jupyter-widgets/base",
     "model_module_version": "1.2.0",
     "model_name": "LayoutModel",
     "state": {
      "_model_module": "@jupyter-widgets/base",
      "_model_module_version": "1.2.0",
      "_model_name": "LayoutModel",
      "_view_count": null,
      "_view_module": "@jupyter-widgets/base",
      "_view_module_version": "1.2.0",
      "_view_name": "LayoutView",
      "align_content": null,
      "align_items": null,
      "align_self": null,
      "border": null,
      "bottom": null,
      "display": null,
      "flex": null,
      "flex_flow": null,
      "grid_area": null,
      "grid_auto_columns": null,
      "grid_auto_flow": null,
      "grid_auto_rows": null,
      "grid_column": null,
      "grid_gap": null,
      "grid_row": null,
      "grid_template_areas": null,
      "grid_template_columns": null,
      "grid_template_rows": null,
      "height": null,
      "justify_content": null,
      "justify_items": null,
      "left": null,
      "margin": null,
      "max_height": null,
      "max_width": null,
      "min_height": null,
      "min_width": null,
      "object_fit": null,
      "object_position": null,
      "order": null,
      "overflow": null,
      "overflow_x": null,
      "overflow_y": null,
      "padding": null,
      "right": null,
      "top": null,
      "visibility": null,
      "width": null
     }
    },
    "6db224cb853f46889e5d36bb524634d9": {
     "model_module": "@jupyter-widgets/base",
     "model_module_version": "1.2.0",
     "model_name": "LayoutModel",
     "state": {
      "_model_module": "@jupyter-widgets/base",
      "_model_module_version": "1.2.0",
      "_model_name": "LayoutModel",
      "_view_count": null,
      "_view_module": "@jupyter-widgets/base",
      "_view_module_version": "1.2.0",
      "_view_name": "LayoutView",
      "align_content": null,
      "align_items": null,
      "align_self": null,
      "border": null,
      "bottom": null,
      "display": null,
      "flex": null,
      "flex_flow": null,
      "grid_area": null,
      "grid_auto_columns": null,
      "grid_auto_flow": null,
      "grid_auto_rows": null,
      "grid_column": null,
      "grid_gap": null,
      "grid_row": null,
      "grid_template_areas": null,
      "grid_template_columns": null,
      "grid_template_rows": null,
      "height": null,
      "justify_content": null,
      "justify_items": null,
      "left": null,
      "margin": null,
      "max_height": null,
      "max_width": null,
      "min_height": null,
      "min_width": null,
      "object_fit": null,
      "object_position": null,
      "order": null,
      "overflow": null,
      "overflow_x": null,
      "overflow_y": null,
      "padding": null,
      "right": null,
      "top": null,
      "visibility": null,
      "width": null
     }
    },
    "764616467e7147fea5dcf0094a253ae4": {
     "model_module": "@jupyter-widgets/controls",
     "model_module_version": "1.5.0",
     "model_name": "DescriptionStyleModel",
     "state": {
      "_model_module": "@jupyter-widgets/controls",
      "_model_module_version": "1.5.0",
      "_model_name": "DescriptionStyleModel",
      "_view_count": null,
      "_view_module": "@jupyter-widgets/base",
      "_view_module_version": "1.2.0",
      "_view_name": "StyleView",
      "description_width": ""
     }
    },
    "787861ce80f841959b55794f75caedc6": {
     "model_module": "@jupyter-widgets/controls",
     "model_module_version": "1.5.0",
     "model_name": "DescriptionStyleModel",
     "state": {
      "_model_module": "@jupyter-widgets/controls",
      "_model_module_version": "1.5.0",
      "_model_name": "DescriptionStyleModel",
      "_view_count": null,
      "_view_module": "@jupyter-widgets/base",
      "_view_module_version": "1.2.0",
      "_view_name": "StyleView",
      "description_width": ""
     }
    },
    "7957a4c09503438db0762255c8449bdd": {
     "model_module": "@jupyter-widgets/controls",
     "model_module_version": "1.5.0",
     "model_name": "HTMLModel",
     "state": {
      "_dom_classes": [],
      "_model_module": "@jupyter-widgets/controls",
      "_model_module_version": "1.5.0",
      "_model_name": "HTMLModel",
      "_view_count": null,
      "_view_module": "@jupyter-widgets/controls",
      "_view_module_version": "1.5.0",
      "_view_name": "HTMLView",
      "description": "",
      "description_tooltip": null,
      "layout": "IPY_MODEL_132e211ae8874a6b8c3e2f036130a35e",
      "placeholder": "​",
      "style": "IPY_MODEL_5ab41edd9f5044829a2cf800eef3c1e7",
      "value": "tokenizer.json: 100%"
     }
    },
    "7fc4627e143740af84e09fe6629af25d": {
     "model_module": "@jupyter-widgets/base",
     "model_module_version": "1.2.0",
     "model_name": "LayoutModel",
     "state": {
      "_model_module": "@jupyter-widgets/base",
      "_model_module_version": "1.2.0",
      "_model_name": "LayoutModel",
      "_view_count": null,
      "_view_module": "@jupyter-widgets/base",
      "_view_module_version": "1.2.0",
      "_view_name": "LayoutView",
      "align_content": null,
      "align_items": null,
      "align_self": null,
      "border": null,
      "bottom": null,
      "display": null,
      "flex": null,
      "flex_flow": null,
      "grid_area": null,
      "grid_auto_columns": null,
      "grid_auto_flow": null,
      "grid_auto_rows": null,
      "grid_column": null,
      "grid_gap": null,
      "grid_row": null,
      "grid_template_areas": null,
      "grid_template_columns": null,
      "grid_template_rows": null,
      "height": null,
      "justify_content": null,
      "justify_items": null,
      "left": null,
      "margin": null,
      "max_height": null,
      "max_width": null,
      "min_height": null,
      "min_width": null,
      "object_fit": null,
      "object_position": null,
      "order": null,
      "overflow": null,
      "overflow_x": null,
      "overflow_y": null,
      "padding": null,
      "right": null,
      "top": null,
      "visibility": null,
      "width": null
     }
    },
    "85baf71b8d314c4482b0a42f2dec3d03": {
     "model_module": "@jupyter-widgets/controls",
     "model_module_version": "1.5.0",
     "model_name": "FloatProgressModel",
     "state": {
      "_dom_classes": [],
      "_model_module": "@jupyter-widgets/controls",
      "_model_module_version": "1.5.0",
      "_model_name": "FloatProgressModel",
      "_view_count": null,
      "_view_module": "@jupyter-widgets/controls",
      "_view_module_version": "1.5.0",
      "_view_name": "ProgressView",
      "bar_style": "success",
      "description": "",
      "description_tooltip": null,
      "layout": "IPY_MODEL_6db224cb853f46889e5d36bb524634d9",
      "max": 466062,
      "min": 0,
      "orientation": "horizontal",
      "style": "IPY_MODEL_da6fca2044e748c1b0418a549d63c152",
      "value": 466062
     }
    },
    "86aef85d676f429e9279c227f433dc82": {
     "model_module": "@jupyter-widgets/controls",
     "model_module_version": "1.5.0",
     "model_name": "FloatProgressModel",
     "state": {
      "_dom_classes": [],
      "_model_module": "@jupyter-widgets/controls",
      "_model_module_version": "1.5.0",
      "_model_name": "FloatProgressModel",
      "_view_count": null,
      "_view_module": "@jupyter-widgets/controls",
      "_view_module_version": "1.5.0",
      "_view_name": "ProgressView",
      "bar_style": "success",
      "description": "",
      "description_tooltip": null,
      "layout": "IPY_MODEL_7fc4627e143740af84e09fe6629af25d",
      "max": 440449768,
      "min": 0,
      "orientation": "horizontal",
      "style": "IPY_MODEL_a183ff603ce94257bb8c063b48a14b89",
      "value": 440449768
     }
    },
    "8b74793f41144809970eefc4437fa264": {
     "model_module": "@jupyter-widgets/base",
     "model_module_version": "1.2.0",
     "model_name": "LayoutModel",
     "state": {
      "_model_module": "@jupyter-widgets/base",
      "_model_module_version": "1.2.0",
      "_model_name": "LayoutModel",
      "_view_count": null,
      "_view_module": "@jupyter-widgets/base",
      "_view_module_version": "1.2.0",
      "_view_name": "LayoutView",
      "align_content": null,
      "align_items": null,
      "align_self": null,
      "border": null,
      "bottom": null,
      "display": null,
      "flex": null,
      "flex_flow": null,
      "grid_area": null,
      "grid_auto_columns": null,
      "grid_auto_flow": null,
      "grid_auto_rows": null,
      "grid_column": null,
      "grid_gap": null,
      "grid_row": null,
      "grid_template_areas": null,
      "grid_template_columns": null,
      "grid_template_rows": null,
      "height": null,
      "justify_content": null,
      "justify_items": null,
      "left": null,
      "margin": null,
      "max_height": null,
      "max_width": null,
      "min_height": null,
      "min_width": null,
      "object_fit": null,
      "object_position": null,
      "order": null,
      "overflow": null,
      "overflow_x": null,
      "overflow_y": null,
      "padding": null,
      "right": null,
      "top": null,
      "visibility": null,
      "width": null
     }
    },
    "8c55d4eb27ef4196b7307793d958b2d3": {
     "model_module": "@jupyter-widgets/controls",
     "model_module_version": "1.5.0",
     "model_name": "DescriptionStyleModel",
     "state": {
      "_model_module": "@jupyter-widgets/controls",
      "_model_module_version": "1.5.0",
      "_model_name": "DescriptionStyleModel",
      "_view_count": null,
      "_view_module": "@jupyter-widgets/base",
      "_view_module_version": "1.2.0",
      "_view_name": "StyleView",
      "description_width": ""
     }
    },
    "8cd1c920daa342d09dc880b05759215c": {
     "model_module": "@jupyter-widgets/controls",
     "model_module_version": "1.5.0",
     "model_name": "HTMLModel",
     "state": {
      "_dom_classes": [],
      "_model_module": "@jupyter-widgets/controls",
      "_model_module_version": "1.5.0",
      "_model_name": "HTMLModel",
      "_view_count": null,
      "_view_module": "@jupyter-widgets/controls",
      "_view_module_version": "1.5.0",
      "_view_name": "HTMLView",
      "description": "",
      "description_tooltip": null,
      "layout": "IPY_MODEL_b0be8437df7f4c73bb45b798b515ad2a",
      "placeholder": "​",
      "style": "IPY_MODEL_39ab4a7999004e039a6a0e4f87be4665",
      "value": " 570/570 [00:00&lt;00:00, 52.7kB/s]"
     }
    },
    "902944aa3f764ee6bb8483f8adaceff1": {
     "model_module": "@jupyter-widgets/base",
     "model_module_version": "1.2.0",
     "model_name": "LayoutModel",
     "state": {
      "_model_module": "@jupyter-widgets/base",
      "_model_module_version": "1.2.0",
      "_model_name": "LayoutModel",
      "_view_count": null,
      "_view_module": "@jupyter-widgets/base",
      "_view_module_version": "1.2.0",
      "_view_name": "LayoutView",
      "align_content": null,
      "align_items": null,
      "align_self": null,
      "border": null,
      "bottom": null,
      "display": null,
      "flex": null,
      "flex_flow": null,
      "grid_area": null,
      "grid_auto_columns": null,
      "grid_auto_flow": null,
      "grid_auto_rows": null,
      "grid_column": null,
      "grid_gap": null,
      "grid_row": null,
      "grid_template_areas": null,
      "grid_template_columns": null,
      "grid_template_rows": null,
      "height": null,
      "justify_content": null,
      "justify_items": null,
      "left": null,
      "margin": null,
      "max_height": null,
      "max_width": null,
      "min_height": null,
      "min_width": null,
      "object_fit": null,
      "object_position": null,
      "order": null,
      "overflow": null,
      "overflow_x": null,
      "overflow_y": null,
      "padding": null,
      "right": null,
      "top": null,
      "visibility": null,
      "width": null
     }
    },
    "985b7291a354421b92103df7af566977": {
     "model_module": "@jupyter-widgets/controls",
     "model_module_version": "1.5.0",
     "model_name": "DescriptionStyleModel",
     "state": {
      "_model_module": "@jupyter-widgets/controls",
      "_model_module_version": "1.5.0",
      "_model_name": "DescriptionStyleModel",
      "_view_count": null,
      "_view_module": "@jupyter-widgets/base",
      "_view_module_version": "1.2.0",
      "_view_name": "StyleView",
      "description_width": ""
     }
    },
    "9e95f5de4a7b4ca490d761d6a5ef7e58": {
     "model_module": "@jupyter-widgets/base",
     "model_module_version": "1.2.0",
     "model_name": "LayoutModel",
     "state": {
      "_model_module": "@jupyter-widgets/base",
      "_model_module_version": "1.2.0",
      "_model_name": "LayoutModel",
      "_view_count": null,
      "_view_module": "@jupyter-widgets/base",
      "_view_module_version": "1.2.0",
      "_view_name": "LayoutView",
      "align_content": null,
      "align_items": null,
      "align_self": null,
      "border": null,
      "bottom": null,
      "display": null,
      "flex": null,
      "flex_flow": null,
      "grid_area": null,
      "grid_auto_columns": null,
      "grid_auto_flow": null,
      "grid_auto_rows": null,
      "grid_column": null,
      "grid_gap": null,
      "grid_row": null,
      "grid_template_areas": null,
      "grid_template_columns": null,
      "grid_template_rows": null,
      "height": null,
      "justify_content": null,
      "justify_items": null,
      "left": null,
      "margin": null,
      "max_height": null,
      "max_width": null,
      "min_height": null,
      "min_width": null,
      "object_fit": null,
      "object_position": null,
      "order": null,
      "overflow": null,
      "overflow_x": null,
      "overflow_y": null,
      "padding": null,
      "right": null,
      "top": null,
      "visibility": null,
      "width": null
     }
    },
    "a183ff603ce94257bb8c063b48a14b89": {
     "model_module": "@jupyter-widgets/controls",
     "model_module_version": "1.5.0",
     "model_name": "ProgressStyleModel",
     "state": {
      "_model_module": "@jupyter-widgets/controls",
      "_model_module_version": "1.5.0",
      "_model_name": "ProgressStyleModel",
      "_view_count": null,
      "_view_module": "@jupyter-widgets/base",
      "_view_module_version": "1.2.0",
      "_view_name": "StyleView",
      "bar_color": null,
      "description_width": ""
     }
    },
    "b0be8437df7f4c73bb45b798b515ad2a": {
     "model_module": "@jupyter-widgets/base",
     "model_module_version": "1.2.0",
     "model_name": "LayoutModel",
     "state": {
      "_model_module": "@jupyter-widgets/base",
      "_model_module_version": "1.2.0",
      "_model_name": "LayoutModel",
      "_view_count": null,
      "_view_module": "@jupyter-widgets/base",
      "_view_module_version": "1.2.0",
      "_view_name": "LayoutView",
      "align_content": null,
      "align_items": null,
      "align_self": null,
      "border": null,
      "bottom": null,
      "display": null,
      "flex": null,
      "flex_flow": null,
      "grid_area": null,
      "grid_auto_columns": null,
      "grid_auto_flow": null,
      "grid_auto_rows": null,
      "grid_column": null,
      "grid_gap": null,
      "grid_row": null,
      "grid_template_areas": null,
      "grid_template_columns": null,
      "grid_template_rows": null,
      "height": null,
      "justify_content": null,
      "justify_items": null,
      "left": null,
      "margin": null,
      "max_height": null,
      "max_width": null,
      "min_height": null,
      "min_width": null,
      "object_fit": null,
      "object_position": null,
      "order": null,
      "overflow": null,
      "overflow_x": null,
      "overflow_y": null,
      "padding": null,
      "right": null,
      "top": null,
      "visibility": null,
      "width": null
     }
    },
    "b5beeb89a2474486b5819a2b0ae75dc2": {
     "model_module": "@jupyter-widgets/controls",
     "model_module_version": "1.5.0",
     "model_name": "HTMLModel",
     "state": {
      "_dom_classes": [],
      "_model_module": "@jupyter-widgets/controls",
      "_model_module_version": "1.5.0",
      "_model_name": "HTMLModel",
      "_view_count": null,
      "_view_module": "@jupyter-widgets/controls",
      "_view_module_version": "1.5.0",
      "_view_name": "HTMLView",
      "description": "",
      "description_tooltip": null,
      "layout": "IPY_MODEL_b63f73845cd0434ba134d94abbbf3bcb",
      "placeholder": "​",
      "style": "IPY_MODEL_d83103d665b94d8b9545f2f09c8d5719",
      "value": "model.safetensors: 100%"
     }
    },
    "b63f73845cd0434ba134d94abbbf3bcb": {
     "model_module": "@jupyter-widgets/base",
     "model_module_version": "1.2.0",
     "model_name": "LayoutModel",
     "state": {
      "_model_module": "@jupyter-widgets/base",
      "_model_module_version": "1.2.0",
      "_model_name": "LayoutModel",
      "_view_count": null,
      "_view_module": "@jupyter-widgets/base",
      "_view_module_version": "1.2.0",
      "_view_name": "LayoutView",
      "align_content": null,
      "align_items": null,
      "align_self": null,
      "border": null,
      "bottom": null,
      "display": null,
      "flex": null,
      "flex_flow": null,
      "grid_area": null,
      "grid_auto_columns": null,
      "grid_auto_flow": null,
      "grid_auto_rows": null,
      "grid_column": null,
      "grid_gap": null,
      "grid_row": null,
      "grid_template_areas": null,
      "grid_template_columns": null,
      "grid_template_rows": null,
      "height": null,
      "justify_content": null,
      "justify_items": null,
      "left": null,
      "margin": null,
      "max_height": null,
      "max_width": null,
      "min_height": null,
      "min_width": null,
      "object_fit": null,
      "object_position": null,
      "order": null,
      "overflow": null,
      "overflow_x": null,
      "overflow_y": null,
      "padding": null,
      "right": null,
      "top": null,
      "visibility": null,
      "width": null
     }
    },
    "b758b47eade947918730a12e7d2c48ab": {
     "model_module": "@jupyter-widgets/controls",
     "model_module_version": "1.5.0",
     "model_name": "DescriptionStyleModel",
     "state": {
      "_model_module": "@jupyter-widgets/controls",
      "_model_module_version": "1.5.0",
      "_model_name": "DescriptionStyleModel",
      "_view_count": null,
      "_view_module": "@jupyter-widgets/base",
      "_view_module_version": "1.2.0",
      "_view_name": "StyleView",
      "description_width": ""
     }
    },
    "bbe6aea5632147368800835d23a2bf9d": {
     "model_module": "@jupyter-widgets/controls",
     "model_module_version": "1.5.0",
     "model_name": "ProgressStyleModel",
     "state": {
      "_model_module": "@jupyter-widgets/controls",
      "_model_module_version": "1.5.0",
      "_model_name": "ProgressStyleModel",
      "_view_count": null,
      "_view_module": "@jupyter-widgets/base",
      "_view_module_version": "1.2.0",
      "_view_name": "StyleView",
      "bar_color": null,
      "description_width": ""
     }
    },
    "bdd9bc78bd134517a90f1a1bf0ce49b8": {
     "model_module": "@jupyter-widgets/base",
     "model_module_version": "1.2.0",
     "model_name": "LayoutModel",
     "state": {
      "_model_module": "@jupyter-widgets/base",
      "_model_module_version": "1.2.0",
      "_model_name": "LayoutModel",
      "_view_count": null,
      "_view_module": "@jupyter-widgets/base",
      "_view_module_version": "1.2.0",
      "_view_name": "LayoutView",
      "align_content": null,
      "align_items": null,
      "align_self": null,
      "border": null,
      "bottom": null,
      "display": null,
      "flex": null,
      "flex_flow": null,
      "grid_area": null,
      "grid_auto_columns": null,
      "grid_auto_flow": null,
      "grid_auto_rows": null,
      "grid_column": null,
      "grid_gap": null,
      "grid_row": null,
      "grid_template_areas": null,
      "grid_template_columns": null,
      "grid_template_rows": null,
      "height": null,
      "justify_content": null,
      "justify_items": null,
      "left": null,
      "margin": null,
      "max_height": null,
      "max_width": null,
      "min_height": null,
      "min_width": null,
      "object_fit": null,
      "object_position": null,
      "order": null,
      "overflow": null,
      "overflow_x": null,
      "overflow_y": null,
      "padding": null,
      "right": null,
      "top": null,
      "visibility": null,
      "width": null
     }
    },
    "c28757a20fb34b0ca1819eb3104603ea": {
     "model_module": "@jupyter-widgets/controls",
     "model_module_version": "1.5.0",
     "model_name": "HTMLModel",
     "state": {
      "_dom_classes": [],
      "_model_module": "@jupyter-widgets/controls",
      "_model_module_version": "1.5.0",
      "_model_name": "HTMLModel",
      "_view_count": null,
      "_view_module": "@jupyter-widgets/controls",
      "_view_module_version": "1.5.0",
      "_view_name": "HTMLView",
      "description": "",
      "description_tooltip": null,
      "layout": "IPY_MODEL_5cbf22f6dc234a5aae0288c9d8c2543b",
      "placeholder": "​",
      "style": "IPY_MODEL_787861ce80f841959b55794f75caedc6",
      "value": "tokenizer_config.json: 100%"
     }
    },
    "d430f3e8939f47388e81c6277e836eaf": {
     "model_module": "@jupyter-widgets/base",
     "model_module_version": "1.2.0",
     "model_name": "LayoutModel",
     "state": {
      "_model_module": "@jupyter-widgets/base",
      "_model_module_version": "1.2.0",
      "_model_name": "LayoutModel",
      "_view_count": null,
      "_view_module": "@jupyter-widgets/base",
      "_view_module_version": "1.2.0",
      "_view_name": "LayoutView",
      "align_content": null,
      "align_items": null,
      "align_self": null,
      "border": null,
      "bottom": null,
      "display": null,
      "flex": null,
      "flex_flow": null,
      "grid_area": null,
      "grid_auto_columns": null,
      "grid_auto_flow": null,
      "grid_auto_rows": null,
      "grid_column": null,
      "grid_gap": null,
      "grid_row": null,
      "grid_template_areas": null,
      "grid_template_columns": null,
      "grid_template_rows": null,
      "height": null,
      "justify_content": null,
      "justify_items": null,
      "left": null,
      "margin": null,
      "max_height": null,
      "max_width": null,
      "min_height": null,
      "min_width": null,
      "object_fit": null,
      "object_position": null,
      "order": null,
      "overflow": null,
      "overflow_x": null,
      "overflow_y": null,
      "padding": null,
      "right": null,
      "top": null,
      "visibility": null,
      "width": null
     }
    },
    "d73d6a7464ff45e997ef3fdc6ee3a9a0": {
     "model_module": "@jupyter-widgets/controls",
     "model_module_version": "1.5.0",
     "model_name": "FloatProgressModel",
     "state": {
      "_dom_classes": [],
      "_model_module": "@jupyter-widgets/controls",
      "_model_module_version": "1.5.0",
      "_model_name": "FloatProgressModel",
      "_view_count": null,
      "_view_module": "@jupyter-widgets/controls",
      "_view_module_version": "1.5.0",
      "_view_name": "ProgressView",
      "bar_style": "success",
      "description": "",
      "description_tooltip": null,
      "layout": "IPY_MODEL_8b74793f41144809970eefc4437fa264",
      "max": 48,
      "min": 0,
      "orientation": "horizontal",
      "style": "IPY_MODEL_457b961a052a4df2b594f0a9e72928c4",
      "value": 48
     }
    },
    "d83103d665b94d8b9545f2f09c8d5719": {
     "model_module": "@jupyter-widgets/controls",
     "model_module_version": "1.5.0",
     "model_name": "DescriptionStyleModel",
     "state": {
      "_model_module": "@jupyter-widgets/controls",
      "_model_module_version": "1.5.0",
      "_model_name": "DescriptionStyleModel",
      "_view_count": null,
      "_view_module": "@jupyter-widgets/base",
      "_view_module_version": "1.2.0",
      "_view_name": "StyleView",
      "description_width": ""
     }
    },
    "da6fca2044e748c1b0418a549d63c152": {
     "model_module": "@jupyter-widgets/controls",
     "model_module_version": "1.5.0",
     "model_name": "ProgressStyleModel",
     "state": {
      "_model_module": "@jupyter-widgets/controls",
      "_model_module_version": "1.5.0",
      "_model_name": "ProgressStyleModel",
      "_view_count": null,
      "_view_module": "@jupyter-widgets/base",
      "_view_module_version": "1.2.0",
      "_view_name": "StyleView",
      "bar_color": null,
      "description_width": ""
     }
    },
    "da8b8ae1076149bc8d1820dad0d443f3": {
     "model_module": "@jupyter-widgets/base",
     "model_module_version": "1.2.0",
     "model_name": "LayoutModel",
     "state": {
      "_model_module": "@jupyter-widgets/base",
      "_model_module_version": "1.2.0",
      "_model_name": "LayoutModel",
      "_view_count": null,
      "_view_module": "@jupyter-widgets/base",
      "_view_module_version": "1.2.0",
      "_view_name": "LayoutView",
      "align_content": null,
      "align_items": null,
      "align_self": null,
      "border": null,
      "bottom": null,
      "display": null,
      "flex": null,
      "flex_flow": null,
      "grid_area": null,
      "grid_auto_columns": null,
      "grid_auto_flow": null,
      "grid_auto_rows": null,
      "grid_column": null,
      "grid_gap": null,
      "grid_row": null,
      "grid_template_areas": null,
      "grid_template_columns": null,
      "grid_template_rows": null,
      "height": null,
      "justify_content": null,
      "justify_items": null,
      "left": null,
      "margin": null,
      "max_height": null,
      "max_width": null,
      "min_height": null,
      "min_width": null,
      "object_fit": null,
      "object_position": null,
      "order": null,
      "overflow": null,
      "overflow_x": null,
      "overflow_y": null,
      "padding": null,
      "right": null,
      "top": null,
      "visibility": null,
      "width": null
     }
    },
    "e284ecd47f9b4a3391e5a857deb54c59": {
     "model_module": "@jupyter-widgets/base",
     "model_module_version": "1.2.0",
     "model_name": "LayoutModel",
     "state": {
      "_model_module": "@jupyter-widgets/base",
      "_model_module_version": "1.2.0",
      "_model_name": "LayoutModel",
      "_view_count": null,
      "_view_module": "@jupyter-widgets/base",
      "_view_module_version": "1.2.0",
      "_view_name": "LayoutView",
      "align_content": null,
      "align_items": null,
      "align_self": null,
      "border": null,
      "bottom": null,
      "display": null,
      "flex": null,
      "flex_flow": null,
      "grid_area": null,
      "grid_auto_columns": null,
      "grid_auto_flow": null,
      "grid_auto_rows": null,
      "grid_column": null,
      "grid_gap": null,
      "grid_row": null,
      "grid_template_areas": null,
      "grid_template_columns": null,
      "grid_template_rows": null,
      "height": null,
      "justify_content": null,
      "justify_items": null,
      "left": null,
      "margin": null,
      "max_height": null,
      "max_width": null,
      "min_height": null,
      "min_width": null,
      "object_fit": null,
      "object_position": null,
      "order": null,
      "overflow": null,
      "overflow_x": null,
      "overflow_y": null,
      "padding": null,
      "right": null,
      "top": null,
      "visibility": null,
      "width": null
     }
    },
    "e467f8eaf5354576ba443cfa79b58ce3": {
     "model_module": "@jupyter-widgets/controls",
     "model_module_version": "1.5.0",
     "model_name": "HTMLModel",
     "state": {
      "_dom_classes": [],
      "_model_module": "@jupyter-widgets/controls",
      "_model_module_version": "1.5.0",
      "_model_name": "HTMLModel",
      "_view_count": null,
      "_view_module": "@jupyter-widgets/controls",
      "_view_module_version": "1.5.0",
      "_view_name": "HTMLView",
      "description": "",
      "description_tooltip": null,
      "layout": "IPY_MODEL_e284ecd47f9b4a3391e5a857deb54c59",
      "placeholder": "​",
      "style": "IPY_MODEL_b758b47eade947918730a12e7d2c48ab",
      "value": " 48.0/48.0 [00:00&lt;00:00, 3.89kB/s]"
     }
    },
    "f53549d61c594c7eb0f8c78df4303c2b": {
     "model_module": "@jupyter-widgets/base",
     "model_module_version": "1.2.0",
     "model_name": "LayoutModel",
     "state": {
      "_model_module": "@jupyter-widgets/base",
      "_model_module_version": "1.2.0",
      "_model_name": "LayoutModel",
      "_view_count": null,
      "_view_module": "@jupyter-widgets/base",
      "_view_module_version": "1.2.0",
      "_view_name": "LayoutView",
      "align_content": null,
      "align_items": null,
      "align_self": null,
      "border": null,
      "bottom": null,
      "display": null,
      "flex": null,
      "flex_flow": null,
      "grid_area": null,
      "grid_auto_columns": null,
      "grid_auto_flow": null,
      "grid_auto_rows": null,
      "grid_column": null,
      "grid_gap": null,
      "grid_row": null,
      "grid_template_areas": null,
      "grid_template_columns": null,
      "grid_template_rows": null,
      "height": null,
      "justify_content": null,
      "justify_items": null,
      "left": null,
      "margin": null,
      "max_height": null,
      "max_width": null,
      "min_height": null,
      "min_width": null,
      "object_fit": null,
      "object_position": null,
      "order": null,
      "overflow": null,
      "overflow_x": null,
      "overflow_y": null,
      "padding": null,
      "right": null,
      "top": null,
      "visibility": null,
      "width": null
     }
    },
    "fcce9d76054b4feab8a29de5d05e37f0": {
     "model_module": "@jupyter-widgets/controls",
     "model_module_version": "1.5.0",
     "model_name": "HTMLModel",
     "state": {
      "_dom_classes": [],
      "_model_module": "@jupyter-widgets/controls",
      "_model_module_version": "1.5.0",
      "_model_name": "HTMLModel",
      "_view_count": null,
      "_view_module": "@jupyter-widgets/controls",
      "_view_module_version": "1.5.0",
      "_view_name": "HTMLView",
      "description": "",
      "description_tooltip": null,
      "layout": "IPY_MODEL_0e854da6d6bd46cd821485b78e3cbd87",
      "placeholder": "​",
      "style": "IPY_MODEL_985b7291a354421b92103df7af566977",
      "value": "config.json: 100%"
     }
    }
   }
  }
 },
 "nbformat": 4,
 "nbformat_minor": 0
}
