{
 "cells": [
  {
   "cell_type": "markdown",
   "id": "4db35395",
   "metadata": {},
   "source": [
    "## Lectura y limpieza de datos"
   ]
  },
  {
   "cell_type": "markdown",
   "id": "5a1a95e2",
   "metadata": {},
   "source": [
    "### Conjunto de Entretenimiento  "
   ]
  },
  {
   "cell_type": "code",
   "execution_count": null,
   "id": "543dc545",
   "metadata": {},
   "outputs": [
    {
     "name": "stdout",
     "output_type": "stream",
     "text": [
      "✅ Datos procesados y guardados como 'Rest-Mex_2025_preprocesado.csv'\n"
     ]
    }
   ],
   "source": [
    "import pandas as pd \n",
    "import os\n",
    "import numpy as np \n",
    "import re\n",
    "import unicodedata\n",
    "import nltk\n",
    "from nltk.corpus import stopwords\n",
    "\n",
    "# Aseguramos que las stopwords estén disponibles\n",
    "try:\n",
    "    stopwords.words('spanish')\n",
    "except LookupError:\n",
    "    nltk.download('stopwords')\n",
    "\n",
    "# Ruta de lectura\n",
    "ruta = \"../data\"\n",
    "archivo = os.path.join(ruta, \"Rest-Mex_2025_train.csv\") \n",
    "\n",
    "with open(archivo, 'r', encoding='utf-8', errors='replace') as f:\n",
    "    Data = pd.read_csv(f)\n",
    "\n",
    "# Arreglamos problemas de codificación\n",
    "def arregla_mojibake(texto):\n",
    "    try:\n",
    "        return texto.encode('latin1').decode('utf-8')\n",
    "    except:\n",
    "        return texto\n",
    "\n",
    "Data['Title'] = Data['Title'].fillna('').apply(arregla_mojibake)\n",
    "Data['Review'] = Data['Review'].fillna('').apply(arregla_mojibake)\n",
    "\n",
    "# Creamos columna base con texto leído y concatenado\n",
    "Data['Texto_Leido'] = (Data['Title'] + ' ' + Data['Review']).str.strip()\n",
    "\n",
    "# Función de limpieza profunda para modelos clásicos\n",
    "stopwords_es = set(stopwords.words('spanish'))\n",
    "\n",
    "def limpiar_texto(texto):\n",
    "    texto = texto.lower()\n",
    "    # Quitamos acentos\n",
    "    texto = unicodedata.normalize('NFD', texto)\n",
    "    texto = ''.join([char for char in texto if unicodedata.category(char) != 'Mn'])\n",
    "    # Eliminamos caracteres no alfabéticos\n",
    "    texto = re.sub(r'[^a-zñü\\s]', '', texto)\n",
    "    palabras = texto.split()\n",
    "    palabras = [p for p in palabras if p not in stopwords_es]\n",
    "    return ' '.join(palabras).strip()\n",
    "\n",
    "# Generamos columna limpia\n",
    "Data['Texto_Limpio'] = Data['Texto_Leido'].apply(limpiar_texto)\n",
    "\n",
    "# Eliminamos columnas originales\n",
    "Data = Data.drop(columns=['Title', 'Review'])\n",
    "\n",
    "# Guardamos el resultado procesado\n",
    "Data.to_csv(os.path.join(ruta, \"Train_Limpio.csv\"), index=False, encoding='utf-8')\n",
    "\n",
    "print(\"✅ Datos procesados y guardados como 'Train_Limpio.csv' \")\n"
   ]
  },
  {
   "cell_type": "code",
   "execution_count": 6,
   "id": "2eb67903",
   "metadata": {},
   "outputs": [
    {
     "data": {
      "text/plain": [
       "'alma michoacan asi michoacan alma mexico janitzio alma michoacansin duda sitio exponencial cultura purepecha verdad imagino maria felix rodaba pelicula maclovia sitio imagino aun belleza epoca siga conservandode pueblos magicos existen mexico duda favoritosi van ir dia muertos vale pena ir lugar noche velan toda noche altares estan media noche culminaciones economico tipo turismo lleno riqueza cultural duda encantara presumir amigos facebook colorido lugar'"
      ]
     },
     "execution_count": 6,
     "metadata": {},
     "output_type": "execute_result"
    }
   ],
   "source": [
    "Data['Texto_Limpio'][30]"
   ]
  },
  {
   "cell_type": "code",
   "execution_count": 7,
   "id": "58ab0d16",
   "metadata": {},
   "outputs": [
    {
     "data": {
      "text/plain": [
       "'El alma de Michoacán Así como Michoacán es alma de México, Janitzio es el alma de Michoacán.Sin duda un sitio exponencial de la cultura purepecha, de verdad me imagino cuando María Félix rodaba su película de Maclovia en este sitio y me imagino aún la belleza de esa época se siga conservando.De los pueblos mágicos que existen en México sin duda este, es mi favorito.Si van a ir para día de muertos vale la pena ir a este lugar muy noche porque como se velan toda la noche, los altares están hasta media noche en su culminación.Es muy económico este tipo de turismo y lleno de riqueza cultural sin duda les encantará presumir a sus amigos en Facebook todo el colorido de este lugar.'"
      ]
     },
     "execution_count": 7,
     "metadata": {},
     "output_type": "execute_result"
    }
   ],
   "source": [
    "Data['Texto_Leido'][30]"
   ]
  },
  {
   "cell_type": "markdown",
   "id": "d309e316",
   "metadata": {},
   "source": [
    "### Conjunto de Prueba"
   ]
  },
  {
   "cell_type": "code",
   "execution_count": 23,
   "id": "c8929dad",
   "metadata": {},
   "outputs": [
    {
     "name": "stdout",
     "output_type": "stream",
     "text": [
      "✅ Datos de prueba procesados y guardados como 'Test_Limpio.csv'\n"
     ]
    }
   ],
   "source": [
    "import pandas as pd \n",
    "import os\n",
    "import numpy as np \n",
    "import re\n",
    "import unicodedata\n",
    "import nltk\n",
    "from nltk.corpus import stopwords\n",
    "\n",
    "# Aseguramos stopwords\n",
    "try:\n",
    "    stopwords.words('spanish')\n",
    "except LookupError:\n",
    "    nltk.download('stopwords')\n",
    "\n",
    "# Ruta de archivo\n",
    "ruta = \"../data\"\n",
    "archivo_test = os.path.join(ruta, \"Rest-Mex_2025_test.xlsx\") \n",
    "\n",
    "# Lectura del archivo Excel\n",
    "Data_test = pd.read_excel(archivo_test)\n",
    "\n",
    "# Función para corregir codificación\n",
    "def arregla_mojibake(texto):\n",
    "    try:\n",
    "        return texto.encode('latin1').decode('utf-8')\n",
    "    except:\n",
    "        return texto\n",
    "\n",
    "# Aplicamos corrección\n",
    "Data_test['Title'] = Data_test['Title'].fillna('').apply(arregla_mojibake)\n",
    "Data_test['Review'] = Data_test['Review'].fillna('').apply(arregla_mojibake)\n",
    "\n",
    "# Concatenamos texto leído\n",
    "Data_test['Texto_Leido'] = (\n",
    "    Data_test['Title'].astype(str) + ' ' + Data_test['Review'].astype(str)\n",
    ").str.strip()\n",
    "\n",
    "# Stopwords y limpieza\n",
    "stopwords_es = set(stopwords.words('spanish'))\n",
    "\n",
    "def limpiar_texto(texto):\n",
    "    texto = texto.lower()\n",
    "    texto = unicodedata.normalize('NFD', texto)\n",
    "    texto = ''.join([c for c in texto if unicodedata.category(c) != 'Mn'])\n",
    "    texto = re.sub(r'[^a-zñü\\s]', '', texto)\n",
    "    palabras = texto.split()\n",
    "    palabras = [p for p in palabras if p not in stopwords_es]\n",
    "    return ' '.join(palabras).strip()\n",
    "\n",
    "# Generamos columna limpia\n",
    "Data_test['Texto_Limpio'] = Data_test['Texto_Leido'].apply(limpiar_texto)\n",
    "\n",
    "# Seleccionamos columnas finales\n",
    "Data_test_final = Data_test[['ID', 'Texto_Leido', 'Texto_Limpio']]\n",
    "\n",
    "\n",
    "# Guardamos el resultado procesado\n",
    "Data_test_final.to_csv(os.path.join(ruta, \"Test_Limpio.csv\"), index=False, encoding='utf-8')\n",
    "\n",
    "print(\"✅ Datos de prueba procesados y guardados como 'Test_Limpio.csv'\")\n"
   ]
  },
  {
   "cell_type": "code",
   "execution_count": 22,
   "id": "6a02f026",
   "metadata": {},
   "outputs": [
    {
     "name": "stdout",
     "output_type": "stream",
     "text": [
      "Gran desayuno y almuerzo Mi esposa y yo fuimos allí dos veces. Una vez para el almuerzo y una vez para el desayuno. Este pequeño lugar sirven una comida increíble. Estaba a una corta distancia a pie desde nuestro hotel Villa Vera. Teníamos tacos de pollo, empanadas de cerdo,...champiñones, huevos rancheros, y el café. Sin duda recomiendo este lugar.Más\n",
      "gran desayuno almuerzo esposa alli dos veces vez almuerzo vez desayuno pequeno lugar sirven comida increible corta distancia pie hotel villa vera teniamos tacos pollo empanadas cerdochampinones huevos rancheros cafe duda recomiendo lugarmas\n"
     ]
    }
   ],
   "source": [
    "print(Data_test['Texto_Leido'][3])\n",
    "print(Data_test['Texto_Limpio'][3])\n"
   ]
  }
 ],
 "metadata": {
  "kernelspec": {
   "display_name": "base",
   "language": "python",
   "name": "python3"
  },
  "language_info": {
   "codemirror_mode": {
    "name": "ipython",
    "version": 3
   },
   "file_extension": ".py",
   "mimetype": "text/x-python",
   "name": "python",
   "nbconvert_exporter": "python",
   "pygments_lexer": "ipython3",
   "version": "3.12.7"
  }
 },
 "nbformat": 4,
 "nbformat_minor": 5
}
