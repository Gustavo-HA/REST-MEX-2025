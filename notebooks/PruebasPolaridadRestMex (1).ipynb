{
  "cells": [
    {
      "cell_type": "code",
      "execution_count": null,
      "metadata": {
        "colab": {
          "base_uri": "https://localhost:8080/"
        },
        "id": "X5mUWZdBNBkR",
        "outputId": "de2a8fa4-8646-4f68-ba55-3d33e3581d8e"
      },
      "outputs": [
        {
          "output_type": "stream",
          "name": "stdout",
          "text": [
            "Mounted at /content/drive\n"
          ]
        }
      ],
      "source": [
        "from google.colab import drive\n",
        "drive.mount('/content/drive')"
      ]
    },
    {
      "cell_type": "code",
      "execution_count": null,
      "metadata": {
        "colab": {
          "base_uri": "https://localhost:8080/"
        },
        "id": "AKcZKYg3aWK5",
        "outputId": "a9744599-655f-476b-841c-d4e49c15ab7a"
      },
      "outputs": [
        {
          "output_type": "stream",
          "name": "stdout",
          "text": [
            "Requirement already satisfied: spacy in /usr/local/lib/python3.11/dist-packages (3.8.5)\n",
            "Requirement already satisfied: spacy-legacy<3.1.0,>=3.0.11 in /usr/local/lib/python3.11/dist-packages (from spacy) (3.0.12)\n",
            "Requirement already satisfied: spacy-loggers<2.0.0,>=1.0.0 in /usr/local/lib/python3.11/dist-packages (from spacy) (1.0.5)\n",
            "Requirement already satisfied: murmurhash<1.1.0,>=0.28.0 in /usr/local/lib/python3.11/dist-packages (from spacy) (1.0.12)\n",
            "Requirement already satisfied: cymem<2.1.0,>=2.0.2 in /usr/local/lib/python3.11/dist-packages (from spacy) (2.0.11)\n",
            "Requirement already satisfied: preshed<3.1.0,>=3.0.2 in /usr/local/lib/python3.11/dist-packages (from spacy) (3.0.9)\n",
            "Requirement already satisfied: thinc<8.4.0,>=8.3.4 in /usr/local/lib/python3.11/dist-packages (from spacy) (8.3.4)\n",
            "Requirement already satisfied: wasabi<1.2.0,>=0.9.1 in /usr/local/lib/python3.11/dist-packages (from spacy) (1.1.3)\n",
            "Requirement already satisfied: srsly<3.0.0,>=2.4.3 in /usr/local/lib/python3.11/dist-packages (from spacy) (2.5.1)\n",
            "Requirement already satisfied: catalogue<2.1.0,>=2.0.6 in /usr/local/lib/python3.11/dist-packages (from spacy) (2.0.10)\n",
            "Requirement already satisfied: weasel<0.5.0,>=0.1.0 in /usr/local/lib/python3.11/dist-packages (from spacy) (0.4.1)\n",
            "Requirement already satisfied: typer<1.0.0,>=0.3.0 in /usr/local/lib/python3.11/dist-packages (from spacy) (0.15.2)\n",
            "Requirement already satisfied: tqdm<5.0.0,>=4.38.0 in /usr/local/lib/python3.11/dist-packages (from spacy) (4.67.1)\n",
            "Requirement already satisfied: numpy>=1.19.0 in /usr/local/lib/python3.11/dist-packages (from spacy) (2.0.2)\n",
            "Requirement already satisfied: requests<3.0.0,>=2.13.0 in /usr/local/lib/python3.11/dist-packages (from spacy) (2.32.3)\n",
            "Requirement already satisfied: pydantic!=1.8,!=1.8.1,<3.0.0,>=1.7.4 in /usr/local/lib/python3.11/dist-packages (from spacy) (2.11.2)\n",
            "Requirement already satisfied: jinja2 in /usr/local/lib/python3.11/dist-packages (from spacy) (3.1.6)\n",
            "Requirement already satisfied: setuptools in /usr/local/lib/python3.11/dist-packages (from spacy) (75.2.0)\n",
            "Requirement already satisfied: packaging>=20.0 in /usr/local/lib/python3.11/dist-packages (from spacy) (24.2)\n",
            "Requirement already satisfied: langcodes<4.0.0,>=3.2.0 in /usr/local/lib/python3.11/dist-packages (from spacy) (3.5.0)\n",
            "Requirement already satisfied: language-data>=1.2 in /usr/local/lib/python3.11/dist-packages (from langcodes<4.0.0,>=3.2.0->spacy) (1.3.0)\n",
            "Requirement already satisfied: annotated-types>=0.6.0 in /usr/local/lib/python3.11/dist-packages (from pydantic!=1.8,!=1.8.1,<3.0.0,>=1.7.4->spacy) (0.7.0)\n",
            "Requirement already satisfied: pydantic-core==2.33.1 in /usr/local/lib/python3.11/dist-packages (from pydantic!=1.8,!=1.8.1,<3.0.0,>=1.7.4->spacy) (2.33.1)\n",
            "Requirement already satisfied: typing-extensions>=4.12.2 in /usr/local/lib/python3.11/dist-packages (from pydantic!=1.8,!=1.8.1,<3.0.0,>=1.7.4->spacy) (4.13.1)\n",
            "Requirement already satisfied: typing-inspection>=0.4.0 in /usr/local/lib/python3.11/dist-packages (from pydantic!=1.8,!=1.8.1,<3.0.0,>=1.7.4->spacy) (0.4.0)\n",
            "Requirement already satisfied: charset-normalizer<4,>=2 in /usr/local/lib/python3.11/dist-packages (from requests<3.0.0,>=2.13.0->spacy) (3.4.1)\n",
            "Requirement already satisfied: idna<4,>=2.5 in /usr/local/lib/python3.11/dist-packages (from requests<3.0.0,>=2.13.0->spacy) (3.10)\n",
            "Requirement already satisfied: urllib3<3,>=1.21.1 in /usr/local/lib/python3.11/dist-packages (from requests<3.0.0,>=2.13.0->spacy) (2.3.0)\n",
            "Requirement already satisfied: certifi>=2017.4.17 in /usr/local/lib/python3.11/dist-packages (from requests<3.0.0,>=2.13.0->spacy) (2025.1.31)\n",
            "Requirement already satisfied: blis<1.3.0,>=1.2.0 in /usr/local/lib/python3.11/dist-packages (from thinc<8.4.0,>=8.3.4->spacy) (1.2.1)\n",
            "Requirement already satisfied: confection<1.0.0,>=0.0.1 in /usr/local/lib/python3.11/dist-packages (from thinc<8.4.0,>=8.3.4->spacy) (0.1.5)\n",
            "Requirement already satisfied: click>=8.0.0 in /usr/local/lib/python3.11/dist-packages (from typer<1.0.0,>=0.3.0->spacy) (8.1.8)\n",
            "Requirement already satisfied: shellingham>=1.3.0 in /usr/local/lib/python3.11/dist-packages (from typer<1.0.0,>=0.3.0->spacy) (1.5.4)\n",
            "Requirement already satisfied: rich>=10.11.0 in /usr/local/lib/python3.11/dist-packages (from typer<1.0.0,>=0.3.0->spacy) (13.9.4)\n",
            "Requirement already satisfied: cloudpathlib<1.0.0,>=0.7.0 in /usr/local/lib/python3.11/dist-packages (from weasel<0.5.0,>=0.1.0->spacy) (0.21.0)\n",
            "Requirement already satisfied: smart-open<8.0.0,>=5.2.1 in /usr/local/lib/python3.11/dist-packages (from weasel<0.5.0,>=0.1.0->spacy) (7.1.0)\n",
            "Requirement already satisfied: MarkupSafe>=2.0 in /usr/local/lib/python3.11/dist-packages (from jinja2->spacy) (3.0.2)\n",
            "Requirement already satisfied: marisa-trie>=1.1.0 in /usr/local/lib/python3.11/dist-packages (from language-data>=1.2->langcodes<4.0.0,>=3.2.0->spacy) (1.2.1)\n",
            "Requirement already satisfied: markdown-it-py>=2.2.0 in /usr/local/lib/python3.11/dist-packages (from rich>=10.11.0->typer<1.0.0,>=0.3.0->spacy) (3.0.0)\n",
            "Requirement already satisfied: pygments<3.0.0,>=2.13.0 in /usr/local/lib/python3.11/dist-packages (from rich>=10.11.0->typer<1.0.0,>=0.3.0->spacy) (2.18.0)\n",
            "Requirement already satisfied: wrapt in /usr/local/lib/python3.11/dist-packages (from smart-open<8.0.0,>=5.2.1->weasel<0.5.0,>=0.1.0->spacy) (1.17.2)\n",
            "Requirement already satisfied: mdurl~=0.1 in /usr/local/lib/python3.11/dist-packages (from markdown-it-py>=2.2.0->rich>=10.11.0->typer<1.0.0,>=0.3.0->spacy) (0.1.2)\n",
            "Collecting es-core-news-sm==3.8.0\n",
            "  Downloading https://github.com/explosion/spacy-models/releases/download/es_core_news_sm-3.8.0/es_core_news_sm-3.8.0-py3-none-any.whl (12.9 MB)\n",
            "\u001b[2K     \u001b[90m━━━━━━━━━━━━━━━━━━━━━━━━━━━━━━━━━━━━━━━━\u001b[0m \u001b[32m12.9/12.9 MB\u001b[0m \u001b[31m28.4 MB/s\u001b[0m eta \u001b[36m0:00:00\u001b[0m\n",
            "\u001b[?25hInstalling collected packages: es-core-news-sm\n",
            "Successfully installed es-core-news-sm-3.8.0\n",
            "\u001b[38;5;2m✔ Download and installation successful\u001b[0m\n",
            "You can now load the package via spacy.load('es_core_news_sm')\n",
            "\u001b[38;5;3m⚠ Restart to reload dependencies\u001b[0m\n",
            "If you are in a Jupyter or Colab notebook, you may need to restart Python in\n",
            "order to load all the package's dependencies. You can do this by selecting the\n",
            "'Restart kernel' or 'Restart runtime' option.\n"
          ]
        }
      ],
      "source": [
        "!pip install spacy\n",
        "!python -m spacy download es_core_news_sm"
      ]
    },
    {
      "cell_type": "code",
      "execution_count": null,
      "metadata": {
        "id": "4mPWvJPYQuo9"
      },
      "outputs": [],
      "source": [
        "import pandas as pd\n",
        "import numpy as np\n",
        "from sklearn.feature_extraction.text import TfidfVectorizer\n",
        "from sklearn.model_selection import train_test_split\n",
        "from sklearn.linear_model import LogisticRegression\n",
        "from sklearn.metrics import classification_report, accuracy_score"
      ]
    },
    {
      "cell_type": "code",
      "execution_count": null,
      "metadata": {
        "colab": {
          "base_uri": "https://localhost:8080/"
        },
        "id": "Yb_iLd0KNxnD",
        "outputId": "ede4b23a-2c08-4a19-ba7c-40321cf33336"
      },
      "outputs": [
        {
          "output_type": "stream",
          "name": "stdout",
          "text": [
            "El tamaño del corpus es: 208051 registros\n"
          ]
        }
      ],
      "source": [
        "# Carga el CSV\n",
        "df = pd.read_csv('/content/drive/MyDrive/RestMex/Rest-Mex_2025_train.csv')\n",
        "\n",
        "# Obtiene el número de registros\n",
        "print(\"El tamaño del corpus es:\", df.shape[0], \"registros\")"
      ]
    },
    {
      "cell_type": "code",
      "execution_count": null,
      "metadata": {
        "colab": {
          "base_uri": "https://localhost:8080/"
        },
        "id": "0cUlNJS-OB5K",
        "outputId": "8bd2e647-f7e8-4683-b253-3c76cfb4befb"
      },
      "outputs": [
        {
          "output_type": "stream",
          "name": "stdout",
          "text": [
            "Tamaño entrenamiento: 166440\n",
            "Tamaño prueba: 41611\n"
          ]
        }
      ],
      "source": [
        "import pandas as pd\n",
        "from sklearn.model_selection import train_test_split\n",
        "\n",
        "# Suponiendo que la columna 'Review' es tu entrada y 'Polarity' la etiqueta\n",
        "X = df['Review']\n",
        "y = df['Polarity']\n",
        "\n",
        "# Dividir el corpus (por ejemplo, 80% entrenamiento, 20% prueba)\n",
        "X_train, X_test, y_train, y_test = train_test_split(X, y, test_size=0.2, random_state=42)\n",
        "\n",
        "print(\"Tamaño entrenamiento:\", X_train.shape[0])\n",
        "print(\"Tamaño prueba:\", X_test.shape[0])"
      ]
    },
    {
      "cell_type": "code",
      "execution_count": null,
      "metadata": {
        "colab": {
          "base_uri": "https://localhost:8080/"
        },
        "id": "V4P8bJVBXkXm",
        "outputId": "6f57b5c8-ead1-4ee6-886b-d3cddfe8db64"
      },
      "outputs": [
        {
          "output_type": "stream",
          "name": "stdout",
          "text": [
            "Distribución en el conjunto completo:\n",
            "Polarity\n",
            "5.0    136561\n",
            "4.0     45034\n",
            "3.0     15519\n",
            "2.0      5496\n",
            "1.0      5441\n",
            "Name: count, dtype: int64\n",
            "\n",
            "Distribución en el conjunto de entrenamiento:\n",
            "Polarity\n",
            "5.0    109450\n",
            "4.0     35762\n",
            "3.0     12460\n",
            "2.0      4390\n",
            "1.0      4378\n",
            "Name: count, dtype: int64\n",
            "\n",
            "Distribución en el conjunto de prueba:\n",
            "Polarity\n",
            "5.0    27111\n",
            "4.0     9272\n",
            "3.0     3059\n",
            "2.0     1106\n",
            "1.0     1063\n",
            "Name: count, dtype: int64\n"
          ]
        }
      ],
      "source": [
        "# Distribución en el conjunto completo\n",
        "print(\"Distribución en el conjunto completo:\")\n",
        "print(df['Polarity'].value_counts())\n",
        "\n",
        "# Distribución en el conjunto de entrenamiento\n",
        "print(\"\\nDistribución en el conjunto de entrenamiento:\")\n",
        "print(y_train.value_counts())\n",
        "\n",
        "# Distribución en el conjunto de prueba\n",
        "print(\"\\nDistribución en el conjunto de prueba:\")\n",
        "print(y_test.value_counts())"
      ]
    },
    {
      "cell_type": "code",
      "execution_count": null,
      "metadata": {
        "colab": {
          "base_uri": "https://localhost:8080/"
        },
        "id": "XF16IvkAQgDF",
        "outputId": "75db37b5-57aa-431f-ff9b-92420f5fe510"
      },
      "outputs": [
        {
          "output_type": "stream",
          "name": "stdout",
          "text": [
            "Exactitud (accuracy): 0.711398428300209\n",
            "Reporte de clasificación:\n",
            "               precision    recall  f1-score   support\n",
            "\n",
            "         1.0       0.59      0.54      0.56      1063\n",
            "         2.0       0.34      0.10      0.15      1106\n",
            "         3.0       0.44      0.32      0.37      3059\n",
            "         4.0       0.48      0.30      0.37      9272\n",
            "         5.0       0.78      0.93      0.85     27111\n",
            "\n",
            "    accuracy                           0.71     41611\n",
            "   macro avg       0.53      0.44      0.46     41611\n",
            "weighted avg       0.67      0.71      0.68     41611\n",
            "\n"
          ]
        },
        {
          "output_type": "stream",
          "name": "stderr",
          "text": [
            "/usr/local/lib/python3.11/dist-packages/sklearn/linear_model/_logistic.py:465: ConvergenceWarning: lbfgs failed to converge (status=1):\n",
            "STOP: TOTAL NO. of ITERATIONS REACHED LIMIT.\n",
            "\n",
            "Increase the number of iterations (max_iter) or scale the data as shown in:\n",
            "    https://scikit-learn.org/stable/modules/preprocessing.html\n",
            "Please also refer to the documentation for alternative solver options:\n",
            "    https://scikit-learn.org/stable/modules/linear_model.html#logistic-regression\n",
            "  n_iter_i = _check_optimize_result(\n"
          ]
        }
      ],
      "source": [
        "# Inicializar el vectorizador TF-IDF\n",
        "vectorizer = TfidfVectorizer()\n",
        "\n",
        "# Ajustar y transformar el conjunto de entrenamiento\n",
        "X_train_tfidf = vectorizer.fit_transform(X_train)\n",
        "\n",
        "# Transformar el conjunto de prueba\n",
        "X_test_tfidf = vectorizer.transform(X_test)\n",
        "\n",
        "# Entrenar un clasificador (por ejemplo, Regresión Logística)\n",
        "clf = LogisticRegression()\n",
        "clf.fit(X_train_tfidf, y_train)\n",
        "\n",
        "# Realizar predicciones en el conjunto de prueba\n",
        "y_pred = clf.predict(X_test_tfidf)\n",
        "\n",
        "# Evaluar el modelo\n",
        "print(\"Exactitud (accuracy):\", accuracy_score(y_test, y_pred))\n",
        "print(\"Reporte de clasificación:\\n\", classification_report(y_test, y_pred))"
      ]
    },
    {
      "cell_type": "code",
      "execution_count": null,
      "metadata": {
        "colab": {
          "base_uri": "https://localhost:8080/"
        },
        "id": "JqZZzfwMorvq",
        "outputId": "320fdf14-9a57-4d7b-a6f2-c210efa0d78d"
      },
      "outputs": [
        {
          "name": "stdout",
          "output_type": "stream",
          "text": [
            "Exactitud (accuracy): 0.7164211386412247\n",
            "Reporte de clasificación:\n",
            "               precision    recall  f1-score   support\n",
            "\n",
            "         1.0       0.64      0.50      0.56      1063\n",
            "         2.0       0.38      0.08      0.14      1106\n",
            "         3.0       0.47      0.32      0.38      3059\n",
            "         4.0       0.49      0.32      0.38      9272\n",
            "         5.0       0.78      0.93      0.85     27111\n",
            "\n",
            "    accuracy                           0.72     41611\n",
            "   macro avg       0.55      0.43      0.46     41611\n",
            "weighted avg       0.68      0.72      0.68     41611\n",
            "\n"
          ]
        }
      ],
      "source": [
        "# Configuración del TfidfVectorizer:\n",
        "# - ngram_range=(1,2): utiliza unigrama y bigrama.\n",
        "# - min_df=5: ignora palabras que aparecen en menos de 5 documentos.\n",
        "# - max_df=0.95: ignora palabras que aparecen en más del 95% de los documentos.\n",
        "vectorizer = TfidfVectorizer(ngram_range=(1,2), min_df=5, max_df=0.95)\n",
        "\n",
        "# Ajustar y transformar el conjunto de entrenamiento\n",
        "X_train_tfidf = vectorizer.fit_transform(X_train)\n",
        "\n",
        "# Transformar el conjunto de prueba\n",
        "X_test_tfidf = vectorizer.transform(X_test)\n",
        "\n",
        "# Entrenar el clasificador (por ejemplo, Regresión Logística)\n",
        "clf = LogisticRegression(max_iter=1000)\n",
        "clf.fit(X_train_tfidf, y_train)\n",
        "\n",
        "# Realizar predicciones en el conjunto de prueba\n",
        "y_pred = clf.predict(X_test_tfidf)\n",
        "\n",
        "# Evaluar el modelo\n",
        "print(\"Exactitud (accuracy):\", accuracy_score(y_test, y_pred))\n",
        "print(\"Reporte de clasificación:\\n\", classification_report(y_test, y_pred))"
      ]
    },
    {
      "cell_type": "code",
      "execution_count": null,
      "metadata": {
        "colab": {
          "background_save": true
        },
        "id": "iM14X0v0qtUG",
        "outputId": "97100cd2-c72f-48e6-8eb1-f739c7cfe173"
      },
      "outputs": [
        {
          "name": "stdout",
          "output_type": "stream",
          "text": [
            "Mejores parámetros encontrados: {'C': 1}\n",
            "Mejor puntuación en CV: 0.7185111751982697\n",
            "Exactitud (accuracy): 0.7164211386412247\n",
            "Reporte de clasificación:\n",
            "               precision    recall  f1-score   support\n",
            "\n",
            "         1.0       0.64      0.50      0.56      1063\n",
            "         2.0       0.38      0.08      0.14      1106\n",
            "         3.0       0.47      0.32      0.38      3059\n",
            "         4.0       0.49      0.32      0.38      9272\n",
            "         5.0       0.78      0.93      0.85     27111\n",
            "\n",
            "    accuracy                           0.72     41611\n",
            "   macro avg       0.55      0.43      0.46     41611\n",
            "weighted avg       0.68      0.72      0.68     41611\n",
            "\n"
          ]
        }
      ],
      "source": [
        "from sklearn.feature_extraction.text import TfidfVectorizer\n",
        "from sklearn.linear_model import LogisticRegression\n",
        "from sklearn.model_selection import GridSearchCV, train_test_split\n",
        "from sklearn.metrics import accuracy_score, classification_report\n",
        "# Configuración del TfidfVectorizer (puedes ajustar estos parámetros según tus pruebas)\n",
        "vectorizer = TfidfVectorizer(ngram_range=(1,2), min_df=5, max_df=0.95)\n",
        "\n",
        "# Ajustar y transformar el conjunto de entrenamiento\n",
        "X_train_tfidf = vectorizer.fit_transform(X_train)\n",
        "X_test_tfidf = vectorizer.transform(X_test)\n",
        "\n",
        "# Definir el clasificador base (sin class_weight='balanced')\n",
        "clf = LogisticRegression(max_iter=1000)\n",
        "\n",
        "# Definir una grilla de parámetros a explorar, por ejemplo el parámetro de regularización 'C'\n",
        "param_grid = {\n",
        "    'C': [0.01, 0.1, 1, 10, 100]\n",
        "}\n",
        "\n",
        "# Configurar GridSearchCV para usar 5-fold cross-validation\n",
        "grid_search = GridSearchCV(clf, param_grid, cv=5, scoring='accuracy', n_jobs=-1)\n",
        "grid_search.fit(X_train_tfidf, y_train)\n",
        "\n",
        "print(\"Mejores parámetros encontrados:\", grid_search.best_params_)\n",
        "print(\"Mejor puntuación en CV:\", grid_search.best_score_)\n",
        "\n",
        "# Evaluar el modelo en el conjunto de prueba\n",
        "y_pred = grid_search.predict(X_test_tfidf)\n",
        "\n",
        "print(\"Exactitud (accuracy):\", accuracy_score(y_test, y_pred))\n",
        "print(\"Reporte de clasificación:\\n\", classification_report(y_test, y_pred))"
      ]
    },
    {
      "cell_type": "code",
      "execution_count": null,
      "metadata": {
        "colab": {
          "base_uri": "https://localhost:8080/"
        },
        "id": "AXHd8VOQQp6i",
        "outputId": "e769ff58-332f-43ce-cfcf-299eada9d5de"
      },
      "outputs": [
        {
          "name": "stdout",
          "output_type": "stream",
          "text": [
            "Exactitud (accuracy) con MultinomialNB: 0.6524717021941313\n",
            "Reporte de clasificación:\n",
            "               precision    recall  f1-score   support\n",
            "\n",
            "         1.0       1.00      0.00      0.00      1063\n",
            "         2.0       0.00      0.00      0.00      1106\n",
            "         3.0       0.00      0.00      0.00      3059\n",
            "         4.0       0.17      0.01      0.01      9272\n",
            "         5.0       0.66      1.00      0.79     27111\n",
            "\n",
            "    accuracy                           0.65     41611\n",
            "   macro avg       0.37      0.20      0.16     41611\n",
            "weighted avg       0.49      0.65      0.52     41611\n",
            "\n"
          ]
        },
        {
          "name": "stderr",
          "output_type": "stream",
          "text": [
            "/usr/local/lib/python3.11/dist-packages/sklearn/metrics/_classification.py:1565: UndefinedMetricWarning: Precision is ill-defined and being set to 0.0 in labels with no predicted samples. Use `zero_division` parameter to control this behavior.\n",
            "  _warn_prf(average, modifier, f\"{metric.capitalize()} is\", len(result))\n",
            "/usr/local/lib/python3.11/dist-packages/sklearn/metrics/_classification.py:1565: UndefinedMetricWarning: Precision is ill-defined and being set to 0.0 in labels with no predicted samples. Use `zero_division` parameter to control this behavior.\n",
            "  _warn_prf(average, modifier, f\"{metric.capitalize()} is\", len(result))\n",
            "/usr/local/lib/python3.11/dist-packages/sklearn/metrics/_classification.py:1565: UndefinedMetricWarning: Precision is ill-defined and being set to 0.0 in labels with no predicted samples. Use `zero_division` parameter to control this behavior.\n",
            "  _warn_prf(average, modifier, f\"{metric.capitalize()} is\", len(result))\n"
          ]
        }
      ],
      "source": [
        "from sklearn.naive_bayes import MultinomialNB\n",
        "\n",
        "# Inicializar y entrenar el clasificador Naive Bayes Multinomial\n",
        "clf_nb = MultinomialNB()\n",
        "clf_nb.fit(X_train_tfidf, y_train)\n",
        "\n",
        "# Realizar predicciones en el conjunto de prueba\n",
        "y_pred_nb = clf_nb.predict(X_test_tfidf)\n",
        "\n",
        "# Evaluar el modelo\n",
        "print(\"Exactitud (accuracy) con MultinomialNB:\", accuracy_score(y_test, y_pred_nb))\n",
        "print(\"Reporte de clasificación:\\n\", classification_report(y_test, y_pred_nb))"
      ]
    },
    {
      "cell_type": "code",
      "execution_count": null,
      "metadata": {
        "colab": {
          "base_uri": "https://localhost:8080/"
        },
        "id": "6YloQJ73W0b8",
        "outputId": "331c437d-0b6a-4c3d-bd10-dc6c493784d2"
      },
      "outputs": [
        {
          "name": "stdout",
          "output_type": "stream",
          "text": [
            "Exactitud (accuracy) con LinearSVC: 0.7013530076181779\n",
            "Reporte de clasificación:\n",
            "               precision    recall  f1-score   support\n",
            "\n",
            "         1.0       0.56      0.51      0.53      1063\n",
            "         2.0       0.30      0.11      0.16      1106\n",
            "         3.0       0.41      0.27      0.32      3059\n",
            "         4.0       0.45      0.30      0.36      9272\n",
            "         5.0       0.78      0.92      0.84     27111\n",
            "\n",
            "    accuracy                           0.70     41611\n",
            "   macro avg       0.50      0.42      0.44     41611\n",
            "weighted avg       0.66      0.70      0.67     41611\n",
            "\n"
          ]
        }
      ],
      "source": [
        "from sklearn.svm import LinearSVC\n",
        "\n",
        "# Inicializar y entrenar el clasificador SVM con kernel lineal\n",
        "clf_svc = LinearSVC()\n",
        "clf_svc.fit(X_train_tfidf, y_train)\n",
        "\n",
        "# Realizar predicciones en el conjunto de prueba\n",
        "y_pred_svc = clf_svc.predict(X_test_tfidf)\n",
        "\n",
        "# Evaluar el modelo\n",
        "print(\"Exactitud (accuracy) con LinearSVC:\", accuracy_score(y_test, y_pred_svc))\n",
        "print(\"Reporte de clasificación:\\n\", classification_report(y_test, y_pred_svc))"
      ]
    },
    {
      "cell_type": "code",
      "execution_count": null,
      "metadata": {
        "id": "x08M6jETYebL"
      },
      "outputs": [],
      "source": [
        "from sklearn.svm import SVC\n",
        "\n",
        "# Inicializar y entrenar el clasificador SVM con kernel RBF (no lineal)\n",
        "clf_svc_nl = SVC(kernel='rbf', gamma='scale')\n",
        "clf_svc_nl.fit(X_train_tfidf, y_train)\n",
        "\n",
        "# Realizar predicciones en el conjunto de prueba\n",
        "y_pred_svc_nl = clf_svc_nl.predict(X_test_tfidf)\n",
        "\n",
        "# Evaluar el modelo\n",
        "print(\"Exactitud (accuracy) con SVC (kernel RBF):\", accuracy_score(y_test, y_pred_svc_nl))\n",
        "print(\"Reporte de clasificación:\\n\", classification_report(y_test, y_pred_svc_nl))"
      ]
    },
    {
      "cell_type": "code",
      "execution_count": null,
      "metadata": {
        "colab": {
          "base_uri": "https://localhost:8080/"
        },
        "id": "EQTTyNpGaQYV",
        "outputId": "4811071f-85df-4f3c-faf1-5e6d37cbc22d"
      },
      "outputs": [
        {
          "name": "stdout",
          "output_type": "stream",
          "text": [
            "Exactitud (accuracy): 0.6974357741943236\n",
            "Reporte de clasificación:\n",
            "               precision    recall  f1-score   support\n",
            "\n",
            "         1.0       0.60      0.48      0.54      1063\n",
            "         2.0       0.38      0.11      0.17      1106\n",
            "         3.0       0.40      0.25      0.31      3059\n",
            "         4.0       0.45      0.26      0.33      9272\n",
            "         5.0       0.76      0.93      0.84     27111\n",
            "\n",
            "    accuracy                           0.70     41611\n",
            "   macro avg       0.52      0.41      0.44     41611\n",
            "weighted avg       0.65      0.70      0.66     41611\n",
            "\n"
          ]
        }
      ],
      "source": [
        "import re\n",
        "import spacy\n",
        "import pandas as pd\n",
        "from sklearn.model_selection import train_test_split\n",
        "from sklearn.feature_extraction.text import TfidfVectorizer\n",
        "from sklearn.linear_model import LogisticRegression\n",
        "from sklearn.metrics import accuracy_score, classification_report\n",
        "\n",
        "# Cargar el modelo en español de spaCy\n",
        "nlp = spacy.load('es_core_news_sm')\n",
        "\n",
        "def preprocess_text(text):\n",
        "    \"\"\"\n",
        "    Preprocesa el texto:\n",
        "    - Convierte a minúsculas.\n",
        "    - Elimina URLs.\n",
        "    - Elimina dígitos.\n",
        "    - Elimina signos de puntuación y caracteres especiales.\n",
        "    - Realiza lematización y elimina stopwords.\n",
        "    \"\"\"\n",
        "    # Convertir a minúsculas\n",
        "    text = text.lower()\n",
        "\n",
        "    # Eliminar URLs\n",
        "    text = re.sub(r'http\\S+', '', text)\n",
        "\n",
        "    # Eliminar números\n",
        "    text = re.sub(r'\\d+', '', text)\n",
        "\n",
        "    # Eliminar signos de puntuación y caracteres especiales\n",
        "    text = re.sub(r'[^\\w\\s]', '', text)\n",
        "\n",
        "    # Procesar el texto con spaCy\n",
        "    doc = nlp(text)\n",
        "\n",
        "    # Lematizar y eliminar stopwords, puntuación y espacios en blanco\n",
        "    tokens = [token.lemma_ for token in doc if not token.is_stop and not token.is_punct and not token.is_space]\n",
        "\n",
        "    return ' '.join(tokens)\n",
        "\n",
        "# Supongamos que tu DataFrame se llama df y tiene la columna 'Review'\n",
        "# Aplica el preprocesamiento al texto\n",
        "df['Review_processed'] = df['Review'].apply(preprocess_text)\n",
        "\n",
        "# Divide el dataset (usando el texto preprocesado)\n",
        "X = df['Review_processed']\n",
        "y = df['Polarity']\n",
        "\n",
        "X_train, X_test, y_train, y_test = train_test_split(X, y, test_size=0.2, random_state=42)\n",
        "\n",
        "# Inicializar el vectorizador TF-IDF\n",
        "vectorizer = TfidfVectorizer()\n",
        "\n",
        "# Ajustar y transformar el conjunto de entrenamiento\n",
        "X_train_tfidf = vectorizer.fit_transform(X_train)\n",
        "\n",
        "# Transformar el conjunto de prueba\n",
        "X_test_tfidf = vectorizer.transform(X_test)\n",
        "\n",
        "# Entrenar un clasificador (por ejemplo, Regresión Logística)\n",
        "clf = LogisticRegression(max_iter=1000)\n",
        "clf.fit(X_train_tfidf, y_train)\n",
        "\n",
        "# Realizar predicciones en el conjunto de prueba\n",
        "y_pred = clf.predict(X_test_tfidf)\n",
        "\n",
        "# Evaluar el modelo\n",
        "print(\"Exactitud (accuracy):\", accuracy_score(y_test, y_pred))\n",
        "print(\"Reporte de clasificación:\\n\", classification_report(y_test, y_pred))"
      ]
    }
  ],
  "metadata": {
    "colab": {
      "provenance": []
    },
    "kernelspec": {
      "display_name": "Python 3",
      "name": "python3"
    },
    "language_info": {
      "name": "python"
    }
  },
  "nbformat": 4,
  "nbformat_minor": 0
}