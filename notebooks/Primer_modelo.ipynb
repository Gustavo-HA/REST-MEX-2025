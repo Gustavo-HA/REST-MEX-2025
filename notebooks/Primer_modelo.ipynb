{
 "cells": [
  {
   "cell_type": "code",
   "execution_count": 57,
   "metadata": {},
   "outputs": [
    {
     "data": {
      "text/plain": [
       "<module 'preprocessing' from 'c:\\\\Users\\\\Gus\\\\Documents\\\\proyectos\\\\REST-MEX-2025\\\\src\\\\preprocessing.py'>"
      ]
     },
     "execution_count": 57,
     "metadata": {},
     "output_type": "execute_result"
    }
   ],
   "source": [
    "import pandas as pd\n",
    "import numpy as np\n",
    "import matplotlib.pyplot as plt\n",
    "import torch\n",
    "import torch.nn as nn\n",
    "import torch.optim as optim\n",
    "import torch.nn.functional as F\n",
    "from torch.utils.data import DataLoader, Dataset\n",
    "from sklearn.model_selection import train_test_split\n",
    "from sklearn.decomposition import PCA\n",
    "from sklearn.preprocessing import LabelEncoder\n",
    "from sklearn.preprocessing import StandardScaler\n",
    "from sklearn.feature_extraction.text import TfidfVectorizer\n",
    "from sklearn.pipeline import Pipeline\n",
    "import tqdm\n",
    "import re\n",
    "import string\n",
    "import nltk\n",
    "from nltk.corpus import stopwords\n",
    "import shutil\n",
    "\n",
    "from argparse import Namespace\n",
    "arg = Namespace()\n",
    "\n",
    "import sys\n",
    "import os\n",
    "\n",
    "if os.path.abspath(\"../src\") not in sys.path:\n",
    "    sys.path.append(os.path.abspath(\"../src\"))\n",
    "\n",
    "import preprocessing as pp\n",
    "import config\n",
    "import importlib\n",
    "\n",
    "importlib.reload(pp)"
   ]
  },
  {
   "cell_type": "code",
   "execution_count": 2,
   "metadata": {},
   "outputs": [
    {
     "data": {
      "application/vnd.microsoft.datawrangler.viewer.v0+json": {
       "columns": [
        {
         "name": "index",
         "rawType": "int64",
         "type": "integer"
        },
        {
         "name": "Title",
         "rawType": "object",
         "type": "string"
        },
        {
         "name": "Review",
         "rawType": "object",
         "type": "string"
        },
        {
         "name": "Polarity",
         "rawType": "float64",
         "type": "float"
        },
        {
         "name": "Town",
         "rawType": "object",
         "type": "string"
        },
        {
         "name": "Region",
         "rawType": "object",
         "type": "string"
        },
        {
         "name": "Type",
         "rawType": "object",
         "type": "string"
        }
       ],
       "conversionMethod": "pd.DataFrame",
       "ref": "bef67bce-7af0-4755-a262-719156a919de",
       "rows": [
        [
         "0",
         "Mi Lugar Favorito!!!!",
         "Excelente lugar para comer y pasar una buena noche!!!\nEl servicio es de primera y la comida exquisita!!!",
         "5.0",
         "Sayulita",
         "Nayarit",
         "Restaurant"
        ],
        [
         "1",
         "lugares interesantes para visitar",
         "andar mucho, así que un poco difícil para personas con niños pequeños, pero con mucha historia en la zona, y la diversión de aprender un poco de todo, y explorar las ruinas. La playa también era bastante agradable!",
         "4.0",
         "Tulum",
         "QuintanaRoo",
         "Attractive"
        ],
        [
         "2",
         "No es el mismo Dreams ",
         "Es nuestra cuarta visita a Dreams Tulum, elegimos este hotel para festejar mi cumpleaños ya que en este hotel nos comprometimos y casamos y tenemos un cariño muy especial por este lugar, pero mostramos que cambiaron las cosas.  En cuestión de instalaciones sigue perfecto!! La playa muy limpia a pesar del sargazo ( es una cuestión natural incontrolable).   Pero en la amabilidad y servicio que los distinguía lo han perdido bastante, los empleados andan corriendo por todos lados, gritando de un lado a otro tratando de organizarse y pasamos varios detalles como por ejemplo mi esposo pidió un juego verde y la mesera le contestó que se parara él que estaba en la esquina porque solo se llevaba el café!! Eso jamás hubiera pasado en el Dreams de antes!!! Cuando uno se topaba al staff del",
         "3.0",
         "Tulum",
         "QuintanaRoo",
         "Hotel"
        ],
        [
         "3",
         "un buen panorama cerca de CancÃºn",
         "Estando en CancÃºn, fuimos al puerto y tomamos un Ferry a la Isla Mujeres.....despuÃ©s de un corto viaje, llegamos a esta pequeÃ±a isla, donde todo el mundo se desplaza en moto, carritos de golf, bicicleta o simplemente caminando.La recorrimos durante un rato y terminamos en la Playa Norte, donde pasamos la tarde recostadas sobre la arena y baÃ±Ã¡ndonos en el mar...... el agua tiene muy poca profundidad, por lo que puedes adentrarte mucho en el mar simplemente caminando.Si estÃ¡s en CancÃºn, te recomiendo destinar medio dÃ­a para conocer esta simpÃ¡tica isla.",
         "4.0",
         "Isla_Mujeres",
         "QuintanaRoo",
         "Attractive"
        ],
        [
         "4",
         "El mejor",
         "Es un lugar antiguo y por eso me encanto tiene un área de juegos gigante en la cual hay boliche, ping pong, mesas de cartas, dominó. Esta super céntrico Pase ahí año nuevo y la fiesta fue increíble También te prestan bicis para que visites la ciudad",
         "5.0",
         "Patzcuaro",
         "Michoacan",
         "Hotel"
        ]
       ],
       "shape": {
        "columns": 6,
        "rows": 5
       }
      },
      "text/html": [
       "<div>\n",
       "<style scoped>\n",
       "    .dataframe tbody tr th:only-of-type {\n",
       "        vertical-align: middle;\n",
       "    }\n",
       "\n",
       "    .dataframe tbody tr th {\n",
       "        vertical-align: top;\n",
       "    }\n",
       "\n",
       "    .dataframe thead th {\n",
       "        text-align: right;\n",
       "    }\n",
       "</style>\n",
       "<table border=\"1\" class=\"dataframe\">\n",
       "  <thead>\n",
       "    <tr style=\"text-align: right;\">\n",
       "      <th></th>\n",
       "      <th>Title</th>\n",
       "      <th>Review</th>\n",
       "      <th>Polarity</th>\n",
       "      <th>Town</th>\n",
       "      <th>Region</th>\n",
       "      <th>Type</th>\n",
       "    </tr>\n",
       "  </thead>\n",
       "  <tbody>\n",
       "    <tr>\n",
       "      <th>0</th>\n",
       "      <td>Mi Lugar Favorito!!!!</td>\n",
       "      <td>Excelente lugar para comer y pasar una buena n...</td>\n",
       "      <td>5.0</td>\n",
       "      <td>Sayulita</td>\n",
       "      <td>Nayarit</td>\n",
       "      <td>Restaurant</td>\n",
       "    </tr>\n",
       "    <tr>\n",
       "      <th>1</th>\n",
       "      <td>lugares interesantes para visitar</td>\n",
       "      <td>andar mucho, así que un poco difícil para pers...</td>\n",
       "      <td>4.0</td>\n",
       "      <td>Tulum</td>\n",
       "      <td>QuintanaRoo</td>\n",
       "      <td>Attractive</td>\n",
       "    </tr>\n",
       "    <tr>\n",
       "      <th>2</th>\n",
       "      <td>No es el mismo Dreams</td>\n",
       "      <td>Es nuestra cuarta visita a Dreams Tulum, elegi...</td>\n",
       "      <td>3.0</td>\n",
       "      <td>Tulum</td>\n",
       "      <td>QuintanaRoo</td>\n",
       "      <td>Hotel</td>\n",
       "    </tr>\n",
       "    <tr>\n",
       "      <th>3</th>\n",
       "      <td>un buen panorama cerca de CancÃºn</td>\n",
       "      <td>Estando en CancÃºn, fuimos al puerto y tomamos...</td>\n",
       "      <td>4.0</td>\n",
       "      <td>Isla_Mujeres</td>\n",
       "      <td>QuintanaRoo</td>\n",
       "      <td>Attractive</td>\n",
       "    </tr>\n",
       "    <tr>\n",
       "      <th>4</th>\n",
       "      <td>El mejor</td>\n",
       "      <td>Es un lugar antiguo y por eso me encanto tiene...</td>\n",
       "      <td>5.0</td>\n",
       "      <td>Patzcuaro</td>\n",
       "      <td>Michoacan</td>\n",
       "      <td>Hotel</td>\n",
       "    </tr>\n",
       "  </tbody>\n",
       "</table>\n",
       "</div>"
      ],
      "text/plain": [
       "                               Title  \\\n",
       "0              Mi Lugar Favorito!!!!   \n",
       "1  lugares interesantes para visitar   \n",
       "2             No es el mismo Dreams    \n",
       "3  un buen panorama cerca de CancÃºn   \n",
       "4                           El mejor   \n",
       "\n",
       "                                              Review  Polarity          Town  \\\n",
       "0  Excelente lugar para comer y pasar una buena n...       5.0      Sayulita   \n",
       "1  andar mucho, así que un poco difícil para pers...       4.0         Tulum   \n",
       "2  Es nuestra cuarta visita a Dreams Tulum, elegi...       3.0         Tulum   \n",
       "3  Estando en CancÃºn, fuimos al puerto y tomamos...       4.0  Isla_Mujeres   \n",
       "4  Es un lugar antiguo y por eso me encanto tiene...       5.0     Patzcuaro   \n",
       "\n",
       "        Region        Type  \n",
       "0      Nayarit  Restaurant  \n",
       "1  QuintanaRoo  Attractive  \n",
       "2  QuintanaRoo       Hotel  \n",
       "3  QuintanaRoo  Attractive  \n",
       "4    Michoacan       Hotel  "
      ]
     },
     "execution_count": 2,
     "metadata": {},
     "output_type": "execute_result"
    }
   ],
   "source": [
    "train_set = pd.read_csv(config.TRAIN_FILE)\n",
    "train_set.head()"
   ]
  },
  {
   "cell_type": "code",
   "execution_count": 35,
   "metadata": {},
   "outputs": [],
   "source": [
    "X = train_set.drop(columns=config.TARGETS)\n",
    "y1 = train_set[config.TARGET1] # Polarity\n",
    "y2 = train_set[config.TARGET2] # Town\n",
    "y3 = train_set[config.TARGET3] # Type\n",
    "\n",
    "X1_train, X1_test, y1_train, y1_test = train_test_split(X, y1, test_size=0.2, random_state=42, stratify=y1)\n",
    "X2_train, X2_test, y2_train, y2_test = train_test_split(X, y2, test_size=0.2, random_state=42, stratify=y2)\n",
    "X3_train, X3_test, y3_train, y3_test = train_test_split(X, y3, test_size=0.2, random_state=42, stratify=y3)"
   ]
  },
  {
   "cell_type": "markdown",
   "metadata": {},
   "source": [
    "### Preprocesado"
   ]
  },
  {
   "cell_type": "code",
   "execution_count": 36,
   "metadata": {},
   "outputs": [],
   "source": [
    "def preproccess_pipeline():\n",
    "    \"\"\"\n",
    "    This function defines a preprocessing pipeline for text data.\n",
    "\n",
    "    Steps in the pipeline:\n",
    "    1. 'Arreglar mojibakes': Fixes mojibake issues in the specified text columns.\n",
    "    2. 'Minúsculas y quitar stopwords': Converts text to lowercase and removes stopwords from the specified text columns.\n",
    "    3. 'Quitar features no deseadas': Drops unwanted features from the specified text columns.\n",
    "\n",
    "    Args:\n",
    "        classifier: The classifier model to be used (not utilized in the pipeline itself).\n",
    "\n",
    "    Returns:\n",
    "        loan_pipe: A scikit-learn Pipeline object that applies the preprocessing steps sequentially.\n",
    "    \"\"\"\n",
    "    loan_pipe = Pipeline(\n",
    "    [\n",
    "        ('Arreglar mojibakes', pp.ArreglaMojibake(config.TEXT_COLUMNS)),\n",
    "        (\"Minúsculas y quitar stopwords\", pp.QuitaStopwords(config.TEXT_COLUMNS)),\n",
    "        (\"Guardar en una columna\", pp.JuntarFeatures(config.TEXT_COLUMNS, config.NEW_COLUMN)),\n",
    "        (\"Quitar features no deseadas\", pp.DropFeatures(config.TEXT_COLUMNS))\n",
    "    ]\n",
    "    )\n",
    "    return loan_pipe"
   ]
  },
  {
   "cell_type": "code",
   "execution_count": 37,
   "metadata": {},
   "outputs": [],
   "source": [
    "X1_train = preproccess_pipeline().fit_transform(X1_train)\n",
    "X2_train = preproccess_pipeline().fit_transform(X2_train)\n",
    "X3_train = preproccess_pipeline().fit_transform(X3_train)"
   ]
  },
  {
   "cell_type": "code",
   "execution_count": 39,
   "metadata": {},
   "outputs": [
    {
     "data": {
      "application/vnd.microsoft.datawrangler.viewer.v0+json": {
       "columns": [
        {
         "name": "index",
         "rawType": "int64",
         "type": "integer"
        },
        {
         "name": "Texto_Limpio",
         "rawType": "object",
         "type": "string"
        }
       ],
       "conversionMethod": "pd.DataFrame",
       "ref": "a08fa08c-b5ef-401c-b832-490dacfa41d0",
       "rows": [
        [
         "126252",
         "bonito excelente lugar travajo llenaron mmis expectativas cofi salones servício desalluno variedad excelente lugar duda lugar trevajo veremos pronto posada despido cordial saludo personal"
        ],
        [
         "86765",
         "casa campo excepcional ambiente relajarse disfrutar esposo pasamos dias descanso maravillosos luciernagas terraza chimenea increible puedes disfrutar buen vino botana anochecer vista quita aliento habitaciones acogedoras tranquilas único ruido escuchas bosque imagina noche bajo luz estrellas bajo leve llovizna dentro jacuzzi agua calienteeso luciérnagas dueño excelente persona lugar excelene relajarse compañía rodeado naturaleza"
        ],
        [
         "87166",
         "hermosa playa bebidas baratas preciosa playa padres dieron rondas bebidas menos dlares nico inconveniente nativos isla vienen tratar vender productos divertido regatear dieron hamaca casera resistente dlares despus hora personas tratando llegar comprar cosas pone viejo impedira volver playa norte agua"
        ],
        [
         "120252",
         "calma llegamos dicen escalones parecen sencillo subir calma llegamos fatigavistas bonitas área arqueológica interesante"
        ],
        [
         "154695",
         "mejores tacos isla mujeres tacos riquísimos lugar parada obligatoria recomendados camarero luciano aconsejó perfectamente buenísimos tacos carne pescado tacos plus añadido gran cantidad perfecto compartir duda parada obligatoria"
        ],
        [
         "67006",
         "excelente hotel agradable confortable exclusivo restaurante gran variedad exóticos platillos exquisito sabor además permitír acceso cocina excelente servicio rapidéz amabilidad limpieza general lugar excepcional cuida último detalle traslada amás"
        ],
        [
         "188482",
         "nuevo restaurante gran adición opciones restaurantes valladolid corrección dirección dirección calle n yerba buena restaurante edificio pintado amarillo gran yerba buena señal encima puerta así aunque tripadvisor dirección mal encontraráfácilmente vale pena ir nuevo restaurante restaurante abierto am pm días excepto lunes sólo efectivo precios razonables así importa restaurante bien decorado encantador patio jardín exterior mesas sillas cómodas menú ofrece platos desayuno almuerzo platos fruta granola yogur platos panqueques huevos tostadas francesas entrantes ensaladas sándwiches aperitivos tomates secados appertizer mexicanos probamos bueno varios zumos hacen verduras frutas así diversas bebidas café tés hierbas sirven liqour cerveza comido restaurante dos veces primera vez dos volvimos segunda vez amigos disfrutamos dos diferentes platos huevo sándwiches tomates secados amplia variedad ambos ofrecidos buenos postres tarta casera zanahoria tipos pasteles ve disfruta yerba buena decepcionará justo enfrente san bernardino siena exconvento así fácil encontrarmás"
        ],
        [
         "130383",
         "nunca alojaré vez privilege acabo volver pasar noches complejo años años hija volveré recomiendo cualquiera aire cálido servicio atención cliente recepción momento registramos dijeron ascensor roto edificio habitación reservado ofrecen habitación pequeño ventanas dan calle ruidoso aire acondicionado balcón justo encima quedamos disappoited costó encontrar misma habitación calidad reservamos comida buena limitado frutas cada vez pedir fruta trajeron sólo pequeños trozos restaurante sabor tomó eternidad llevar"
        ],
        [
         "54609",
         "mejores playas baja familiar si buscando playa aislada aguas cristalinas sitio playas pacífico baja california bien conocidos resaca aguas revueltas orilla breakers muchas playas familias secreto duda éste varios instructores surf tiendas acomodar establecer todas edades surfistas cerritos beach club puedes conseguir comida bebidas llevaron toalla comer restaurante cada tipo casa playa bungalow palapa surf hut barrio detrás llegar allí tome autopista salga señal milla después baches polvoriento camino tierra playa factor molestia vez vaya playa chico puerta quiere cinco dólares entrar parque"
        ],
        [
         "28532",
         "ten cuidado número habitación busqué hotel línea sorprendida entré habitación número habitación dos camas fijado sofá mesa sitio deshacer maletas cajón cuarto baño pequeño artículos excepto recargables botellas ducha botellas vacíos rota suerte propio absolutamente ninguna presión agua ducha cucarachas primera vez capturaba bajo cristal manuel vienen matar aseguró sólo bicho árboles selva segunda noche tan fácil engañar después mantuvo luz cuarto baño balcón habitación bonitas sillas madera"
        ],
        [
         "153355",
         "consigue hamburguesa funky restaurante carretera solo gran ambiente sino comida increíble basado reco local ambos pedimos hamburguesa seguros haberlo hecho hamburguesas sabrosas tenidoel lado papas único sabrosomás"
        ],
        [
         "89892",
         "precios caros agradable ambiente hace días pedí naranjada sabía jugo tienda diluido agua comida faltaba sal único bueno lugar música"
        ],
        [
         "3810",
         "recomendable cenote precioso bien cuidado agua fresca agradable temperatura zona caminar zona aparcamiento llegar cenote"
        ],
        [
         "11889",
         "genial cabañas bonitas playa excepcional arena blanca suave lugar aventureros joven vale pena visitar lugar si buscas relajarte descansar lugar bonito"
        ],
        [
         "55336",
         "tan linda alocada tipo playa elijo bien bella bastante gente bastante enloquecimiento prefiero playas ms tranquilas quita bonita"
        ],
        [
         "119863",
         "hermosas ruinas excursión éstos pintoresco ruinas mayas península ubicación espectacular ubicación conveniente complejos turísticos playa carmen si conduces pagar aparcar dentro puertas luego tome autobús pie distancia ruinas sombra junto lados carretera caminata bastante suave contratamos guía grupo justo entrada ruinas"
        ],
        [
         "75191",
         "espectacular gustavo daniel mejores meseros q conocí candelaria excelente mixologa luis gerente mantiene bien controlado conclusión vivimos experiencia única energía increíblemás"
        ],
        [
         "96384",
         "playa paraíso tulúm playa aguas abiertas oleaje color indescriptible turquesa fluo mejores mundo"
        ],
        [
         "110466",
         "excelente carne grupo amigos bistec preparado justo servicio bueno atento muchas personas restaurante noche visitamos luego mediados semana bonita decoración volvería aquí nuevo"
        ],
        [
         "49849",
         "palenque maravilloso ingenio tecnicas especiales construir edificacionespara lograr palacios igualmente puede apreciar urbanismo plasmaron ciudad comunidad"
        ],
        [
         "204123",
         "excelente lugar irreproachable punto vista cordialidad servicio atención detalles atmósfera acogedora entorno ensueño tentación preservar secreto fuerte esmero merece ser recompensada gracias volveremos"
        ],
        [
         "199817",
         "taxco solo santa prisca taxco cosas conocer salgan centro recuerden turistas extranjeros interés visitar construcciones religiosas"
        ],
        [
         "153598",
         "increible divinas ruinas palenque lugar selvático viaje base ruinas hermoso verde grandes llevar protección sol"
        ],
        [
         "114548",
         "normal ahí medio día mala hora acudir cuentan platillos desayuno sirve tampoco comida lugar bonito comida bien extraordinario final platillosmás"
        ],
        [
         "146623",
         "buena comida yucateca solo pareja eramos unicos comensales atencion rapida lugar tranquilo limpio comida buena meseros atentos"
        ],
        [
         "3107",
         "terreno limpio cómodo bonito habitaciones amplias limpias cómodas tranquilas jardines bonitos mayoría habitaciones planta baja habitaciones segundo piso habitaciones antiguas frente gente grupo hospedó habitaciones dijo agua caliente limitada nuevas habitaciones parte atrás mucha agua caliente buenos lugares hospedarse loreto"
        ],
        [
         "82006",
         "excelente sabor ubicación céntrico lindo lugar ambiente agradable ratos va trío cantar buena iluminación comida buena precio bajo si vale"
        ],
        [
         "87342",
         "encontrar camino zaguan sorpresa siguiendo recomendación hotel idea experiencia tan entusiasta chef beto haciendo bastantes ventiladores toque platos mexicanos experiencias encantadora comida pierda tlaquepaqie undescubrimiento solo asegúrate ir demasiado tarde noche conscientes hora cierre semanamás"
        ],
        [
         "125200",
         "bello lugar ruinas pequeñas chichén itza lado mar precioso da aire mágico definitivamente imperdible viajes riviera maya puede andar coche bebé papás deberán prepararse cargar niños recorrido evite disfrutar sitio si lugares asientos sombra tomar descansos"
        ],
        [
         "158568",
         "gente feliz happy hour estomacal aaleyah tarde debido críticas seguro altura nombre aaleyah muñeca actos años mayores años asegúrate split platos enormes alas noson pequeños nuggets típicos americanos alas enteras así pides alas equivale puede esperar alas lugar bastante pequeña así vaya temprano conseguir mesamás"
        ],
        [
         "49101",
         "valorado comida rica dicho wow caro agua laguna verde ven azules turquesa hace lugar pierda encanto quedarte disfrutarmás"
        ],
        [
         "93977",
         "playa hermosa comida rica frente playa hermosa tulum decoración restaurante buena gusto atención excelente comida buena único barato zonas turísticas asímás"
        ],
        [
         "85308",
         "mayonesa frigorífico mayonesa frigorífico pesimo servicio bien bien mayones frigorifico"
        ],
        [
         "130720",
         "estancia confortable increible ubicación excelente fácil encontrarlo queda cerca además habitación amplia limpia fresca vista increíble comida ofrecen deliciosa domingo entramos bufet parte comida rica restaurante grande hermosa vista mar personal atento solicitudes primera vez visitamos isla idea hacer parte ir playa"
        ],
        [
         "125076",
         "contemporáneo cocina maya zebra recomendado lugar disfrutar buena cocina mexicana conserje hotel decepcionó pedí atún tostada comenzar cosas sabía mientras tulum siguiente plato queríaprobar plato clásico maya dieron cochinita pibil realmente bueno exactamente imaginaba iba gusto servicio amable incluso acomodó servicio cena comenzó ningún problema siempre esperamos cocina cambiar creo joya infravaloradomás"
        ],
        [
         "95339",
         "descuidada lugar solia ser descuidado deberian dar mantenimiento ademas promocionarlo gran cosa si promocionara mas seria atractivo isla mas"
        ],
        [
         "192135",
         "precioso frustrante siempre uso tripadvisor planeando unas vacaciones así pensé pudieran beneficiarse experiencia mitad camino través primer día betulum playas tulum preciosos hotel precioso experiencia sido frustrante llamamos días antelación confirmar autobús personal betulum aseguró alguien podría reunirse aeropuerto nombres cartel hora media después haber aterrizado todavía esperando nadie betulum debía ser visto encontrar teléfono pago llamar hotel dijeron problemas coche así envió alguien menos dicen ocurriendo"
        ],
        [
         "65017",
         "volver comida deliciosa servicio atento volver gran decisión éste sólo mejor restaurante tlaquepaque mejores comidas punto precios mundo llegardescubrimos crecer familia construye gran restaurante así recomiendo vayas ahora descubran arrepentirás segunda vez incluso mejor primera cierto sabíamos cerraba temprano hicimos reservas pasado tiempo habitual cierre mantuvieron restaurante abierto cuántas veces oído experiencia romántica comedor esposa restaurante así si petición especial preguntemás"
        ],
        [
         "16486",
         "bien tienda museo número sitios sancris pretende ser museo embargo exhibición museo mínima casi jade venta allí arrastradas turistas decepcionados"
        ],
        [
         "29020",
         "inolvidable velada simplemente experiencia incomparable comida exquisita atención increíble mejor noche gran show velas perfecta combinación música hacen rosa negra mejor lugar tulum recomendable volveré pronto"
        ],
        [
         "183357",
         "imponentes piramides visto muchas zonas arqueologicas general impresionante altura ademas historia qu puedes imaginar cima toda ciudad calles casas mercado em cima aprecia toda ciudad si escuchaste componia daras cuenta existe despues pasar años recomendable llevar ropa deportiva sol facil llegar cima dije alta vale pena cararse energia llegar cima ademas museo misma ciudad puedes tomar sobra refrescarte aire acondicionado llegar alas piramides puedes tomar autobus central norte lleva entrada zona arqueologica regreso igual manera"
        ],
        [
         "157689",
         "comida decepcionante músicos llegar pintoresco pueblo buscamos comida alrededor plaza central finalmente instalamos restaurantes sugeridos trip advisor perla sentamos disfrutar buen día encontramos rico menú comidas mixtasde pescado carne merece estudio detallado así pedimos entrante pescado simple misma tostada púlpito señora cóctel pescado mixto pasable sabor fuentes primera verdadera decepción vino pedí vino joven camarero seguro si vino restaurante sirve pescado después desaparecer dentro cavernoso restaurante minutos regresó sonrisa satisfacción s senior tenemo copa vino blanco siquiera molesté preguntar tipo vino blanco cerveza pacifico después disfrutar cerveza pido luego llegó segunda decepción botellas cerveza pacifico mientras decidido tener simple corte carne plato principal resultó ser trozo carne menos cm cuadrados rodeado unas pocas patatas fritas fango enorme si jugo marrón frijoles flotando desafortunadamente vuelto alérgico frijoles hace tiempo después comer parecía deliciosa pasta frijoles marrones lujoso restaurante mexicano houston resultó dos semanas sentado inodoro así pedir plato carne frijoles debería haber preguntado antemano norma partes mundo adornar cualquier plato principal lodo marrón pulsos mejor comida llegar mientras comíamos mesa exterior literalmente abrumados oleadas tras oleadas vendedores callejeros mendigos músicos callejeros último contribuido principalmente niños pequeños desafinados después presentación mesa lado grupo músicos experimentados aspecto profesional cantante principal terminando cantando yesterday inglés desafinado general pregunté mismo cantante si podía cantar besame dejó pensar rato luego dijo español traduzco literalmente bueno oído hablar canción sé cómo cantarla hablando canción mexicana famosa mundo surrealista pocas palabras si alguna vez atreves venir ciudad comer perla consejo come adentro asegúrate menos dos botellas cerveza favorita pidas músicos locales canten mexicanos renombre internacional canciones ayer puede funcionar embargomás"
        ],
        [
         "184423",
         "maruka maruka must visitar malinalco carta gran variedad deliciosa imperdibles huevo hoyo costillas toda parrilla coliflores carbón drinks mezcal además extraordinaria atención alex equipo recomendablemás"
        ],
        [
         "152938",
         "si existe cielo tierra bacalar sitio perfecto clima bonito temperatura ideal agua limpia solo vi restaurantes tiran desechos laguna ojo"
        ],
        [
         "47025",
         "bonito hotel todas habitaciones hotel bonito gente trabaja ahí amable servicial alberca jacuzzi bien gustó ubicación pues vista lago ajijic cerca restaurantes poder ir caminar ajijic tan bonito tocó mala suerte llegar peor habitación hotel lado cocina ventanas solo regadera tina escuchaba ruidos habitación arriba cocina cambiaron después noche casi dormir habitación parte superior comparación alguna mejor nunca vayan cuarto lado cocina"
        ],
        [
         "125491",
         "agradable comida vista comida rica precio accesible sugiero fondo terraza pegada lago brisa agradable pueden ver patos nadar servicio primera"
        ],
        [
         "130660",
         "petite bonito concepto nuevo divertido diría coqueto exótico viajeros saben único necesitan cama dormir agua caliente bañarse enchufe wifi gratis"
        ],
        [
         "158713",
         "comida alucinante así alegro sólo coche lugar escuchamos críticas maravilloso servicio buena comida enchiladas suizas duda éxito añade lista sitios volver próxima visita"
        ],
        [
         "132903",
         "bello cultura mexicana compleja extensa sua ruinas pasado lugar transporta tiempo hace vivir cultura"
        ],
        [
         "92201",
         "mejor comida exclusiva isla mejor restaurante exclusivo centro ciudad propietarios europeas empleados menú mediterráneo enfoque ingredientes frescos príncipe zona opciones limitadas excelentes vinos última dos asientos quecada noche preferimos tarde así prisamás"
        ]
       ],
       "shape": {
        "columns": 1,
        "rows": 166440
       }
      },
      "text/html": [
       "<div>\n",
       "<style scoped>\n",
       "    .dataframe tbody tr th:only-of-type {\n",
       "        vertical-align: middle;\n",
       "    }\n",
       "\n",
       "    .dataframe tbody tr th {\n",
       "        vertical-align: top;\n",
       "    }\n",
       "\n",
       "    .dataframe thead th {\n",
       "        text-align: right;\n",
       "    }\n",
       "</style>\n",
       "<table border=\"1\" class=\"dataframe\">\n",
       "  <thead>\n",
       "    <tr style=\"text-align: right;\">\n",
       "      <th></th>\n",
       "      <th>Texto_Limpio</th>\n",
       "    </tr>\n",
       "  </thead>\n",
       "  <tbody>\n",
       "    <tr>\n",
       "      <th>126252</th>\n",
       "      <td>bonito excelente lugar travajo llenaron mmis e...</td>\n",
       "    </tr>\n",
       "    <tr>\n",
       "      <th>86765</th>\n",
       "      <td>casa campo excepcional ambiente relajarse disf...</td>\n",
       "    </tr>\n",
       "    <tr>\n",
       "      <th>87166</th>\n",
       "      <td>hermosa playa bebidas baratas preciosa playa p...</td>\n",
       "    </tr>\n",
       "    <tr>\n",
       "      <th>120252</th>\n",
       "      <td>calma llegamos dicen escalones parecen sencill...</td>\n",
       "    </tr>\n",
       "    <tr>\n",
       "      <th>154695</th>\n",
       "      <td>mejores tacos isla mujeres tacos riquísimos lu...</td>\n",
       "    </tr>\n",
       "    <tr>\n",
       "      <th>...</th>\n",
       "      <td>...</td>\n",
       "    </tr>\n",
       "    <tr>\n",
       "      <th>51457</th>\n",
       "      <td>gran lugar si gusta naturaleza aficionado ento...</td>\n",
       "    </tr>\n",
       "    <tr>\n",
       "      <th>136488</th>\n",
       "      <td>excelente sabor servicio deliciosa comida crem...</td>\n",
       "    </tr>\n",
       "    <tr>\n",
       "      <th>152136</th>\n",
       "      <td>cena lolos divino disfrutamos magníficas cenas...</td>\n",
       "    </tr>\n",
       "    <tr>\n",
       "      <th>136042</th>\n",
       "      <td>año nuevo nuevo menú encanta restaurante sabe ...</td>\n",
       "    </tr>\n",
       "    <tr>\n",
       "      <th>158927</th>\n",
       "      <td>icono paztcuaro antiguo templo compañia jesús ...</td>\n",
       "    </tr>\n",
       "  </tbody>\n",
       "</table>\n",
       "<p>166440 rows × 1 columns</p>\n",
       "</div>"
      ],
      "text/plain": [
       "                                             Texto_Limpio\n",
       "126252  bonito excelente lugar travajo llenaron mmis e...\n",
       "86765   casa campo excepcional ambiente relajarse disf...\n",
       "87166   hermosa playa bebidas baratas preciosa playa p...\n",
       "120252  calma llegamos dicen escalones parecen sencill...\n",
       "154695  mejores tacos isla mujeres tacos riquísimos lu...\n",
       "...                                                   ...\n",
       "51457   gran lugar si gusta naturaleza aficionado ento...\n",
       "136488  excelente sabor servicio deliciosa comida crem...\n",
       "152136  cena lolos divino disfrutamos magníficas cenas...\n",
       "136042  año nuevo nuevo menú encanta restaurante sabe ...\n",
       "158927  icono paztcuaro antiguo templo compañia jesús ...\n",
       "\n",
       "[166440 rows x 1 columns]"
      ]
     },
     "execution_count": 39,
     "metadata": {},
     "output_type": "execute_result"
    }
   ],
   "source": [
    "X1_train"
   ]
  },
  {
   "cell_type": "code",
   "execution_count": 41,
   "metadata": {},
   "outputs": [
    {
     "data": {
      "application/vnd.microsoft.datawrangler.viewer.v0+json": {
       "columns": [
        {
         "name": "index",
         "rawType": "int64",
         "type": "integer"
        },
        {
         "name": "Texto_Limpio",
         "rawType": "object",
         "type": "string"
        },
        {
         "name": "Type",
         "rawType": "object",
         "type": "string"
        }
       ],
       "conversionMethod": "pd.DataFrame",
       "ref": "b5a74f3d-0832-48f2-8bfe-91e052fb576c",
       "rows": [
        [
         "52557",
         "tan maravilloso juego disneyland llegar azulik toda experiencia lugar mágico recordo visitas disneyland habitaciones arboles respeto naturaleza comida cocktails er nivel lugar perfecto ir pareja gracias azulik",
         "Hotel"
        ],
        [
         "706",
         "visitar isla janitzio maravilloso ir descubrir hermoso isla definitivamente puedes pasartelo genial locales viendo artesanias disfrutando bebida comer",
         "Attractive"
        ],
        [
         "75004",
         "desayuno estupendo fruta tortitas huevos ofrece dólar favorito gran ambiente complaciente selección frutas",
         "Restaurant"
        ],
        [
         "6629",
         "excelente cada vez visita obligada cada vez vamos sayulita gran surtido salsas puede aplicar opción carne parrilla personalmente encanta salsa crema bistec gorgonzola upper pontoon bistec ala parrilla increíble encanta desayuno genial batidos amabilidad dueño personalmás",
         "Restaurant"
        ],
        [
         "200700",
         "hotel agradable excelente ubicación desayuno gratis bonito lugar alojarse mientras realiza todas atracciones alrededor palenque personal hotel agradable hotel habitaciones limpias piscina divertido niños buena manera refrescarse restaurante genial desayuno bien precio ubicación estupenda caminar restaurantes centro única queja luke duchas calientes conseguir agua caliente mejor tercera noche probablemente culpa traer atención duda alojaría aquí nuevo recomienda tripadvisor dice desayuno gratis desayuno gratis dijeron recepción dicen problema asesor viaje",
         "Hotel"
        ],
        [
         "50586",
         "fin semana ixtapalan lugar maravilloso verdadera joya escondida comida fresca precios competitivos servicio sobresaliente recomiendo encarecidamente lugar orientado familia deliciosos platos",
         "Restaurant"
        ],
        [
         "134966",
         "asado puerco mas rico viernes abril entramos lugar conocer parte veia tenia aire acondicionado lugar bonito limpio general meseros tocaron trataron bien casi habia gente lugar mesas pedimos casuela asado puerco frijoles mole casuela chicharron verdad familia coincidimos delicioso dieron totopos salsita sabrosa general llevo buena experienciamás",
         "Restaurant"
        ],
        [
         "13297",
         "vale pena entorno entorno impresionante puerta justo teotihuacan gustó comida pensamos degustación gamey estupendo si quieres gamey restaurante centra autenticidad alimentos fiela estilo guacamole viene cortezas cerdo fritos lugar patatas fritas pedimos conejo encantó pedí plato cerdo pensamos decente tercera ordenados carnero aka liam decidimos carnero estilo limonadas fantásticas especialmente después larga soleada mañana teotihuacan general experiencia bonita recomendablemás",
         "Restaurant"
        ],
        [
         "4155",
         "unas vistas impresionantes preciosa ubicación hicimos excursión guiada luego explorado cuenta excursión ayudó entender sitio mayas recomendaría mundo familiarizados historia usar guía impresionante",
         "Attractive"
        ],
        [
         "116006",
         "cuarta estancia casa quetzal ambiente agradable entorno tranquilo seguro bonito jardín piscina desayuno incluido opciones si desea buen servicio suficientemente lejos ciudad suficientemente cerca ir andando valladolid veces alojamos hotel pequeño veces vamos ir allí nuevo próxima vez",
         "Hotel"
        ],
        [
         "52811",
         "mejor lugar isla mujeres lugar maravilloso ambiente relajante comida bebidas deliciosa extraordinaria atención equipo trabajo siempre atento divertidos educados esperamos regresar pronto",
         "Restaurant"
        ],
        [
         "84625",
         "ideal visitar fin semana largo hospedamos cabaña experiencia realmente buena dos habitaciones dos camas matrimoniales comedor cocina sofá baño completo acogedoras limpias ideales ir familia descansar restaurante servicio buffet fines semana dias festivos rico buen precio atención personal excelente recepción restaurante hotel bien ubicado relativamente cerca centro zacatlán excelente opción ir fin semana familia visitar cascadas tuliman valle piedras encimadas",
         "Hotel"
        ],
        [
         "41711",
         "pintoresco calles empedradas exclusivas peatones mercado artesanías comercios locales pueden encontrar quesos diferentes tipos artesanías etc plaza iglesia mercado local",
         "Attractive"
        ],
        [
         "83094",
         "encanta mejores bloody marys mundo bar man daniel majisimo guacamole gourmet mejor personal atento",
         "Restaurant"
        ],
        [
         "192818",
         "sueño budista increíble santuario verdad palabras describir experiencia",
         "Hotel"
        ],
        [
         "56707",
         "comida adorable buen precio visitamos restaurante mesón marques después leer recomendaciones agradable cena personal amable entorno agradable buena comida precio estupendo x plato principal postre x x x cerveza bebidas aperitivos pruébalomás",
         "Restaurant"
        ],
        [
         "37915",
         "cerca jardín pequeño gran hotel habitaciones amplias camas enormes limpio trato exquisito personal agradecidas caras sonrientes desayuno continental cumple piscina limpia apetecible encuentra poca distancia mts jardín inglés lugar recomendable pasar días relax to the max",
         "Hotel"
        ],
        [
         "37157",
         "fuerte pequeño bonito entrada pesos si mal recuerdo si local entrada domingos gratis entrada mural tomarte foto piratas aun alto banco poderte asomar recorrerlo tomarte fotos dentro fuerte",
         "Attractive"
        ],
        [
         "204433",
         "increible increible cenote agua super cristalina temperatura ideal nadar cenote subterraneo ceverna hueco entra reflejo sol estupendo ademas comercial hace mas barata entrada mucha menos gente ik kil",
         "Attractive"
        ],
        [
         "9996",
         "mejor temporada sólo visitada almuerzo tarde temporada advertir visitantes mejor temporada crítica mencionado montón construcción evidentemente culpa restaurante principios servicioal cliente permitiría menos clientes podría ser mejor rechazar servicio acercó restaurante camarero preguntó si queríamos bebidas través gestos plazas afuera dijeron preguntamos si podíamos sentarnos dentro dijo asientos interior huéspedes comiendo sólo vez explicó allí comer acogedores pedimos sopa pescado encantó camarones importó ajo comer da marido pollo mole marido gustó dieron cortesía patatas fritas dos salsas rojo verde green ensaladas tortillas pan mantequilla chocolate flan bonito marido pedimos margarita granada pedí cocacola vez terminado cocacola nadie ofreció preguntar si quería bebida comida dólares propina general aún así recomendaría bebidas aún fantásticos favorita ensalada verde orgánica sopa pescado sólo lugar mejor temporada altamás",
         "Restaurant"
        ],
        [
         "165253",
         "comida excelente lugar pasarla bien atención destacar alimentos bien tragos x mejor",
         "Restaurant"
        ],
        [
         "73232",
         "visita cortita alquilamos auto mejor opcion conocer quedarnos despues playa solo puede ver acceso playa años atras entrada ofrecen parque conozco suena puro negocio barato",
         "Attractive"
        ],
        [
         "99103",
         "buena comida local vimos cocinar cena cervezas frías menú divertido leer comida buena servicio bueno olía humo ah bueno aún lugar regresar",
         "Restaurant"
        ],
        [
         "67982",
         "atención familia semana pasada dan atención excelente especial recepcionista paola mil felicitaciones pendiente familia orden buen desayuno general lugar agradable",
         "Hotel"
        ],
        [
         "171424",
         "aniversario amplia variedad mixología comida deliciosa especial curry servicio atención excelente",
         "Restaurant"
        ],
        [
         "61194",
         "céntricamente ubicado bien equipadas llegamos mision grand tras agotador viaje horas palenque alivio poder pararte cama cómoda después tomar ducha necesario luego salir noche ciudad calle paralela hotel vehículos domésticos peatones disfrutar escena nocturna restaurantes bar tiendas orientado turismo cuadra hotel plaza central ciudad convierte agradable paseo comimos restaurante hotel muchas alternativas tentadoras área inmediata paredes adornadas telas enmarcadas ejemplos locales calidad museo lugar relajante gratificante alojarse",
         "Hotel"
        ],
        [
         "55736",
         "ir museo lección historia gran encontrar acerca orígenes loreto especialmente interesado tener sido educadas jesuitas",
         "Attractive"
        ],
        [
         "188112",
         "bien conservada si linda dentro impresiona catedral hermosa llama atención hermoso color mas lindo dentro catedral súper recargada dejen visitarla vale pena",
         "Attractive"
        ],
        [
         "69693",
         "ruinas bien conservadas visita tulum debemos decir ruinas bien conservadas deben preveer cosas siguiente entrada paga pesos aceptan monedas tampoco tarjetas crédito aparte cerca atm retirar dinero si llegas allí pesos caso queda mas remedio pagar servicio guía cobran entrada mas servicio guía alberto atiende bien conoce historia ciudad aunque creo sucede inventan cosas mejor documentarse visitar ruinas si dejas llevar guías dan mateo decimos venezuela excursión dura mas minutos deben ustedes pedir exigir guía lleve todas zonas explique así molesten paga hablando ruinas si bien conservadas cuidadas lugar tranquilo respira mucha tranquilidad lleven agua calor intenso venden adentro parece genial existan vendedores molestando sitio visitar entrada estacionamiento ruinas sólo mts pueden hacer caminando trencito lleva último costo",
         "Attractive"
        ],
        [
         "130235",
         "fabuloso creo montón restaurantes isla embargo mango café taxi si bicicleta si situado cerca principal terminal ferry mejor favorito servicio maravilla tacosde pescado morirse hibiscus bebida ron refrescante hace tiempo allí recuerdo si ron hibiscos delicioso además barrio adorable pasear vistas lado isla impresionantesmás",
         "Restaurant"
        ],
        [
         "21796",
         "excelente ambiente buena rápida atención parte luis carlos alimentos ricos buena música excelente ambiente",
         "Restaurant"
        ],
        [
         "35986",
         "lindo buenísimo pasar refrescarte rato paso tomar fotos hermosas agua cristalina formaciones rocosas colores bellos hermoso lugar",
         "Attractive"
        ],
        [
         "109640",
         "buen hotel hotel encuentra selva bonito instalaciones bastante buenas cuartos grandes limpio buen aire acondicionado piscina grande restaurante bufete desayunar grande buenas opciones gran variedad",
         "Hotel"
        ],
        [
         "132408",
         "lugar ensueño visto mil comentarios decidí publicar meses después lugar sido maravilloso aquí propuse matrimonio novia excelente alimentos servicio puedo decir lugar volvería duda gracias rolando haberme apoyado saliera maravilloso",
         "Hotel"
        ],
        [
         "149152",
         "servicio pobre pedí sandwich vegetal patatas fritas dieron pollo después esperar casi minutos recibí adecuado novio terminado comida camarero olvidado patatas fritas trajo claramente estabansobras cocina correosos camarero pidieron disculpas vez buena experienciamás",
         "Restaurant"
        ],
        [
         "126487",
         "guau cenote único ahora así puedo comparar increíble agua fría refrescante pequeños peces nadar usted cueva murciélagos espeluznante forma divertida guía así sé cuesta dijo traiga gafas monederos becausec abajo robaron",
         "Attractive"
        ],
        [
         "155127",
         "estupendo sitio moda comer así darle oportunidad contentos haber hecho concurrida última noche así problema esperar poner nombre lista marco temporal caminar par puertas tomar unacopa bar comida buena aperitivos increíble servicio rápido agradable hacen súper buenas margaritas servicio inglés español necesitábamos merece pena cenar allí montón opciones menú inglés españolmás",
         "Restaurant"
        ],
        [
         "67054",
         "puedes perder mangoes desayuno almuerzo éxito menú ir pequeño así ten paciencia vale pena espera pintoresco off the beaten path montón gente pierda oportunidadde irmás",
         "Restaurant"
        ],
        [
         "188359",
         "buena comida precio justo comida deliciosa muchas opciones menú precios justos calidad asientos aire libre agradable única cosa molestó servidor dirijo pequeña niña pareció irrespetuoso mujer claramente adulto",
         "Restaurant"
        ],
        [
         "184043",
         "pesadilla tipo tardó hora registrarme confundido seguía haciendo llamadas telefónicas seguí diciendo hotel noche siguió abriendo expedia medianoche después horas viaje ugh entonces habitación sucia colchones sucios",
         "Hotel"
        ],
        [
         "89075",
         "lunes visita incluso si lunes visita indispensable df lleno millones personas visitan dan idea importanciaalquilamos taxi privado pesos hora alrededor horas aproximadamente hora minutos dan precio pesostambién alquilamos guía bilingüe pesos pasar horas buenohay montón tiendas venta ten cuenta silver montón imitacionesen general buen viaje conductor privado usted necesita esperar nadie",
         "Attractive"
        ],
        [
         "6024",
         "ciudad real san cristóbal casas bonito hotel excelente ubicación habitación amplia linda decoración único gustó restaurante desayuno incluído tours iniciaban temprano desayuno listo dijeron am día noche pensábamos cenar ahí nadie atendía comensales viendo partido futbol terminar nadie acercó invitarnos sentar esperar mientras decidimos cenar lugar",
         "Hotel"
        ],
        [
         "44922",
         "serviciales honestos lugar bastante agradable limpio cuestión económica bastante accesible comparación demás hoteles decir servicio particular olvidamos dos cosas personales hicieron llegar amablemente hace muchas gracias recomendable saludos familia quintero castellanos",
         "Hotel"
        ],
        [
         "123655",
         "jugo fresco ceviche favoritos ceviche tacos pescado parrilla guacamole acompañado frescas jugo hecho agua champán servicio bueno hablan inglés tome visa amables precios razonables comida esconsistentemente bueno condimentos ir tacos frescas mantienen recipientes limpios siempre ocupado veces esperar mesa minutos abierto sólo almuerzomás",
         "Restaurant"
        ],
        [
         "51659",
         "agradable si gusta historia novia visitamos tulum viaje cancún combinado xel si haciendo combinación tan bien cuidado dan tiempo tulum si toma tiempo entrar parque tiempo limitado además recomendaría salir guía turístico tan pronto llegue ruinas llevó tiempo hablar hechos podríamos haber leído pantallas ruinas sólo minutos explorar tiendas frescas entrada incluye fotografías león bebé monos parte divertido hacer toman generosa cantidad fotografías celular dólares león dólares bien empleado prepárate sol calor campo abierto grumos sudor ruinas guay ver gustado tener tiempo",
         "Attractive"
        ],
        [
         "46737",
         "visita lugar mágico increíble lugar disfrute clima soleado pase maravilla",
         "Attractive"
        ],
        [
         "19286",
         "tan impresionante anunció guía viaje situado casas buen restaurado mayoría ruinas yucatán",
         "Attractive"
        ],
        [
         "127100",
         "mejor comida lugar destruido cada plato nachos vida tacos sencillez clavo decoración puedes sentar impidió comida calle comer asientode plástico impresionante menú completamente confuso carne cerdo así sugiero orden nachos guacamole viene chips carne maíz queseda taco queso taco queso harina dos coronas auténtica fiesta precio buenomás",
         "Restaurant"
        ],
        [
         "189779",
         "comida fantásticos nuevo regreso isla queríamos volver olivias contentos haberlo hecho excelente cena aperitivos variados griegos cerezo helados caseros terminar especialmente bueno servicio excelente ambiente asegúrate hacer reservas así queestán vuelta jardín hacen cena maravillosamás",
         "Restaurant"
        ],
        [
         "137945",
         "visita cenote zaci cenote ubicado cuadras centro bastante económico natural restaurante peces dan terapia limpian piernas cosquillas incluidasja ja ja verdad bien sales relajado restaurantes muymás",
         "Restaurant"
        ]
       ],
       "shape": {
        "columns": 2,
        "rows": 166440
       }
      },
      "text/html": [
       "<div>\n",
       "<style scoped>\n",
       "    .dataframe tbody tr th:only-of-type {\n",
       "        vertical-align: middle;\n",
       "    }\n",
       "\n",
       "    .dataframe tbody tr th {\n",
       "        vertical-align: top;\n",
       "    }\n",
       "\n",
       "    .dataframe thead th {\n",
       "        text-align: right;\n",
       "    }\n",
       "</style>\n",
       "<table border=\"1\" class=\"dataframe\">\n",
       "  <thead>\n",
       "    <tr style=\"text-align: right;\">\n",
       "      <th></th>\n",
       "      <th>Texto_Limpio</th>\n",
       "      <th>Type</th>\n",
       "    </tr>\n",
       "  </thead>\n",
       "  <tbody>\n",
       "    <tr>\n",
       "      <th>52557</th>\n",
       "      <td>tan maravilloso juego disneyland llegar azulik...</td>\n",
       "      <td>Hotel</td>\n",
       "    </tr>\n",
       "    <tr>\n",
       "      <th>706</th>\n",
       "      <td>visitar isla janitzio maravilloso ir descubrir...</td>\n",
       "      <td>Attractive</td>\n",
       "    </tr>\n",
       "    <tr>\n",
       "      <th>75004</th>\n",
       "      <td>desayuno estupendo fruta tortitas huevos ofrec...</td>\n",
       "      <td>Restaurant</td>\n",
       "    </tr>\n",
       "    <tr>\n",
       "      <th>6629</th>\n",
       "      <td>excelente cada vez visita obligada cada vez va...</td>\n",
       "      <td>Restaurant</td>\n",
       "    </tr>\n",
       "    <tr>\n",
       "      <th>200700</th>\n",
       "      <td>hotel agradable excelente ubicación desayuno g...</td>\n",
       "      <td>Hotel</td>\n",
       "    </tr>\n",
       "    <tr>\n",
       "      <th>...</th>\n",
       "      <td>...</td>\n",
       "      <td>...</td>\n",
       "    </tr>\n",
       "    <tr>\n",
       "      <th>77286</th>\n",
       "      <td>totalmente perdido disfrutamos así dirigimos c...</td>\n",
       "      <td>Restaurant</td>\n",
       "    </tr>\n",
       "    <tr>\n",
       "      <th>50959</th>\n",
       "      <td>normal ser número tripadvisor esperamos cosa m...</td>\n",
       "      <td>Restaurant</td>\n",
       "    </tr>\n",
       "    <tr>\n",
       "      <th>7066</th>\n",
       "      <td>mejor mexicana cenote simplemente increíble he...</td>\n",
       "      <td>Attractive</td>\n",
       "    </tr>\n",
       "    <tr>\n",
       "      <th>145830</th>\n",
       "      <td>sueños realidad resort incluido simplemente in...</td>\n",
       "      <td>Hotel</td>\n",
       "    </tr>\n",
       "    <tr>\n",
       "      <th>25125</th>\n",
       "      <td>servicio fantástico comida bebidas fantásticas...</td>\n",
       "      <td>Restaurant</td>\n",
       "    </tr>\n",
       "  </tbody>\n",
       "</table>\n",
       "<p>166440 rows × 2 columns</p>\n",
       "</div>"
      ],
      "text/plain": [
       "                                             Texto_Limpio        Type\n",
       "52557   tan maravilloso juego disneyland llegar azulik...       Hotel\n",
       "706     visitar isla janitzio maravilloso ir descubrir...  Attractive\n",
       "75004   desayuno estupendo fruta tortitas huevos ofrec...  Restaurant\n",
       "6629    excelente cada vez visita obligada cada vez va...  Restaurant\n",
       "200700  hotel agradable excelente ubicación desayuno g...       Hotel\n",
       "...                                                   ...         ...\n",
       "77286   totalmente perdido disfrutamos así dirigimos c...  Restaurant\n",
       "50959   normal ser número tripadvisor esperamos cosa m...  Restaurant\n",
       "7066    mejor mexicana cenote simplemente increíble he...  Attractive\n",
       "145830  sueños realidad resort incluido simplemente in...       Hotel\n",
       "25125   servicio fantástico comida bebidas fantásticas...  Restaurant\n",
       "\n",
       "[166440 rows x 2 columns]"
      ]
     },
     "execution_count": 41,
     "metadata": {},
     "output_type": "execute_result"
    }
   ],
   "source": [
    "df1 = pd.concat([X1_train, y1_train], axis=1)\n",
    "df2 = pd.concat([X2_train, y2_train], axis=1)\n",
    "df3 = pd.concat([X3_train, y3_train], axis=1)\n",
    "df3"
   ]
  },
  {
   "cell_type": "code",
   "execution_count": null,
   "metadata": {},
   "outputs": [],
   "source": [
    "# Vectorizer TFIDF\n",
    "arg.tfidf_max_features = 2500\n",
    "arg.tfidf_ngram_range = (1, 2)\n",
    "arg.token_pattern=r'(?u)\\b[^\\d\\W]+\\b'\n",
    "\n",
    "tfidf_vectorizer = TfidfVectorizer(max_features=arg.tfidf_max_features, \n",
    "                                   ngram_range=arg.tfidf_ngram_range, \n",
    "                                   token_pattern=arg.token_pattern)\n"
   ]
  },
  {
   "cell_type": "markdown",
   "metadata": {},
   "source": [
    "### Cargamos en un Dataset"
   ]
  },
  {
   "cell_type": "code",
   "execution_count": 43,
   "metadata": {},
   "outputs": [],
   "source": [
    "class restaurantDataset(Dataset):\n",
    "    def __init__(self, data : pd.DataFrame, vectorizer, label_encoder,\n",
    "                 y : str, standardize = False):\n",
    "        \"\"\"\n",
    "        Initializes the restaurantDataset class.\n",
    "\n",
    "        Args:\n",
    "            data (pd.DataFrame): The input dataframe containing the text and labels.\n",
    "            vectorizer (TfidfVectorizer): The TF-IDF vectorizer to transform text data.\n",
    "            label_encoder (LabelEncoder): The label encoder to transform labels into numerical format.\n",
    "            y (str): The column name in the dataframe representing the target labels.\n",
    "            use_pca (bool, optional): Whether to apply PCA for dimensionality reduction. Default is False.\n",
    "            pca (PCA, optional): The PCA object to use for dimensionality reduction. Required if use_pca is True.\n",
    "            n_components (int, optional): The number of principal components to retain if PCA is applied. Default is 3.\n",
    "\n",
    "        Attributes:\n",
    "            data (pd.DataFrame): The input dataframe.\n",
    "            n_samples (int): The number of samples in the dataset.\n",
    "            X (torch.Tensor): The transformed feature matrix (TF-IDF or PCA-reduced).\n",
    "            y (torch.Tensor): The transformed target labels.\n",
    "            fitted_pca (PCA or None): The fitted PCA object if PCA is applied, otherwise None.\n",
    "\n",
    "        Returns:\n",
    "            None\n",
    "        \"\"\"\n",
    "        self.data = data\n",
    "        self.n_samples = len(data)\n",
    "        \n",
    "        # Transform text to TF-IDF vectors\n",
    "        tfidf_matrix = vectorizer.transform(data[config.NEW_COLUMN])\n",
    "        self.X = torch.tensor(tfidf_matrix.toarray(), dtype=torch.float32)\n",
    "\n",
    "        if standardize:\n",
    "            scaler = StandardScaler()\n",
    "            self.X_np = self.X.numpy()\n",
    "            self.X = torch.tensor(scaler.fit_transform(self.X_np), dtype=torch.float32)\n",
    "        \n",
    "        # Transform labels to numbers\n",
    "        self.y = torch.tensor(label_encoder.fit_transform(data[y]),\n",
    "                              dtype=torch.long)\n",
    "\n",
    "    def __len__(self):\n",
    "        return self.n_samples\n",
    "\n",
    "    def __getitem__(self, idx):\n",
    "        return self.X[idx], self.y[idx]"
   ]
  },
  {
   "cell_type": "code",
   "execution_count": 46,
   "metadata": {},
   "outputs": [],
   "source": [
    "arg.standardize = True\n",
    "arg.y = \"Type\"\n",
    "\n",
    "tfidf_vectorizer.fit(df3[config.NEW_COLUMN])\n",
    "\n",
    "dataset = restaurantDataset(df3, tfidf_vectorizer, LabelEncoder(), arg.y,\n",
    "                            arg.standardize)"
   ]
  },
  {
   "cell_type": "markdown",
   "metadata": {},
   "source": [
    "### DataLoader"
   ]
  },
  {
   "cell_type": "code",
   "execution_count": 49,
   "metadata": {},
   "outputs": [
    {
     "name": "stdout",
     "output_type": "stream",
     "text": [
      "Longitud del train set 133152\n",
      "Longitud del test set 33288\n",
      "Shape of X [N, C]: torch.Size([128, 2500]) torch.float32\n",
      "Shape of y: torch.Size([128]) torch.int64\n"
     ]
    }
   ],
   "source": [
    "# Separamos en conjuntos de entrenamiento y de prueba.\n",
    "arg.random_state = 42\n",
    "X_train, X_test, y_train, y_test = train_test_split(dataset.X, dataset.y, \n",
    "                                                    test_size=0.2, \n",
    "                                                    random_state=arg.random_state,\n",
    "                                                    stratify=dataset.y)\n",
    "\n",
    "train_data = torch.utils.data.TensorDataset(X_train, y_train)\n",
    "test_data = torch.utils.data.TensorDataset(X_test, y_test)\n",
    "\n",
    "print(\"Longitud del train set\", len(train_data))\n",
    "print(\"Longitud del test set\", len(test_data))\n",
    "\n",
    "# Dataloaders\n",
    "arg.batch_size = 128\n",
    "train_dataloader = DataLoader(train_data, batch_size=arg.batch_size)\n",
    "test_dataloader = DataLoader(test_data, batch_size=arg.batch_size)\n",
    "\n",
    "for i, (X, y) in enumerate(test_dataloader):\n",
    "    print(f\"Shape of X [N, C]: {X.shape} {X.dtype}\")\n",
    "    print(f\"Shape of y: {y.shape} {y.dtype}\")\n",
    "    break"
   ]
  },
  {
   "cell_type": "markdown",
   "metadata": {},
   "source": [
    "### Primer modelo - Red Neuronal"
   ]
  },
  {
   "cell_type": "code",
   "execution_count": 51,
   "metadata": {},
   "outputs": [
    {
     "name": "stdout",
     "output_type": "stream",
     "text": [
      "Using cuda device\n",
      "TfidfClassifier(\n",
      "  (fc1): Linear(in_features=2500, out_features=512, bias=True)\n",
      "  (dropout1): Dropout(p=0.2, inplace=False)\n",
      "  (fc2): Linear(in_features=512, out_features=128, bias=True)\n",
      "  (dropout2): Dropout(p=0.2, inplace=False)\n",
      "  (fc3): Linear(in_features=128, out_features=3, bias=True)\n",
      ")\n"
     ]
    }
   ],
   "source": [
    "device = torch.accelerator.current_accelerator().type if torch.accelerator.is_available() else \"cpu\"\n",
    "print(f\"Using {device} device\")\n",
    "\n",
    "class TfidfClassifier(nn.Module):\n",
    "    def __init__(self, input_size, output_size=3, dropout=0.3):\n",
    "        super(TfidfClassifier, self).__init__()\n",
    "        self.fc1 = nn.Linear(input_size, 512)\n",
    "        self.dropout1 = nn.Dropout(dropout)\n",
    "        self.fc2 = nn.Linear(512, 128)\n",
    "        self.dropout2 = nn.Dropout(dropout)\n",
    "        self.fc3 = nn.Linear(128, output_size)\n",
    "\n",
    "    def forward(self, x):\n",
    "        x = F.relu(self.fc1(x))\n",
    "        x = self.dropout1(x)\n",
    "        x = F.relu(self.fc2(x))\n",
    "        x = self.dropout2(x)\n",
    "        logits = self.fc3(x)\n",
    "        return logits\n",
    "\n",
    "    \n",
    "arg.dropout = 0.2\n",
    "arg.lr = 0.01\n",
    "model = TfidfClassifier(input_size=2500, dropout=arg.dropout).to(device)\n",
    "print(model)\n",
    "criterion = nn.CrossEntropyLoss()\n",
    "optimizer = torch.optim.Adam(model.parameters(), lr=arg.lr)"
   ]
  },
  {
   "cell_type": "code",
   "execution_count": 66,
   "metadata": {},
   "outputs": [],
   "source": [
    "def train(dataloader, model, loss_fn, optimizer):\n",
    "    \"\"\"\n",
    "    Entrena el modelo con los datos del dataloader y actualiza los pesos del modelo.\n",
    "    \n",
    "    Inputs:\n",
    "    - dataloader: DataLoader con los datos de entrenamiento.\n",
    "    - model: Modelo a entrenar.\n",
    "    - loss_fn: Función de pérdida.\n",
    "    - optimizer: Optimizador.\n",
    "    \"\"\"\n",
    "    size = len(dataloader.dataset)\n",
    "    model.train()\n",
    "    for batch, (X, y) in enumerate(dataloader):\n",
    "        X, y = X.to(device), y.to(device)\n",
    "\n",
    "        # Compute prediction error\n",
    "        pred = model(X)\n",
    "        loss = loss_fn(pred, y)\n",
    "\n",
    "        # Backpropagation\n",
    "        loss.backward()\n",
    "        optimizer.step()\n",
    "        optimizer.zero_grad()\n",
    "\n",
    "        if batch % 100 == 0:\n",
    "            loss, current = loss.item(), (batch + 1) * len(X)\n",
    "            print(f\"loss: {loss:>7f}  [{current:>5d}/{size:>5d}]\")"
   ]
  },
  {
   "cell_type": "code",
   "execution_count": 59,
   "metadata": {},
   "outputs": [],
   "source": [
    "def test(dataloader, model, loss_fn):\n",
    "    size = len(dataloader.dataset)\n",
    "    num_batches = len(dataloader)\n",
    "    model.eval()\n",
    "    test_loss, correct = 0, 0\n",
    "    with torch.no_grad():\n",
    "        for X, y in dataloader:\n",
    "            X, y = X.to(device), y.to(device)\n",
    "            pred = model(X)\n",
    "            test_loss += loss_fn(pred, y).item()\n",
    "            correct += (pred.argmax(1) == y).type(torch.float).sum().item()\n",
    "    test_loss /= num_batches\n",
    "    correct /= size\n",
    "    print(f\"Test Error: \\n Accuracy: {(100*correct):>0.1f}%, Avg loss: {test_loss:>8f} \\n\")\n",
    "    return 100*correct"
   ]
  },
  {
   "cell_type": "code",
   "execution_count": 60,
   "metadata": {},
   "outputs": [],
   "source": [
    "def save_checkpoint(state, is_best, checkpoint_path, filename=\"checkpoint.pth\",\n",
    "                    best_filename=\"model_best.pth\"):\n",
    "    \"\"\"\n",
    "    Save the model checkpoint to the specified path.\n",
    "\n",
    "    Args:\n",
    "        state (dict): The state of the model to save, typically includes model weights and optimizer state.\n",
    "        is_best (bool): If True, saves a copy of the checkpoint as \"model_best.pth\".\n",
    "        checkpoint_path (str): The directory where the checkpoint will be saved.\n",
    "        filename (str): The name of the checkpoint file. Default is \"checkpoint.pth\".\n",
    "\n",
    "    Returns:\n",
    "        None\n",
    "    \"\"\"\n",
    "    filepath = os.path.join(checkpoint_path, filename)\n",
    "    torch.save(state, filepath)\n",
    "    if is_best:\n",
    "        shutil.copyfile(filepath, os.path.join(checkpoint_path, best_filename))"
   ]
  },
  {
   "cell_type": "code",
   "execution_count": 61,
   "metadata": {},
   "outputs": [
    {
     "name": "stderr",
     "output_type": "stream",
     "text": [
      "c:\\Users\\Gus\\miniconda3\\envs\\pytorch_env\\Lib\\site-packages\\torch\\optim\\lr_scheduler.py:62: UserWarning: The verbose parameter is deprecated. Please use get_last_lr() to access the learning rate.\n",
      "  warnings.warn(\n"
     ]
    }
   ],
   "source": [
    "# Training hyperparameters\n",
    "arg.lr = 1e-2\n",
    "arg.epochs = 100\n",
    "arg.patience = 20\n",
    "\n",
    "# Scheduler hyperparameters\n",
    "arg.lr_patience = 10\n",
    "arg.lr_factor = 0.5 # Se reduce el learning rate a la mitad cada 10 epochs\n",
    "# sin mejorar el desempeño\n",
    "\n",
    "# Saving directory\n",
    "arg.savedir = \"../model\"\n",
    "os.makedirs(arg.savedir, exist_ok=True)\n",
    "\n",
    "# Scheduler\n",
    "scheduler = torch.optim.lr_scheduler.ReduceLROnPlateau(\n",
    "    optimizer, mode = \"max\",\n",
    "    patience=arg.lr_patience,\n",
    "    factor=arg.lr_factor,\n",
    "    verbose=True\n",
    ")"
   ]
  },
  {
   "cell_type": "code",
   "execution_count": 68,
   "metadata": {},
   "outputs": [
    {
     "name": "stdout",
     "output_type": "stream",
     "text": [
      "Epoch 1\n",
      "-------------------------------\n",
      "loss: 0.030594  [  128/133152]\n",
      "loss: 0.037685  [12928/133152]\n",
      "loss: 0.027160  [25728/133152]\n",
      "loss: 0.036106  [38528/133152]\n",
      "loss: 0.040523  [51328/133152]\n",
      "loss: 0.047097  [64128/133152]\n",
      "loss: 0.029925  [76928/133152]\n",
      "loss: 0.007163  [89728/133152]\n",
      "loss: 0.026031  [102528/133152]\n",
      "loss: 0.035927  [115328/133152]\n",
      "loss: 0.057431  [128128/133152]\n",
      "Test Error: \n",
      " Accuracy: 94.0%, Avg loss: 1.883911 \n",
      "\n",
      "Epoch 2\n",
      "-------------------------------\n",
      "loss: 0.030018  [  128/133152]\n",
      "loss: 0.045759  [12928/133152]\n",
      "loss: 0.017602  [25728/133152]\n",
      "loss: 0.021486  [38528/133152]\n",
      "loss: 0.042737  [51328/133152]\n",
      "loss: 0.031869  [64128/133152]\n",
      "loss: 0.022605  [76928/133152]\n",
      "loss: 0.012631  [89728/133152]\n",
      "loss: 0.045446  [102528/133152]\n",
      "loss: 0.027482  [115328/133152]\n",
      "loss: 0.059909  [128128/133152]\n",
      "Test Error: \n",
      " Accuracy: 94.0%, Avg loss: 1.885980 \n",
      "\n",
      "Epoch 3\n",
      "-------------------------------\n",
      "loss: 0.054841  [  128/133152]\n",
      "loss: 0.041730  [12928/133152]\n",
      "loss: 0.018886  [25728/133152]\n",
      "loss: 0.041036  [38528/133152]\n",
      "loss: 0.045317  [51328/133152]\n",
      "loss: 0.029305  [64128/133152]\n",
      "loss: 0.027659  [76928/133152]\n",
      "loss: 0.011368  [89728/133152]\n",
      "loss: 0.043092  [102528/133152]\n",
      "loss: 0.024856  [115328/133152]\n",
      "loss: 0.053322  [128128/133152]\n",
      "Test Error: \n",
      " Accuracy: 94.0%, Avg loss: 1.889247 \n",
      "\n",
      "Epoch 4\n",
      "-------------------------------\n",
      "loss: 0.035473  [  128/133152]\n",
      "loss: 0.039252  [12928/133152]\n",
      "loss: 0.018450  [25728/133152]\n",
      "loss: 0.036820  [38528/133152]\n",
      "loss: 0.064335  [51328/133152]\n",
      "loss: 0.043948  [64128/133152]\n",
      "loss: 0.032218  [76928/133152]\n",
      "loss: 0.022154  [89728/133152]\n",
      "loss: 0.028804  [102528/133152]\n",
      "loss: 0.018797  [115328/133152]\n",
      "loss: 0.071636  [128128/133152]\n",
      "Test Error: \n",
      " Accuracy: 94.0%, Avg loss: 1.889881 \n",
      "\n",
      "Epoch 5\n",
      "-------------------------------\n",
      "loss: 0.105631  [  128/133152]\n",
      "loss: 0.063227  [12928/133152]\n",
      "loss: 0.020739  [25728/133152]\n",
      "loss: 0.012932  [38528/133152]\n",
      "loss: 0.040612  [51328/133152]\n",
      "loss: 0.032209  [64128/133152]\n",
      "loss: 0.026940  [76928/133152]\n",
      "loss: 0.009473  [89728/133152]\n",
      "loss: 0.025294  [102528/133152]\n",
      "loss: 0.022075  [115328/133152]\n",
      "loss: 0.057643  [128128/133152]\n",
      "Test Error: \n",
      " Accuracy: 94.0%, Avg loss: 1.889079 \n",
      "\n",
      "Epoch 6\n",
      "-------------------------------\n",
      "loss: 0.039143  [  128/133152]\n",
      "loss: 0.037683  [12928/133152]\n",
      "loss: 0.026564  [25728/133152]\n",
      "loss: 0.019158  [38528/133152]\n",
      "loss: 0.044325  [51328/133152]\n",
      "loss: 0.037047  [64128/133152]\n",
      "loss: 0.034132  [76928/133152]\n",
      "loss: 0.010912  [89728/133152]\n",
      "loss: 0.039795  [102528/133152]\n",
      "loss: 0.026775  [115328/133152]\n",
      "loss: 0.094511  [128128/133152]\n",
      "Test Error: \n",
      " Accuracy: 94.0%, Avg loss: 1.888789 \n",
      "\n",
      "Epoch 7\n",
      "-------------------------------\n",
      "loss: 0.042280  [  128/133152]\n",
      "loss: 0.052771  [12928/133152]\n",
      "loss: 0.025874  [25728/133152]\n",
      "loss: 0.017868  [38528/133152]\n",
      "loss: 0.035880  [51328/133152]\n",
      "loss: 0.035115  [64128/133152]\n",
      "loss: 0.063535  [76928/133152]\n",
      "loss: 0.012656  [89728/133152]\n",
      "loss: 0.031988  [102528/133152]\n",
      "loss: 0.029562  [115328/133152]\n",
      "loss: 0.070040  [128128/133152]\n",
      "Test Error: \n",
      " Accuracy: 94.0%, Avg loss: 1.886236 \n",
      "\n",
      "Epoch 8\n",
      "-------------------------------\n",
      "loss: 0.030909  [  128/133152]\n",
      "loss: 0.039063  [12928/133152]\n",
      "loss: 0.025349  [25728/133152]\n",
      "loss: 0.027326  [38528/133152]\n",
      "loss: 0.046399  [51328/133152]\n",
      "loss: 0.048200  [64128/133152]\n",
      "loss: 0.021733  [76928/133152]\n",
      "loss: 0.009871  [89728/133152]\n",
      "loss: 0.035619  [102528/133152]\n",
      "loss: 0.038101  [115328/133152]\n",
      "loss: 0.045135  [128128/133152]\n",
      "Test Error: \n",
      " Accuracy: 94.0%, Avg loss: 1.885553 \n",
      "\n",
      "Epoch 9\n",
      "-------------------------------\n",
      "loss: 0.052389  [  128/133152]\n",
      "loss: 0.052945  [12928/133152]\n",
      "loss: 0.021174  [25728/133152]\n",
      "loss: 0.029924  [38528/133152]\n",
      "loss: 0.043730  [51328/133152]\n",
      "loss: 0.059424  [64128/133152]\n",
      "loss: 0.036343  [76928/133152]\n",
      "loss: 0.007360  [89728/133152]\n",
      "loss: 0.025482  [102528/133152]\n",
      "loss: 0.057945  [115328/133152]\n",
      "loss: 0.049314  [128128/133152]\n",
      "Test Error: \n",
      " Accuracy: 94.0%, Avg loss: 1.885308 \n",
      "\n",
      "Epoch 10\n",
      "-------------------------------\n",
      "loss: 0.036218  [  128/133152]\n",
      "loss: 0.039913  [12928/133152]\n",
      "loss: 0.022007  [25728/133152]\n",
      "loss: 0.031479  [38528/133152]\n",
      "loss: 0.038820  [51328/133152]\n",
      "loss: 0.037813  [64128/133152]\n",
      "loss: 0.025725  [76928/133152]\n",
      "loss: 0.009547  [89728/133152]\n",
      "loss: 0.026372  [102528/133152]\n",
      "loss: 0.026909  [115328/133152]\n",
      "loss: 0.107329  [128128/133152]\n",
      "Test Error: \n",
      " Accuracy: 94.0%, Avg loss: 1.882553 \n",
      "\n",
      "Epoch 11\n",
      "-------------------------------\n",
      "loss: 0.037267  [  128/133152]\n",
      "loss: 0.044266  [12928/133152]\n",
      "loss: 0.026156  [25728/133152]\n",
      "loss: 0.022346  [38528/133152]\n",
      "loss: 0.068108  [51328/133152]\n",
      "loss: 0.047491  [64128/133152]\n",
      "loss: 0.039850  [76928/133152]\n",
      "loss: 0.007143  [89728/133152]\n",
      "loss: 0.034520  [102528/133152]\n",
      "loss: 0.025692  [115328/133152]\n",
      "loss: 0.033362  [128128/133152]\n",
      "Test Error: \n",
      " Accuracy: 94.0%, Avg loss: 1.882590 \n",
      "\n",
      "Epoch 12\n",
      "-------------------------------\n",
      "loss: 0.071626  [  128/133152]\n",
      "loss: 0.050569  [12928/133152]\n",
      "loss: 0.022189  [25728/133152]\n",
      "loss: 0.023683  [38528/133152]\n",
      "loss: 0.146518  [51328/133152]\n",
      "loss: 0.049023  [64128/133152]\n",
      "loss: 0.034103  [76928/133152]\n",
      "loss: 0.007439  [89728/133152]\n",
      "loss: 0.030650  [102528/133152]\n",
      "loss: 0.026826  [115328/133152]\n",
      "loss: 0.038029  [128128/133152]\n",
      "Test Error: \n",
      " Accuracy: 94.0%, Avg loss: 1.882758 \n",
      "\n",
      "Epoch 13\n",
      "-------------------------------\n",
      "loss: 0.056785  [  128/133152]\n",
      "loss: 0.050225  [12928/133152]\n",
      "loss: 0.019877  [25728/133152]\n",
      "loss: 0.022719  [38528/133152]\n",
      "loss: 0.146564  [51328/133152]\n",
      "loss: 0.047228  [64128/133152]\n",
      "loss: 0.027013  [76928/133152]\n",
      "loss: 0.007340  [89728/133152]\n",
      "loss: 0.042238  [102528/133152]\n",
      "loss: 0.026492  [115328/133152]\n",
      "loss: 0.054170  [128128/133152]\n",
      "Test Error: \n",
      " Accuracy: 94.0%, Avg loss: 1.880871 \n",
      "\n",
      "Epoch 14\n",
      "-------------------------------\n",
      "loss: 0.036139  [  128/133152]\n",
      "loss: 0.060173  [12928/133152]\n",
      "loss: 0.022761  [25728/133152]\n",
      "loss: 0.034931  [38528/133152]\n",
      "loss: 0.043125  [51328/133152]\n",
      "loss: 0.028302  [64128/133152]\n",
      "loss: 0.043809  [76928/133152]\n",
      "loss: 0.007849  [89728/133152]\n",
      "loss: 0.091750  [102528/133152]\n",
      "loss: 0.026353  [115328/133152]\n",
      "loss: 0.044570  [128128/133152]\n",
      "Test Error: \n",
      " Accuracy: 94.0%, Avg loss: 1.879822 \n",
      "\n",
      "Epoch 15\n",
      "-------------------------------\n",
      "loss: 0.173105  [  128/133152]\n",
      "loss: 0.051171  [12928/133152]\n",
      "loss: 0.020835  [25728/133152]\n",
      "loss: 0.014857  [38528/133152]\n",
      "loss: 0.042076  [51328/133152]\n",
      "loss: 0.041568  [64128/133152]\n",
      "loss: 0.019260  [76928/133152]\n",
      "loss: 0.007150  [89728/133152]\n",
      "loss: 0.033234  [102528/133152]\n",
      "loss: 0.021611  [115328/133152]\n",
      "loss: 0.042474  [128128/133152]\n",
      "Test Error: \n",
      " Accuracy: 94.0%, Avg loss: 1.878996 \n",
      "\n",
      "Epoch 16\n",
      "-------------------------------\n",
      "loss: 0.035408  [  128/133152]\n",
      "loss: 0.041194  [12928/133152]\n",
      "loss: 0.033683  [25728/133152]\n",
      "loss: 0.025974  [38528/133152]\n",
      "loss: 0.042907  [51328/133152]\n",
      "loss: 0.033122  [64128/133152]\n",
      "loss: 0.024371  [76928/133152]\n",
      "loss: 0.013413  [89728/133152]\n",
      "loss: 0.033556  [102528/133152]\n",
      "loss: 0.032383  [115328/133152]\n",
      "loss: 0.060380  [128128/133152]\n",
      "Test Error: \n",
      " Accuracy: 94.0%, Avg loss: 1.878462 \n",
      "\n",
      "Epoch 17\n",
      "-------------------------------\n",
      "loss: 0.042037  [  128/133152]\n",
      "loss: 0.037183  [12928/133152]\n",
      "loss: 0.031968  [25728/133152]\n",
      "loss: 0.023644  [38528/133152]\n",
      "loss: 0.043381  [51328/133152]\n",
      "loss: 0.041862  [64128/133152]\n",
      "loss: 0.025843  [76928/133152]\n",
      "loss: 0.013643  [89728/133152]\n",
      "loss: 0.038221  [102528/133152]\n",
      "loss: 0.029313  [115328/133152]\n",
      "loss: 0.063102  [128128/133152]\n",
      "Test Error: \n",
      " Accuracy: 94.0%, Avg loss: 1.878803 \n",
      "\n",
      "Epoch 18\n",
      "-------------------------------\n",
      "loss: 0.087225  [  128/133152]\n",
      "loss: 0.039566  [12928/133152]\n",
      "loss: 0.016539  [25728/133152]\n",
      "loss: 0.017580  [38528/133152]\n",
      "loss: 0.046351  [51328/133152]\n",
      "loss: 0.042834  [64128/133152]\n",
      "loss: 0.027223  [76928/133152]\n",
      "loss: 0.008210  [89728/133152]\n",
      "loss: 0.036235  [102528/133152]\n",
      "loss: 0.019683  [115328/133152]\n",
      "loss: 0.057863  [128128/133152]\n",
      "Test Error: \n",
      " Accuracy: 94.0%, Avg loss: 1.878669 \n",
      "\n",
      "Epoch 19\n",
      "-------------------------------\n",
      "loss: 0.047636  [  128/133152]\n",
      "loss: 0.094262  [12928/133152]\n",
      "loss: 0.029073  [25728/133152]\n",
      "loss: 0.027953  [38528/133152]\n",
      "loss: 0.047428  [51328/133152]\n",
      "loss: 0.044796  [64128/133152]\n",
      "loss: 0.023677  [76928/133152]\n",
      "loss: 0.008060  [89728/133152]\n",
      "loss: 0.032473  [102528/133152]\n",
      "loss: 0.022052  [115328/133152]\n",
      "loss: 0.074987  [128128/133152]\n",
      "Test Error: \n",
      " Accuracy: 94.0%, Avg loss: 1.878587 \n",
      "\n",
      "Epoch 20\n",
      "-------------------------------\n",
      "loss: 0.049200  [  128/133152]\n",
      "loss: 0.038798  [12928/133152]\n",
      "loss: 0.025478  [25728/133152]\n",
      "loss: 0.032224  [38528/133152]\n",
      "loss: 0.043777  [51328/133152]\n",
      "loss: 0.028811  [64128/133152]\n",
      "loss: 0.046366  [76928/133152]\n",
      "loss: 0.011414  [89728/133152]\n",
      "loss: 0.022014  [102528/133152]\n",
      "loss: 0.022145  [115328/133152]\n",
      "loss: 0.045842  [128128/133152]\n",
      "Test Error: \n",
      " Accuracy: 94.0%, Avg loss: 1.877716 \n",
      "\n",
      "Epoch 21\n",
      "-------------------------------\n",
      "loss: 0.040843  [  128/133152]\n",
      "loss: 0.036312  [12928/133152]\n",
      "loss: 0.030024  [25728/133152]\n",
      "loss: 0.022993  [38528/133152]\n",
      "loss: 0.039948  [51328/133152]\n",
      "loss: 0.045317  [64128/133152]\n",
      "loss: 0.042209  [76928/133152]\n",
      "loss: 0.007882  [89728/133152]\n",
      "loss: 0.033742  [102528/133152]\n",
      "loss: 0.019706  [115328/133152]\n",
      "loss: 0.046646  [128128/133152]\n",
      "Test Error: \n",
      " Accuracy: 94.0%, Avg loss: 1.877853 \n",
      "\n",
      "Epoch 22\n",
      "-------------------------------\n",
      "loss: 0.046629  [  128/133152]\n",
      "loss: 0.042712  [12928/133152]\n",
      "loss: 0.028511  [25728/133152]\n",
      "loss: 0.025316  [38528/133152]\n",
      "loss: 0.052669  [51328/133152]\n",
      "loss: 0.033681  [64128/133152]\n",
      "loss: 0.024816  [76928/133152]\n",
      "loss: 0.009380  [89728/133152]\n",
      "loss: 0.033221  [102528/133152]\n",
      "loss: 0.020764  [115328/133152]\n",
      "loss: 0.101721  [128128/133152]\n",
      "Test Error: \n",
      " Accuracy: 94.0%, Avg loss: 1.877889 \n",
      "\n",
      "Epoch 23\n",
      "-------------------------------\n",
      "loss: 0.048736  [  128/133152]\n",
      "loss: 0.034570  [12928/133152]\n",
      "loss: 0.020725  [25728/133152]\n",
      "loss: 0.027630  [38528/133152]\n",
      "loss: 0.035661  [51328/133152]\n",
      "loss: 0.056091  [64128/133152]\n",
      "loss: 0.023718  [76928/133152]\n",
      "loss: 0.011311  [89728/133152]\n",
      "loss: 0.039703  [102528/133152]\n",
      "loss: 0.033193  [115328/133152]\n",
      "loss: 0.051064  [128128/133152]\n",
      "Test Error: \n",
      " Accuracy: 94.0%, Avg loss: 1.877840 \n",
      "\n",
      "Epoch 24\n",
      "-------------------------------\n",
      "loss: 0.030210  [  128/133152]\n",
      "loss: 0.045747  [12928/133152]\n",
      "loss: 0.029774  [25728/133152]\n",
      "loss: 0.013828  [38528/133152]\n",
      "loss: 0.046197  [51328/133152]\n",
      "loss: 0.028291  [64128/133152]\n",
      "loss: 0.033098  [76928/133152]\n",
      "loss: 0.007190  [89728/133152]\n",
      "loss: 0.031361  [102528/133152]\n",
      "loss: 0.029690  [115328/133152]\n",
      "loss: 0.060894  [128128/133152]\n",
      "Test Error: \n",
      " Accuracy: 94.0%, Avg loss: 1.877627 \n",
      "\n",
      "Epoch 25\n",
      "-------------------------------\n",
      "loss: 0.053284  [  128/133152]\n",
      "loss: 0.047376  [12928/133152]\n",
      "loss: 0.017489  [25728/133152]\n",
      "loss: 0.034956  [38528/133152]\n",
      "loss: 0.040612  [51328/133152]\n",
      "loss: 0.038183  [64128/133152]\n",
      "loss: 0.022050  [76928/133152]\n",
      "loss: 0.011933  [89728/133152]\n",
      "loss: 0.025728  [102528/133152]\n",
      "loss: 0.020141  [115328/133152]\n",
      "loss: 0.049584  [128128/133152]\n",
      "Test Error: \n",
      " Accuracy: 94.0%, Avg loss: 1.877372 \n",
      "\n",
      "Epoch 26\n",
      "-------------------------------\n",
      "loss: 0.053122  [  128/133152]\n",
      "loss: 0.060925  [12928/133152]\n",
      "loss: 0.026021  [25728/133152]\n",
      "loss: 0.019303  [38528/133152]\n",
      "loss: 0.046723  [51328/133152]\n",
      "loss: 0.028384  [64128/133152]\n",
      "loss: 0.042813  [76928/133152]\n",
      "loss: 0.007239  [89728/133152]\n",
      "loss: 0.030192  [102528/133152]\n",
      "loss: 0.061664  [115328/133152]\n",
      "loss: 0.045340  [128128/133152]\n",
      "Test Error: \n",
      " Accuracy: 94.0%, Avg loss: 1.877041 \n",
      "\n",
      "Epoch 27\n",
      "-------------------------------\n",
      "loss: 0.047657  [  128/133152]\n",
      "loss: 0.049773  [12928/133152]\n",
      "loss: 0.068908  [25728/133152]\n",
      "loss: 0.018106  [38528/133152]\n",
      "loss: 0.047119  [51328/133152]\n",
      "loss: 0.035942  [64128/133152]\n",
      "loss: 0.098819  [76928/133152]\n",
      "loss: 0.010333  [89728/133152]\n",
      "loss: 0.039319  [102528/133152]\n",
      "loss: 0.033197  [115328/133152]\n",
      "loss: 0.045160  [128128/133152]\n",
      "Test Error: \n",
      " Accuracy: 94.0%, Avg loss: 1.877102 \n",
      "\n",
      "Epoch 28\n",
      "-------------------------------\n",
      "loss: 0.039854  [  128/133152]\n",
      "loss: 0.054700  [12928/133152]\n",
      "loss: 0.024743  [25728/133152]\n",
      "loss: 0.023135  [38528/133152]\n",
      "loss: 0.056881  [51328/133152]\n",
      "loss: 0.031750  [64128/133152]\n",
      "loss: 0.034514  [76928/133152]\n",
      "loss: 0.012206  [89728/133152]\n",
      "loss: 0.031348  [102528/133152]\n",
      "loss: 0.027972  [115328/133152]\n",
      "loss: 0.046141  [128128/133152]\n",
      "Test Error: \n",
      " Accuracy: 94.0%, Avg loss: 1.877536 \n",
      "\n",
      "Epoch 29\n",
      "-------------------------------\n",
      "loss: 0.091444  [  128/133152]\n",
      "loss: 0.047984  [12928/133152]\n",
      "loss: 0.027563  [25728/133152]\n",
      "loss: 0.021546  [38528/133152]\n",
      "loss: 0.048266  [51328/133152]\n",
      "loss: 0.037463  [64128/133152]\n",
      "loss: 0.028362  [76928/133152]\n",
      "loss: 0.017588  [89728/133152]\n",
      "loss: 0.030990  [102528/133152]\n",
      "loss: 0.029989  [115328/133152]\n",
      "loss: 0.062289  [128128/133152]\n",
      "Test Error: \n",
      " Accuracy: 94.0%, Avg loss: 1.877444 \n",
      "\n",
      "Epoch 30\n",
      "-------------------------------\n",
      "loss: 0.034539  [  128/133152]\n",
      "loss: 0.059658  [12928/133152]\n",
      "loss: 0.029240  [25728/133152]\n",
      "loss: 0.027521  [38528/133152]\n",
      "loss: 0.047452  [51328/133152]\n",
      "loss: 0.040193  [64128/133152]\n",
      "loss: 0.020724  [76928/133152]\n",
      "loss: 0.053067  [89728/133152]\n",
      "loss: 0.042026  [102528/133152]\n",
      "loss: 0.024257  [115328/133152]\n",
      "loss: 0.057799  [128128/133152]\n",
      "Test Error: \n",
      " Accuracy: 94.0%, Avg loss: 1.877337 \n",
      "\n",
      "Epoch 31\n",
      "-------------------------------\n",
      "loss: 0.034762  [  128/133152]\n",
      "loss: 0.042748  [12928/133152]\n",
      "loss: 0.027679  [25728/133152]\n",
      "loss: 0.016173  [38528/133152]\n",
      "loss: 0.042838  [51328/133152]\n",
      "loss: 0.030651  [64128/133152]\n",
      "loss: 0.025343  [76928/133152]\n",
      "loss: 0.009798  [89728/133152]\n",
      "loss: 0.035438  [102528/133152]\n",
      "loss: 0.022035  [115328/133152]\n",
      "loss: 0.042674  [128128/133152]\n",
      "Test Error: \n",
      " Accuracy: 94.0%, Avg loss: 1.877091 \n",
      "\n",
      "Epoch 32\n",
      "-------------------------------\n",
      "loss: 0.042150  [  128/133152]\n",
      "loss: 0.051390  [12928/133152]\n",
      "loss: 0.025552  [25728/133152]\n",
      "loss: 0.020781  [38528/133152]\n",
      "loss: 0.036366  [51328/133152]\n",
      "loss: 0.038223  [64128/133152]\n",
      "loss: 0.028846  [76928/133152]\n",
      "loss: 0.014355  [89728/133152]\n",
      "loss: 0.031083  [102528/133152]\n",
      "loss: 0.019435  [115328/133152]\n",
      "loss: 0.056957  [128128/133152]\n",
      "Test Error: \n",
      " Accuracy: 94.0%, Avg loss: 1.876913 \n",
      "\n",
      "Epoch 33\n",
      "-------------------------------\n",
      "loss: 0.048076  [  128/133152]\n",
      "loss: 0.045275  [12928/133152]\n",
      "loss: 0.024065  [25728/133152]\n",
      "loss: 0.031513  [38528/133152]\n",
      "loss: 0.042092  [51328/133152]\n",
      "loss: 0.050707  [64128/133152]\n",
      "loss: 0.031834  [76928/133152]\n",
      "loss: 0.010376  [89728/133152]\n",
      "loss: 0.024199  [102528/133152]\n",
      "loss: 0.021542  [115328/133152]\n",
      "loss: 0.053080  [128128/133152]\n",
      "Test Error: \n",
      " Accuracy: 94.0%, Avg loss: 1.876104 \n",
      "\n",
      "Epoch 34\n",
      "-------------------------------\n",
      "loss: 0.044339  [  128/133152]\n",
      "loss: 0.036058  [12928/133152]\n",
      "loss: 0.046189  [25728/133152]\n",
      "loss: 0.031651  [38528/133152]\n",
      "loss: 0.046103  [51328/133152]\n",
      "loss: 0.033264  [64128/133152]\n",
      "loss: 0.016722  [76928/133152]\n",
      "loss: 0.007160  [89728/133152]\n",
      "loss: 0.032119  [102528/133152]\n",
      "loss: 0.019846  [115328/133152]\n",
      "loss: 0.059945  [128128/133152]\n",
      "Test Error: \n",
      " Accuracy: 94.0%, Avg loss: 1.876203 \n",
      "\n",
      "Epoch 35\n",
      "-------------------------------\n",
      "loss: 0.051040  [  128/133152]\n",
      "loss: 0.046428  [12928/133152]\n",
      "loss: 0.018372  [25728/133152]\n",
      "loss: 0.026653  [38528/133152]\n",
      "loss: 0.047133  [51328/133152]\n",
      "loss: 0.044739  [64128/133152]\n",
      "loss: 0.027325  [76928/133152]\n",
      "loss: 0.008937  [89728/133152]\n",
      "loss: 0.035552  [102528/133152]\n",
      "loss: 0.024528  [115328/133152]\n",
      "loss: 0.055037  [128128/133152]\n",
      "Test Error: \n",
      " Accuracy: 94.0%, Avg loss: 1.876306 \n",
      "\n",
      "Epoch 36\n",
      "-------------------------------\n",
      "loss: 0.030943  [  128/133152]\n",
      "loss: 0.047680  [12928/133152]\n",
      "loss: 0.017281  [25728/133152]\n",
      "loss: 0.029202  [38528/133152]\n",
      "loss: 0.046004  [51328/133152]\n",
      "loss: 0.041572  [64128/133152]\n",
      "loss: 0.024325  [76928/133152]\n",
      "loss: 0.007570  [89728/133152]\n",
      "loss: 0.043890  [102528/133152]\n",
      "loss: 0.027676  [115328/133152]\n",
      "loss: 0.053075  [128128/133152]\n",
      "Test Error: \n",
      " Accuracy: 94.0%, Avg loss: 1.876333 \n",
      "\n",
      "Epoch 37\n",
      "-------------------------------\n",
      "loss: 0.038028  [  128/133152]\n",
      "loss: 0.049885  [12928/133152]\n",
      "loss: 0.030140  [25728/133152]\n",
      "loss: 0.036129  [38528/133152]\n",
      "loss: 0.043174  [51328/133152]\n",
      "loss: 0.044246  [64128/133152]\n",
      "loss: 0.035002  [76928/133152]\n",
      "loss: 0.018143  [89728/133152]\n",
      "loss: 0.039502  [102528/133152]\n",
      "loss: 0.020923  [115328/133152]\n",
      "loss: 0.036987  [128128/133152]\n",
      "Test Error: \n",
      " Accuracy: 94.0%, Avg loss: 1.876537 \n",
      "\n",
      "Epoch 38\n",
      "-------------------------------\n",
      "loss: 0.040768  [  128/133152]\n",
      "loss: 0.057146  [12928/133152]\n",
      "loss: 0.019336  [25728/133152]\n",
      "loss: 0.025623  [38528/133152]\n",
      "loss: 0.038317  [51328/133152]\n",
      "loss: 0.029779  [64128/133152]\n",
      "loss: 0.038850  [76928/133152]\n",
      "loss: 0.007750  [89728/133152]\n",
      "loss: 0.037699  [102528/133152]\n",
      "loss: 0.024553  [115328/133152]\n",
      "loss: 0.041251  [128128/133152]\n",
      "Test Error: \n",
      " Accuracy: 94.0%, Avg loss: 1.876673 \n",
      "\n",
      "Epoch 39\n",
      "-------------------------------\n",
      "loss: 0.034581  [  128/133152]\n",
      "loss: 0.042851  [12928/133152]\n",
      "loss: 0.020453  [25728/133152]\n",
      "loss: 0.023974  [38528/133152]\n",
      "loss: 0.067769  [51328/133152]\n",
      "loss: 0.036290  [64128/133152]\n",
      "loss: 0.027928  [76928/133152]\n",
      "loss: 0.008920  [89728/133152]\n",
      "loss: 0.032930  [102528/133152]\n",
      "loss: 0.032386  [115328/133152]\n",
      "loss: 0.058497  [128128/133152]\n",
      "Test Error: \n",
      " Accuracy: 94.0%, Avg loss: 1.876903 \n",
      "\n",
      "No improvement. Breaking out of loop.\n",
      "Ya quedó.\n"
     ]
    }
   ],
   "source": [
    "epochs = 1000\n",
    "best_metric = 0\n",
    "n_no_improve = 0\n",
    "\n",
    "for t in range(epochs):\n",
    "    print(f\"Epoch {t+1}\\n-------------------------------\")\n",
    "    train(train_dataloader, model, criterion, optimizer)\n",
    "    tuning_metric = test(test_dataloader, model, criterion)\n",
    "    \n",
    "    # Update the scheduler\n",
    "    scheduler.step(tuning_metric)\n",
    "    \n",
    "    # Save model checkpoint\n",
    "    is_best = tuning_metric > best_metric\n",
    "    if is_best:\n",
    "        best_metric = tuning_metric\n",
    "        n_no_improve = 0\n",
    "    else:\n",
    "        n_no_improve += 1\n",
    "    \n",
    "    save_checkpoint({\n",
    "        \"epoch\": t + 1,\n",
    "        \"state_dict\": model.state_dict(),\n",
    "        \"best_metric\": best_metric,\n",
    "        \"optimizer\": optimizer.state_dict(),\n",
    "    }, is_best, arg.savedir, \n",
    "                    filename=\"checkpoint_on_2500_tfidf.pth\", \n",
    "                    best_filename=\"model-best_on_2500_tfidf.pth\")\n",
    "    \n",
    "    if n_no_improve >= arg.patience:\n",
    "        print(\"No improvement. Breaking out of loop.\")\n",
    "        break\n",
    "    \n",
    "print(\"Ya quedó.\")"
   ]
  },
  {
   "cell_type": "code",
   "execution_count": null,
   "metadata": {},
   "outputs": [],
   "source": []
  }
 ],
 "metadata": {
  "kernelspec": {
   "display_name": "pytorch_env",
   "language": "python",
   "name": "python3"
  },
  "language_info": {
   "codemirror_mode": {
    "name": "ipython",
    "version": 3
   },
   "file_extension": ".py",
   "mimetype": "text/x-python",
   "name": "python",
   "nbconvert_exporter": "python",
   "pygments_lexer": "ipython3",
   "version": "3.12.9"
  }
 },
 "nbformat": 4,
 "nbformat_minor": 2
}
