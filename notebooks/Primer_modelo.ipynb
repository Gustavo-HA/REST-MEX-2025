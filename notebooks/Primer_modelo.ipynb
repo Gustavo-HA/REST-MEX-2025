{
 "cells": [
  {
   "cell_type": "code",
   "execution_count": 1,
   "metadata": {},
   "outputs": [],
   "source": [
    "import pandas as pd\n",
    "import numpy as np\n",
    "import matplotlib.pyplot as plt\n",
    "import torch\n",
    "import torch.nn as nn\n",
    "import torch.optim as optim\n",
    "import torch.nn.functional as F\n",
    "from torch.utils.data import DataLoader, Dataset\n",
    "from sklearn.model_selection import train_test_split\n",
    "from sklearn.decomposition import PCA\n",
    "from sklearn.preprocessing import LabelEncoder\n",
    "from sklearn.feature_extraction.text import TfidfVectorizer\n",
    "import re\n",
    "import string\n",
    "import nltk\n",
    "from nltk.corpus import stopwords\n",
    "\n",
    "from argparse import Namespace\n",
    "arg = Namespace()\n",
    "\n",
    "import sys\n",
    "import os\n",
    "\n",
    "if os.path.abspath(\"../src\") not in sys.path:\n",
    "    sys.path.append(os.path.abspath(\"../src\"))\n",
    "\n",
    "import preprocessing as pp\n",
    "\n"
   ]
  },
  {
   "cell_type": "code",
   "execution_count": 2,
   "metadata": {},
   "outputs": [
    {
     "data": {
      "application/vnd.microsoft.datawrangler.viewer.v0+json": {
       "columns": [
        {
         "name": "index",
         "rawType": "int64",
         "type": "integer"
        },
        {
         "name": "Title",
         "rawType": "object",
         "type": "string"
        },
        {
         "name": "Review",
         "rawType": "object",
         "type": "string"
        },
        {
         "name": "Polarity",
         "rawType": "float64",
         "type": "float"
        },
        {
         "name": "Town",
         "rawType": "object",
         "type": "string"
        },
        {
         "name": "Region",
         "rawType": "object",
         "type": "string"
        },
        {
         "name": "Type",
         "rawType": "object",
         "type": "string"
        }
       ],
       "conversionMethod": "pd.DataFrame",
       "ref": "54219849-c6b5-4609-bac6-031f89e8f19e",
       "rows": [
        [
         "0",
         "Mi Lugar Favorito!!!!",
         "Excelente lugar para comer y pasar una buena noche!!!\nEl servicio es de primera y la comida exquisita!!!",
         "5.0",
         "Sayulita",
         "Nayarit",
         "Restaurant"
        ],
        [
         "1",
         "lugares interesantes para visitar",
         "andar mucho, así que un poco difícil para personas con niños pequeños, pero con mucha historia en la zona, y la diversión de aprender un poco de todo, y explorar las ruinas. La playa también era bastante agradable!",
         "4.0",
         "Tulum",
         "QuintanaRoo",
         "Attractive"
        ],
        [
         "2",
         "No es el mismo Dreams ",
         "Es nuestra cuarta visita a Dreams Tulum, elegimos este hotel para festejar mi cumpleaños ya que en este hotel nos comprometimos y casamos y tenemos un cariño muy especial por este lugar, pero mostramos que cambiaron las cosas.  En cuestión de instalaciones sigue perfecto!! La playa muy limpia a pesar del sargazo ( es una cuestión natural incontrolable).   Pero en la amabilidad y servicio que los distinguía lo han perdido bastante, los empleados andan corriendo por todos lados, gritando de un lado a otro tratando de organizarse y pasamos varios detalles como por ejemplo mi esposo pidió un juego verde y la mesera le contestó que se parara él que estaba en la esquina porque solo se llevaba el café!! Eso jamás hubiera pasado en el Dreams de antes!!! Cuando uno se topaba al staff del",
         "3.0",
         "Tulum",
         "QuintanaRoo",
         "Hotel"
        ],
        [
         "3",
         "un buen panorama cerca de CancÃºn",
         "Estando en CancÃºn, fuimos al puerto y tomamos un Ferry a la Isla Mujeres.....despuÃ©s de un corto viaje, llegamos a esta pequeÃ±a isla, donde todo el mundo se desplaza en moto, carritos de golf, bicicleta o simplemente caminando.La recorrimos durante un rato y terminamos en la Playa Norte, donde pasamos la tarde recostadas sobre la arena y baÃ±Ã¡ndonos en el mar...... el agua tiene muy poca profundidad, por lo que puedes adentrarte mucho en el mar simplemente caminando.Si estÃ¡s en CancÃºn, te recomiendo destinar medio dÃ­a para conocer esta simpÃ¡tica isla.",
         "4.0",
         "Isla_Mujeres",
         "QuintanaRoo",
         "Attractive"
        ],
        [
         "4",
         "El mejor",
         "Es un lugar antiguo y por eso me encanto tiene un área de juegos gigante en la cual hay boliche, ping pong, mesas de cartas, dominó. Esta super céntrico Pase ahí año nuevo y la fiesta fue increíble También te prestan bicis para que visites la ciudad",
         "5.0",
         "Patzcuaro",
         "Michoacan",
         "Hotel"
        ]
       ],
       "shape": {
        "columns": 6,
        "rows": 5
       }
      },
      "text/html": [
       "<div>\n",
       "<style scoped>\n",
       "    .dataframe tbody tr th:only-of-type {\n",
       "        vertical-align: middle;\n",
       "    }\n",
       "\n",
       "    .dataframe tbody tr th {\n",
       "        vertical-align: top;\n",
       "    }\n",
       "\n",
       "    .dataframe thead th {\n",
       "        text-align: right;\n",
       "    }\n",
       "</style>\n",
       "<table border=\"1\" class=\"dataframe\">\n",
       "  <thead>\n",
       "    <tr style=\"text-align: right;\">\n",
       "      <th></th>\n",
       "      <th>Title</th>\n",
       "      <th>Review</th>\n",
       "      <th>Polarity</th>\n",
       "      <th>Town</th>\n",
       "      <th>Region</th>\n",
       "      <th>Type</th>\n",
       "    </tr>\n",
       "  </thead>\n",
       "  <tbody>\n",
       "    <tr>\n",
       "      <th>0</th>\n",
       "      <td>Mi Lugar Favorito!!!!</td>\n",
       "      <td>Excelente lugar para comer y pasar una buena n...</td>\n",
       "      <td>5.0</td>\n",
       "      <td>Sayulita</td>\n",
       "      <td>Nayarit</td>\n",
       "      <td>Restaurant</td>\n",
       "    </tr>\n",
       "    <tr>\n",
       "      <th>1</th>\n",
       "      <td>lugares interesantes para visitar</td>\n",
       "      <td>andar mucho, así que un poco difícil para pers...</td>\n",
       "      <td>4.0</td>\n",
       "      <td>Tulum</td>\n",
       "      <td>QuintanaRoo</td>\n",
       "      <td>Attractive</td>\n",
       "    </tr>\n",
       "    <tr>\n",
       "      <th>2</th>\n",
       "      <td>No es el mismo Dreams</td>\n",
       "      <td>Es nuestra cuarta visita a Dreams Tulum, elegi...</td>\n",
       "      <td>3.0</td>\n",
       "      <td>Tulum</td>\n",
       "      <td>QuintanaRoo</td>\n",
       "      <td>Hotel</td>\n",
       "    </tr>\n",
       "    <tr>\n",
       "      <th>3</th>\n",
       "      <td>un buen panorama cerca de CancÃºn</td>\n",
       "      <td>Estando en CancÃºn, fuimos al puerto y tomamos...</td>\n",
       "      <td>4.0</td>\n",
       "      <td>Isla_Mujeres</td>\n",
       "      <td>QuintanaRoo</td>\n",
       "      <td>Attractive</td>\n",
       "    </tr>\n",
       "    <tr>\n",
       "      <th>4</th>\n",
       "      <td>El mejor</td>\n",
       "      <td>Es un lugar antiguo y por eso me encanto tiene...</td>\n",
       "      <td>5.0</td>\n",
       "      <td>Patzcuaro</td>\n",
       "      <td>Michoacan</td>\n",
       "      <td>Hotel</td>\n",
       "    </tr>\n",
       "  </tbody>\n",
       "</table>\n",
       "</div>"
      ],
      "text/plain": [
       "                               Title  \\\n",
       "0              Mi Lugar Favorito!!!!   \n",
       "1  lugares interesantes para visitar   \n",
       "2             No es el mismo Dreams    \n",
       "3  un buen panorama cerca de CancÃºn   \n",
       "4                           El mejor   \n",
       "\n",
       "                                              Review  Polarity          Town  \\\n",
       "0  Excelente lugar para comer y pasar una buena n...       5.0      Sayulita   \n",
       "1  andar mucho, así que un poco difícil para pers...       4.0         Tulum   \n",
       "2  Es nuestra cuarta visita a Dreams Tulum, elegi...       3.0         Tulum   \n",
       "3  Estando en CancÃºn, fuimos al puerto y tomamos...       4.0  Isla_Mujeres   \n",
       "4  Es un lugar antiguo y por eso me encanto tiene...       5.0     Patzcuaro   \n",
       "\n",
       "        Region        Type  \n",
       "0      Nayarit  Restaurant  \n",
       "1  QuintanaRoo  Attractive  \n",
       "2  QuintanaRoo       Hotel  \n",
       "3  QuintanaRoo  Attractive  \n",
       "4    Michoacan       Hotel  "
      ]
     },
     "execution_count": 2,
     "metadata": {},
     "output_type": "execute_result"
    }
   ],
   "source": [
    "df = pd.read_csv(\"../data/Rest-Mex_2025_train.csv\")\n",
    "df.head()"
   ]
  },
  {
   "cell_type": "markdown",
   "metadata": {},
   "source": [
    "### Preprocesado"
   ]
  },
  {
   "cell_type": "code",
   "execution_count": 3,
   "metadata": {},
   "outputs": [
    {
     "name": "stdout",
     "output_type": "stream",
     "text": [
      "un buen panorama cerca de CancÃºn\n",
      "un buen panorama cerca de Cancún\n"
     ]
    }
   ],
   "source": [
    "# Arregla los mojibakes\n",
    "print(df[\"Title\"].iloc[3])\n",
    "df['Title'] = df['Title'].fillna('').apply(pp.arregla_mojibake)\n",
    "df['Review'] = df['Review'].fillna('').apply(pp.arregla_mojibake)\n",
    "print(df[\"Title\"].iloc[3])"
   ]
  },
  {
   "cell_type": "code",
   "execution_count": 4,
   "metadata": {},
   "outputs": [],
   "source": [
    "# Quita stopwords\n",
    "df['Texto_Limpio'] = (df['Title'].fillna('') + ' ' + df['Review'].fillna('')).apply(pp.quita_stopwords)"
   ]
  },
  {
   "cell_type": "code",
   "execution_count": 5,
   "metadata": {},
   "outputs": [
    {
     "data": {
      "application/vnd.microsoft.datawrangler.viewer.v0+json": {
       "columns": [
        {
         "name": "index",
         "rawType": "int64",
         "type": "integer"
        },
        {
         "name": "Texto_Limpio",
         "rawType": "object",
         "type": "string"
        },
        {
         "name": "Type",
         "rawType": "object",
         "type": "string"
        }
       ],
       "conversionMethod": "pd.DataFrame",
       "ref": "367a5858-3f0c-4569-b374-cc1212d6ca70",
       "rows": [
        [
         "0",
         "lugar favorito excelente lugar comer pasar buena noche servicio primera comida exquisita",
         "Restaurant"
        ],
        [
         "1",
         "lugares interesantes visitar andar así difícil personas niños pequeños mucha historia zona diversión aprender explorar ruinas playa bastante agradable",
         "Attractive"
        ],
        [
         "2",
         "mismo dreams cuarta visita dreams tulum elegimos hotel festejar cumpleaños hotel comprometimos casamos cariño especial lugar mostramos cambiaron cosas cuestión instalaciones sigue perfecto playa limpia pesar sargazo cuestión natural incontrolable amabilidad servicio distinguía perdido bastante empleados andan corriendo lados gritando lado tratando organizarse pasamos varios detalles ejemplo esposo pidió juego verde mesera contestó parara esquina solo llevaba café jamás pasado dreams topaba staff",
         "Hotel"
        ],
        [
         "3",
         "buen panorama cerca cancún cancún puerto tomamos ferry isla mujeresdespués corto viaje llegamos pequeña isla mundo desplaza moto carritos golf bicicleta simplemente caminandola recorrimos rato terminamos playa norte pasamos tarde recostadas arena bañándonos mar agua poca profundidad puedes adentrarte mar simplemente caminandosi cancún recomiendo destinar medio día conocer simpática isla",
         "Attractive"
        ],
        [
         "4",
         "mejor lugar antiguo encanto área juegos gigante boliche ping pong mesas cartas dominó super céntrico pase ahí año nuevo fiesta increíble prestan bicis visites ciudad",
         "Hotel"
        ]
       ],
       "shape": {
        "columns": 2,
        "rows": 5
       }
      },
      "text/html": [
       "<div>\n",
       "<style scoped>\n",
       "    .dataframe tbody tr th:only-of-type {\n",
       "        vertical-align: middle;\n",
       "    }\n",
       "\n",
       "    .dataframe tbody tr th {\n",
       "        vertical-align: top;\n",
       "    }\n",
       "\n",
       "    .dataframe thead th {\n",
       "        text-align: right;\n",
       "    }\n",
       "</style>\n",
       "<table border=\"1\" class=\"dataframe\">\n",
       "  <thead>\n",
       "    <tr style=\"text-align: right;\">\n",
       "      <th></th>\n",
       "      <th>Texto_Limpio</th>\n",
       "      <th>Type</th>\n",
       "    </tr>\n",
       "  </thead>\n",
       "  <tbody>\n",
       "    <tr>\n",
       "      <th>0</th>\n",
       "      <td>lugar favorito excelente lugar comer pasar bue...</td>\n",
       "      <td>Restaurant</td>\n",
       "    </tr>\n",
       "    <tr>\n",
       "      <th>1</th>\n",
       "      <td>lugares interesantes visitar andar así difícil...</td>\n",
       "      <td>Attractive</td>\n",
       "    </tr>\n",
       "    <tr>\n",
       "      <th>2</th>\n",
       "      <td>mismo dreams cuarta visita dreams tulum elegim...</td>\n",
       "      <td>Hotel</td>\n",
       "    </tr>\n",
       "    <tr>\n",
       "      <th>3</th>\n",
       "      <td>buen panorama cerca cancún cancún puerto tomam...</td>\n",
       "      <td>Attractive</td>\n",
       "    </tr>\n",
       "    <tr>\n",
       "      <th>4</th>\n",
       "      <td>mejor lugar antiguo encanto área juegos gigant...</td>\n",
       "      <td>Hotel</td>\n",
       "    </tr>\n",
       "  </tbody>\n",
       "</table>\n",
       "</div>"
      ],
      "text/plain": [
       "                                        Texto_Limpio        Type\n",
       "0  lugar favorito excelente lugar comer pasar bue...  Restaurant\n",
       "1  lugares interesantes visitar andar así difícil...  Attractive\n",
       "2  mismo dreams cuarta visita dreams tulum elegim...       Hotel\n",
       "3  buen panorama cerca cancún cancún puerto tomam...  Attractive\n",
       "4  mejor lugar antiguo encanto área juegos gigant...       Hotel"
      ]
     },
     "execution_count": 5,
     "metadata": {},
     "output_type": "execute_result"
    }
   ],
   "source": [
    "df_targetType = pd.concat([df[\"Texto_Limpio\"], df[\"Type\"]], axis = 1)\n",
    "df_targetType.head()"
   ]
  },
  {
   "cell_type": "code",
   "execution_count": 12,
   "metadata": {},
   "outputs": [
    {
     "name": "stdout",
     "output_type": "stream",
     "text": [
      "['Attractive' 'Hotel' 'Restaurant']\n"
     ]
    }
   ],
   "source": [
    "# Label Encoder\n",
    "le = LabelEncoder()\n",
    "le.fit(df_targetType[\"Type\"])\n",
    "print(le.classes_)"
   ]
  },
  {
   "cell_type": "code",
   "execution_count": 13,
   "metadata": {},
   "outputs": [
    {
     "data": {
      "text/plain": [
       "array(['abajo', 'abierta', 'abierto', ..., 'único', 'único inconveniente',\n",
       "       'únicos'], dtype=object)"
      ]
     },
     "execution_count": 13,
     "metadata": {},
     "output_type": "execute_result"
    }
   ],
   "source": [
    "# Vectorizer TFIDF\n",
    "arg.tfidf_max_features = 2500\n",
    "arg.tfidf_ngram_range = (1, 2)\n",
    "arg.token_pattern=r'(?u)\\b[^\\d\\W]+\\b'\n",
    "\n",
    "tfidf_vectorizer = TfidfVectorizer(max_features=arg.tfidf_max_features, \n",
    "                                   ngram_range=arg.tfidf_ngram_range, \n",
    "                                   token_pattern=arg.token_pattern)\n",
    "tfidf_vectorizer.fit(df_targetType[\"Texto_Limpio\"])\n",
    "tfidf_vectorizer.get_feature_names_out()"
   ]
  },
  {
   "cell_type": "code",
   "execution_count": 8,
   "metadata": {},
   "outputs": [],
   "source": [
    "class restaurantTargetTipo(Dataset):\n",
    "    def __init__(self, data : pd.DataFrame, vectorizer, label_encoder,\n",
    "                 use_pca = False, pca = None, n_components = 3):\n",
    "        self.data = data\n",
    "        self.n_samples = len(data)\n",
    "        \n",
    "        # Transform text to TF-IDF vectors\n",
    "        tfidf_matrix = vectorizer.transform(data[\"Texto_Limpio\"])\n",
    "\n",
    "        if use_pca:\n",
    "            pca.fit(tfidf_matrix.toarray())\n",
    "            self.X = torch.tensor(pca.transform(tfidf_matrix.toarray()), dtype=torch.float32)\n",
    "            self.fitted_pca = pca\n",
    "        else:\n",
    "            self.X = torch.tensor(tfidf_matrix.toarray(), dtype=torch.float32)\n",
    "            self.fitted_pca = None\n",
    "        \n",
    "        # Transform labels to numbers\n",
    "        self.y = torch.tensor(label_encoder.transform(data[\"Type\"]),\n",
    "                              dtype=torch.long)\n",
    "\n",
    "    def __len__(self):\n",
    "        return self.n_samples\n",
    "\n",
    "    def __getitem__(self, idx):\n",
    "        return self.X[idx], self.y[idx]"
   ]
  },
  {
   "cell_type": "code",
   "execution_count": 9,
   "metadata": {},
   "outputs": [],
   "source": [
    "arg.use_pca = True\n",
    "arg.pca_n_components = 3\n",
    "arg.pca = PCA(n_components=arg.pca_n_components)\n",
    "\n",
    "dataset = restaurantTargetTipo(df_targetType, tfidf_vectorizer, le,\n",
    "                               use_pca=arg.use_pca, pca=arg.pca,\n",
    "                               n_components=arg.pca_n_components)"
   ]
  }
 ],
 "metadata": {
  "kernelspec": {
   "display_name": "pytorch_env",
   "language": "python",
   "name": "python3"
  },
  "language_info": {
   "codemirror_mode": {
    "name": "ipython",
    "version": 3
   },
   "file_extension": ".py",
   "mimetype": "text/x-python",
   "name": "python",
   "nbconvert_exporter": "python",
   "pygments_lexer": "ipython3",
   "version": "3.12.9"
  }
 },
 "nbformat": 4,
 "nbformat_minor": 2
}
