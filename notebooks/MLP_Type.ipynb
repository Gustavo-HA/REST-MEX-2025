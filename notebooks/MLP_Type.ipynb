{
 "cells": [
  {
   "cell_type": "markdown",
   "id": "82904317",
   "metadata": {},
   "source": [
    "## Realizamos las predicciones del dataset de evaluacion con un Multilayer Perceptron + Word2Vec para 'Type'"
   ]
  },
  {
   "cell_type": "markdown",
   "id": "a873a077",
   "metadata": {},
   "source": [
    "### Cargamos Dataset de Entrenamiento y de Evaluacion"
   ]
  },
  {
   "cell_type": "code",
   "execution_count": 4,
   "id": "69b3967b",
   "metadata": {},
   "outputs": [],
   "source": [
    "import pandas as pd\n",
    "import numpy as np\n",
    "import os\n",
    "# Ruta de lectura\n",
    "ruta = r\"C:\\Users\\uzgre\\Escritorio\"\n",
    "archivo = os.path.join(ruta, \"Train_Limpio.csv\") \n",
    "\n",
    "with open(archivo, 'r', encoding='utf-8', errors='replace') as f:\n",
    "    Data_train = pd.read_csv(f)\n",
    "\n",
    "archivo = os.path.join(ruta, \"Test_Limpio.csv\")\n",
    "with open(archivo, 'r', encoding='utf-8', errors='replace') as f:\n",
    "    Data_test = pd.read_csv(f)"
   ]
  },
  {
   "cell_type": "markdown",
   "id": "38e4a895",
   "metadata": {},
   "source": [
    "### Representacion Word2Vec"
   ]
  },
  {
   "cell_type": "code",
   "execution_count": 5,
   "id": "0fafac76",
   "metadata": {},
   "outputs": [],
   "source": [
    "from gensim.models import Word2Vec\n",
    "def Representacion_word2vec(dataframe, model=None, vector_size=100, window=5, min_count=5, sg=1, epochs=10, train_model=True):\n",
    "    textos = dataframe['Texto_Limpio'].fillna(\"\").apply(str.split).values\n",
    "\n",
    "    if train_model:\n",
    "        model = Word2Vec(\n",
    "            sentences=textos, \n",
    "            vector_size=vector_size, \n",
    "            window=window, \n",
    "            min_count=min_count, \n",
    "            sg=sg,\n",
    "            workers=4,\n",
    "            epochs=epochs\n",
    "        )\n",
    "\n",
    "    def obtener_vector_promedio(tokens):\n",
    "        vectores = [model.wv[word] for word in tokens if word in model.wv]\n",
    "        return np.mean(vectores, axis=0) if vectores else np.zeros(model.vector_size)\n",
    "\n",
    "    vectores_documento = np.array([obtener_vector_promedio(tokens) for tokens in textos])\n",
    "    \n",
    "    return vectores_documento, model"
   ]
  },
  {
   "cell_type": "markdown",
   "id": "6047f960",
   "metadata": {},
   "source": [
    "### ENTRENAR MLP CON TODO EL TRAIN"
   ]
  },
  {
   "cell_type": "code",
   "execution_count": 6,
   "id": "77eaf474",
   "metadata": {},
   "outputs": [],
   "source": [
    "# Entrenar Word2Vec en Data_train\n",
    "X_train_vecs, w2v_model = Representacion_word2vec(Data_train, vector_size=100, window=3, min_count=5, sg=1, epochs=10, train_model=True)\n",
    "\n",
    "# Representar Data_test usando el mismo modelo entrenado\n",
    "X_test_vecs, _ = Representacion_word2vec(Data_test, model=w2v_model, train_model=False)"
   ]
  },
  {
   "cell_type": "code",
   "execution_count": null,
   "id": "abca5582",
   "metadata": {},
   "outputs": [
    {
     "name": "stdout",
     "output_type": "stream",
     "text": [
      "Archivo 'CorpusChristi_Type_Run.txt' generado exitosamente.\n"
     ]
    }
   ],
   "source": [
    "from sklearn.neural_network import MLPClassifier\n",
    "# ===============================\n",
    "y_train = Data_train['Type']\n",
    "\n",
    "mlp = MLPClassifier(\n",
    "    hidden_layer_sizes=(256, 128, 64),\n",
    "    activation='relu',\n",
    "    solver='adam',\n",
    "    alpha=1e-4,\n",
    "    learning_rate='adaptive',\n",
    "    max_iter=300,\n",
    "    random_state=42,\n",
    "    early_stopping=False  # Ahora sí, todo el train sin split\n",
    ")\n",
    "\n",
    "mlp.fit(X_train_vecs, y_train)\n",
    "\n",
    "# ===============================\n",
    "# PREDICCIONES FINALES\n",
    "# ===============================\n",
    "y_test_pred = mlp.predict(X_test_vecs)\n",
    "\n",
    "# ===============================\n",
    "# GENERAR ARCHIVO .TXT ENTREGABLE\n",
    "# ===============================\n",
    "output_file = \"CorpusChristi_Type_Run.txt\"\n",
    "\n",
    "with open(output_file, \"w\", encoding=\"utf-8\") as f:\n",
    "    for idx, row in Data_test.iterrows():\n",
    "        instance_id = row['ID']\n",
    "        predicted_class = y_test_pred[idx]  # Suponiendo que ya está en 1-5 o similar según tu variable 'Type'\n",
    "        \n",
    "        output_line = f\"rest-mex  {instance_id}  {predicted_class}\\n\"\n",
    "        f.write(output_line)\n",
    "\n",
    "print(f\"Archivo '{output_file}' generado exitosamente.\")\n"
   ]
  },
  {
   "cell_type": "code",
   "execution_count": 12,
   "id": "366ff480",
   "metadata": {},
   "outputs": [
    {
     "data": {
      "text/plain": [
       "'Una buena manera de pasar la mañana Esto era las únicas ruinas visitado que no nos guía, pero nos pareció que no era muy necesario. Escuchamos cosas y piezas de otras excursiones que pasan, y el parque fue principalmente sobre las vistas, que no puede ser mejor.'"
      ]
     },
     "execution_count": 12,
     "metadata": {},
     "output_type": "execute_result"
    }
   ],
   "source": [
    "Data_test['Texto_Leido'][5]"
   ]
  }
 ],
 "metadata": {
  "kernelspec": {
   "display_name": "base",
   "language": "python",
   "name": "python3"
  },
  "language_info": {
   "codemirror_mode": {
    "name": "ipython",
    "version": 3
   },
   "file_extension": ".py",
   "mimetype": "text/x-python",
   "name": "python",
   "nbconvert_exporter": "python",
   "pygments_lexer": "ipython3",
   "version": "3.12.7"
  }
 },
 "nbformat": 4,
 "nbformat_minor": 5
}
